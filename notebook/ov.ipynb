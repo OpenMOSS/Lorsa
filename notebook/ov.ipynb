{
 "cells": [
  {
   "cell_type": "code",
   "execution_count": 1,
   "metadata": {},
   "outputs": [],
   "source": [
    "import os\n",
    "\n",
    "os.environ['http_proxy'] = 'http://10.176.58.101:7890'\n",
    "os.environ['https_proxy'] = 'http://10.176.58.101:7890'\n",
    "\n",
    "import sys\n",
    "sys.path.append('/remote-home1/jxwang/project/lorsa/src')\n",
    "\n",
    "import torch\n",
    "from transformers import GPTNeoXForCausalLM, GPTNeoXTokenizerFast\n",
    "from transformer_lens import HookedTransformer\n",
    "from transformer_lens.HookedTransformerConfig import HookedTransformerConfig\n",
    "from transformer_lens.components import Attention\n",
    "from datasets import load_from_disk\n",
    "from torch.utils.data import DataLoader\n",
    "import torch.nn as nn\n",
    "import torch.nn.init as init\n",
    "import torch.optim as optim\n",
    "import torch.nn.functional as F\n",
    "from torch.optim.lr_scheduler import LambdaLR\n",
    "torch.set_grad_enabled(False)\n",
    "\n",
    "import copy\n",
    "\n",
    "from tqdm import tqdm\n",
    "\n",
    "import pysvelte\n",
    "import numpy as np\n",
    "\n",
    "from model.attention import LowRankSparseAttention\n",
    "from config import LoRSAConfig, LoRSATrainConfig"
   ]
  },
  {
   "cell_type": "code",
   "execution_count": 2,
   "metadata": {},
   "outputs": [
    {
     "data": {
      "application/vnd.jupyter.widget-view+json": {
       "model_id": "ece49dd24ceb4c588dcb9b441155ef62",
       "version_major": 2,
       "version_minor": 0
      },
      "text/plain": [
       "Loading dataset from disk:   0%|          | 0/80 [00:00<?, ?it/s]"
      ]
     },
     "metadata": {},
     "output_type": "display_data"
    }
   ],
   "source": [
    "# sah config\n",
    "cfg = LoRSAConfig(\n",
    "    # self attention head config\n",
    "    d_qk_head = 16,\n",
    "    d_ov_head = 1,\n",
    "    n_qk_heads = 96,\n",
    "    n_ov_heads = 1536,\n",
    "    rotary_scale = 1,\n",
    "    rotary_dim = 16,\n",
    "    top_k = 64,\n",
    "    device = \"cuda\",\n",
    "    virtual_kv_num=0,\n",
    "    \n",
    "    # orig attention head config\n",
    "    model_name = 'EleutherAI/pythia-160m',\n",
    "    layer = 5,\n",
    "    max_length = 256,\n",
    "    prepend_bos = True,\n",
    ")\n",
    "\n",
    "dataset_path = '/remote-home1/share/research/mechinterp/gpt2-dictionary/data/openwebtext'# load dataset\n",
    "dataset = load_from_disk(dataset_path)"
   ]
  },
  {
   "cell_type": "code",
   "execution_count": 18,
   "metadata": {},
   "outputs": [
    {
     "name": "stdout",
     "output_type": "stream",
     "text": [
      "Loaded pretrained model EleutherAI/pythia-160m into HookedTransformer\n"
     ]
    }
   ],
   "source": [
    "hf_model = GPTNeoXForCausalLM.from_pretrained(cfg.model_name)\n",
    "tokenizer = GPTNeoXTokenizerFast.from_pretrained(cfg.model_name)\n",
    "model = HookedTransformer.from_pretrained(cfg.model_name, hf_model=hf_model, tokenizer=tokenizer, device=cfg.device)\n",
    "model.eval()\n",
    "for param in model.parameters():\n",
    "    param.requires_grad = False\n",
    "\n",
    "# get original attention block\n",
    "orig_attn = model.blocks[cfg.layer].attn"
   ]
  },
  {
   "cell_type": "code",
   "execution_count": 19,
   "metadata": {},
   "outputs": [],
   "source": [
    "batch_size = 4\n",
    "data = DataLoader(dataset['text'], batch_size=batch_size)\n",
    "data_iter = iter(data)"
   ]
  },
  {
   "cell_type": "code",
   "execution_count": 20,
   "metadata": {},
   "outputs": [],
   "source": [
    "from lm_saes import LanguageModelSAERunnerConfig, SAEConfig\n",
    "from lm_saes.sae import SparseAutoEncoder\n",
    "\n",
    "hook_point_in = 'A'\n",
    "exp_factor = 32\n",
    "layer = cfg.layer\n",
    "\n",
    "ckpt_path = f\"/remote-home1/share/research/mechinterp/pythia-160m-LX{hook_point_in}-{exp_factor}x-topk\"\n",
    "ckpt_path = os.path.join(ckpt_path, f\"Pythia-160m-L{layer}{hook_point_in}-{exp_factor}x-lr0.001\")\n",
    "sae_config = SAEConfig.from_pretrained(ckpt_path)\n",
    "sae_config.sae_pretrained_name_or_path = ckpt_path\n",
    "\n",
    "sae = SparseAutoEncoder.from_config(cfg=sae_config)"
   ]
  },
  {
   "cell_type": "code",
   "execution_count": 21,
   "metadata": {},
   "outputs": [
    {
     "name": "stderr",
     "output_type": "stream",
     "text": [
      "/tmp/ipykernel_2857753/3981333745.py:8: FutureWarning: You are using `torch.load` with `weights_only=False` (the current default value), which uses the default pickle module implicitly. It is possible to construct malicious pickle data which will execute arbitrary code during unpickling (See https://github.com/pytorch/pytorch/blob/main/SECURITY.md#untrusted-models for more details). In a future release, the default value for `weights_only` will be flipped to `True`. This limits the functions that could be executed during unpickling. Arbitrary objects will no longer be allowed to be loaded via this mode unless they are explicitly allowlisted by the user via `torch.serialization.add_safe_globals`. We recommend you start setting `weights_only=True` for any use case where you don't have full control of the loaded file. Please open an issue on GitHub for any issues related to this experimental feature.\n",
      "  state_dict = torch.load(sah_path, map_location=cfg.device)\n"
     ]
    },
    {
     "data": {
      "text/plain": [
       "<All keys matched successfully>"
      ]
     },
     "execution_count": 21,
     "metadata": {},
     "output_type": "execute_result"
    }
   ],
   "source": [
    "cfg.update_from_model_config(model.cfg)\n",
    "\n",
    "# initialize sah\n",
    "sah = LowRankSparseAttention(cfg).to(cfg.device)\n",
    "\n",
    "sah_path = '/remote-home1/jxwang/project/lorsa/result/pythia-160m-sah/L5A-d16&1-n96&1536-k64.pth'\n",
    "\n",
    "state_dict = torch.load(sah_path, map_location=cfg.device)\n",
    "\n",
    "sah.load_state_dict(state_dict)"
   ]
  },
  {
   "cell_type": "code",
   "execution_count": 12,
   "metadata": {},
   "outputs": [],
   "source": [
    "hook_in_name = f'blocks.{cfg.layer}.ln1.hook_normalized'\n",
    "hook_out_name = f'blocks.{cfg.layer}.hook_attn_out'\n",
    "\n",
    "names_filter = [hook_in_name, hook_out_name]\n",
    "\n",
    "# Run the forward pass\n",
    "batch = next(data_iter)\n",
    "tokens = model.to_tokens(batch, prepend_bos=cfg.prepend_bos).to(cfg.device)\n",
    "tokens = tokens[:, :cfg.max_length]\n",
    "\n",
    "filter_mask = torch.logical_and(tokens.ne(model.tokenizer.eos_token_id), tokens.ne(model.tokenizer.pad_token_id))\n",
    "filter_mask = torch.logical_and(filter_mask, tokens.ne(model.tokenizer.bos_token_id))\n",
    "\n",
    "_, cache = model.run_with_cache(tokens, names_filter=names_filter)\n",
    "hook_in = cache[hook_in_name]\n",
    "hook_out = cache[hook_out_name]"
   ]
  },
  {
   "cell_type": "code",
   "execution_count": 13,
   "metadata": {},
   "outputs": [],
   "source": [
    "_, top_k_indices = sah.forward_top_k(hook_in)\n",
    "feature = sae.encode(hook_out.to(torch.bfloat16))\n",
    "\n",
    "top_k_indices = top_k_indices[filter_mask]\n",
    "feature = feature[filter_mask]"
   ]
  },
  {
   "cell_type": "code",
   "execution_count": 1,
   "metadata": {},
   "outputs": [
    {
     "ename": "NameError",
     "evalue": "name 'sah' is not defined",
     "output_type": "error",
     "traceback": [
      "\u001b[0;31m---------------------------------------------------------------------------\u001b[0m",
      "\u001b[0;31mNameError\u001b[0m                                 Traceback (most recent call last)",
      "Cell \u001b[0;32mIn[1], line 1\u001b[0m\n\u001b[0;32m----> 1\u001b[0m ov_vector \u001b[38;5;241m=\u001b[39m \u001b[43msah\u001b[49m\u001b[38;5;241m.\u001b[39mW_O\u001b[38;5;241m.\u001b[39msqueeze(\u001b[38;5;241m1\u001b[39m)\n\u001b[1;32m      2\u001b[0m index \u001b[38;5;241m=\u001b[39m \u001b[38;5;241m0\u001b[39m\n\u001b[1;32m      3\u001b[0m feature_vector \u001b[38;5;241m=\u001b[39m ov_vector[index]\u001b[38;5;241m.\u001b[39munsqueeze(\u001b[38;5;241m0\u001b[39m)\n",
      "\u001b[0;31mNameError\u001b[0m: name 'sah' is not defined"
     ]
    }
   ],
   "source": [
    "ov_vector = sah.W_O.squeeze(1)\n",
    "index = 0\n",
    "feature_vector = ov_vector[index].unsqueeze(0)\n",
    "\n",
    "sae_vector = sae.decoder.weight.permute(1, 0)\n",
    "\n",
    "cos = nn.CosineSimilarity(dim=1)\n",
    "res = cos(feature_vector, sae_vector)\n",
    "print(res.shape)\n",
    "\n",
    "top_cos, top_cos_indices  = torch.topk(res, 50)\n",
    "print(top_cos)\n",
    "print(top_cos_indices)\n",
    "# print(top_cos_indices % cfg.n_qk_heads)"
   ]
  },
  {
   "cell_type": "code",
   "execution_count": 30,
   "metadata": {},
   "outputs": [],
   "source": [
    "ov_vector = ov_vector.to(torch.bfloat16)\n",
    "\n",
    "ov_vector_norm = ov_vector.norm(dim=-1, keepdim=True)\n",
    "sae_vector_norm = sae_vector.norm(dim=-1, keepdim=True)\n",
    "\n",
    "res = torch.mm(ov_vector, sae_vector.T) / (ov_vector_norm * sae_vector_norm.T)"
   ]
  },
  {
   "cell_type": "code",
   "execution_count": 36,
   "metadata": {},
   "outputs": [
    {
     "name": "stdout",
     "output_type": "stream",
     "text": [
      "torch.Size([1536, 24576])\n",
      "tensor(0.4043, device='cuda:0', dtype=torch.bfloat16)\n"
     ]
    }
   ],
   "source": [
    "print(res.shape)\n",
    "max_cos = torch.max(res, dim=1).values\n",
    "sorted_indices = torch.argsort(max_cos, descending=True)\n",
    "print(max_cos[sorted_indices[1536 // 2]])"
   ]
  },
  {
   "cell_type": "code",
   "execution_count": 74,
   "metadata": {},
   "outputs": [
    {
     "name": "stdout",
     "output_type": "stream",
     "text": [
      "torch.Size([1536, 768])\n",
      "torch.Size([1, 768])\n",
      "torch.Size([1536])\n",
      "tensor([1.0000, 0.7865, 0.7597, 0.7306, 0.7189, 0.7085, 0.6958, 0.6836, 0.6653,\n",
      "        0.6457, 0.6089, 0.6024, 0.5841, 0.5768, 0.5688, 0.5308, 0.5238, 0.5158,\n",
      "        0.4976, 0.4940, 0.4918, 0.4895, 0.4830, 0.4703, 0.4667, 0.4646, 0.4535,\n",
      "        0.4494, 0.4470, 0.4445, 0.4392, 0.4254, 0.4180, 0.4109, 0.4092, 0.4028,\n",
      "        0.3957, 0.3955, 0.3887, 0.3764, 0.3746, 0.3688, 0.3681, 0.3618, 0.3583,\n",
      "        0.3481, 0.3452, 0.3450, 0.3417, 0.3401], device='cuda:0')\n",
      "tensor([ 842,  510,    1, 1125,  143, 1494,  172,  969,  337, 1252,  936,  825,\n",
      "        1270,  903, 1129,  942,  343,  144,  382, 1290,  900,  822,  121, 1478,\n",
      "        1001,  811,  586,  701,  385,  876,  637,  850,  461,  871,  313, 1479,\n",
      "         432,   93,  800,  722,  142,  580,   15,  570,  138,  203,  310,  369,\n",
      "        1250,  755], device='cuda:0')\n",
      "tensor([74, 30,  1, 69, 47, 54, 76,  9, 49,  4, 72, 57, 22, 39, 73, 78, 55, 48,\n",
      "        94, 42, 36, 54, 25, 38, 41, 43, 10, 29,  1, 12, 61, 82, 77,  7, 25, 39,\n",
      "        48, 93, 32, 50, 46,  4, 15, 90, 42, 11, 22, 81,  2, 83],\n",
      "       device='cuda:0')\n"
     ]
    }
   ],
   "source": [
    "ov_vector = sah.W_O.squeeze(1)\n",
    "print(ov_vector.shape)\n",
    "index = 842\n",
    "feature_vector = ov_vector[index:index + 1]\n",
    "print(feature_vector.shape)\n",
    "\n",
    "cos = nn.CosineSimilarity(dim=1)\n",
    "# res = cos(ov_vector, feature_vector)\n",
    "res = cos(ov_vector, feature_vector)\n",
    "print(res.shape)\n",
    "\n",
    "top_cos, top_cos_indices  = torch.topk(res, 50)\n",
    "print(top_cos)\n",
    "print(top_cos_indices)\n",
    "print(top_cos_indices % cfg.n_qk_heads)"
   ]
  }
 ],
 "metadata": {
  "kernelspec": {
   "display_name": "attn",
   "language": "python",
   "name": "attn"
  },
  "language_info": {
   "codemirror_mode": {
    "name": "ipython",
    "version": 3
   },
   "file_extension": ".py",
   "mimetype": "text/x-python",
   "name": "python",
   "nbconvert_exporter": "python",
   "pygments_lexer": "ipython3",
   "version": "3.10.15"
  }
 },
 "nbformat": 4,
 "nbformat_minor": 2
}
