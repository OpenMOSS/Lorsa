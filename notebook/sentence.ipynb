{
 "cells": [
  {
   "cell_type": "code",
   "execution_count": 1,
   "metadata": {},
   "outputs": [],
   "source": [
    "import os\n",
    "\n",
    "os.environ['http_proxy'] = 'http://10.176.58.101:7890'\n",
    "os.environ['https_proxy'] = 'http://10.176.58.101:7890'\n",
    "\n",
    "import sys\n",
    "sys.path.append('/remote-home1/jxwang/project/lorsa/src')\n",
    "\n",
    "import torch\n",
    "from transformers import GPTNeoXForCausalLM, GPTNeoXTokenizerFast\n",
    "from transformer_lens import HookedTransformer\n",
    "from transformer_lens.HookedTransformerConfig import HookedTransformerConfig\n",
    "from transformer_lens.components import Attention\n",
    "from datasets import load_from_disk\n",
    "from torch.utils.data import DataLoader\n",
    "import torch.nn as nn\n",
    "import torch.nn.init as init\n",
    "import torch.optim as optim\n",
    "import torch.nn.functional as F\n",
    "from torch.optim.lr_scheduler import LambdaLR\n",
    "torch.set_grad_enabled(False)\n",
    "\n",
    "import copy\n",
    "\n",
    "from tqdm import tqdm\n",
    "\n",
    "import pysvelte\n",
    "import numpy as np\n",
    "import einops\n",
    "\n",
    "from model.attention import LowRankSparseAttention\n",
    "from config import LoRSATrainConfig, LoRSAConfig"
   ]
  },
  {
   "cell_type": "code",
   "execution_count": 42,
   "metadata": {},
   "outputs": [],
   "source": [
    "from config import LoRSATrainConfig, LoRSAConfig\n",
    "cfg = LoRSAConfig(\n",
    "    # meta head config\n",
    "    d_qk_head = 16,\n",
    "    d_ov_head = 1,\n",
    "    n_qk_heads = 96,\n",
    "    n_ov_heads = 1536,\n",
    "    rotary_scale = 1,\n",
    "    rotary_dim = 16,\n",
    "    device = \"cuda\",\n",
    "    virtual_kv_num=0,\n",
    "    \n",
    "    mode = 'top_k',\n",
    "    top_k = 64,\n",
    "    \n",
    "    # orig head config\n",
    "    model_name = 'EleutherAI/pythia-160m',\n",
    "    layer = 5,\n",
    "    max_length = 256,\n",
    "    prepend_bos = True,\n",
    ")"
   ]
  },
  {
   "cell_type": "code",
   "execution_count": 44,
   "metadata": {},
   "outputs": [
    {
     "name": "stdout",
     "output_type": "stream",
     "text": [
      "Loaded pretrained model EleutherAI/pythia-160m into HookedTransformer\n"
     ]
    },
    {
     "data": {
      "application/vnd.jupyter.widget-view+json": {
       "model_id": "0bbc09c582c24d7083398deaa89fd936",
       "version_major": 2,
       "version_minor": 0
      },
      "text/plain": [
       "Loading dataset from disk:   0%|          | 0/80 [00:00<?, ?it/s]"
      ]
     },
     "metadata": {},
     "output_type": "display_data"
    }
   ],
   "source": [
    "hf_model = GPTNeoXForCausalLM.from_pretrained(cfg.model_name)\n",
    "tokenizer = GPTNeoXTokenizerFast.from_pretrained(cfg.model_name)\n",
    "model = HookedTransformer.from_pretrained(cfg.model_name, hf_model=hf_model, tokenizer=tokenizer, device=cfg.device)\n",
    "model.eval()\n",
    "for param in model.parameters():\n",
    "    param.requires_grad = False\n",
    "\n",
    "# get original attention block\n",
    "orig_attn = model.blocks[cfg.layer].attn\n",
    "\n",
    "# load dataset\n",
    "dataset_path = '/remote-home1/share/research/mechinterp/gpt2-dictionary/data/openwebtext'\n",
    "dataset = load_from_disk(dataset_path)"
   ]
  },
  {
   "cell_type": "code",
   "execution_count": 45,
   "metadata": {},
   "outputs": [
    {
     "name": "stderr",
     "output_type": "stream",
     "text": [
      "/tmp/ipykernel_3864390/2785011488.py:8: FutureWarning: You are using `torch.load` with `weights_only=False` (the current default value), which uses the default pickle module implicitly. It is possible to construct malicious pickle data which will execute arbitrary code during unpickling (See https://github.com/pytorch/pytorch/blob/main/SECURITY.md#untrusted-models for more details). In a future release, the default value for `weights_only` will be flipped to `True`. This limits the functions that could be executed during unpickling. Arbitrary objects will no longer be allowed to be loaded via this mode unless they are explicitly allowlisted by the user via `torch.serialization.add_safe_globals`. We recommend you start setting `weights_only=True` for any use case where you don't have full control of the loaded file. Please open an issue on GitHub for any issues related to this experimental feature.\n",
      "  state_dict = torch.load(lorsa_path, map_location=cfg.device)\n"
     ]
    },
    {
     "data": {
      "text/plain": [
       "<All keys matched successfully>"
      ]
     },
     "execution_count": 45,
     "metadata": {},
     "output_type": "execute_result"
    }
   ],
   "source": [
    "cfg.update_from_model_config(model.cfg)\n",
    "\n",
    "# initialize lorsa\n",
    "lorsa = LowRankSparseAttention(cfg).to(cfg.device)\n",
    "\n",
    "lorsa_path = '/remote-home1/jxwang/project/lorsa/result/pythia-160m-sah/L5A-d16&1-n96&1536-k64.pth'\n",
    "\n",
    "state_dict = torch.load(lorsa_path, map_location=cfg.device)\n",
    "\n",
    "lorsa.load_state_dict(state_dict)"
   ]
  },
  {
   "cell_type": "code",
   "execution_count": 46,
   "metadata": {},
   "outputs": [],
   "source": [
    "sentence = '''An Anglican priest charged last month with sexually assaulting five youths in Edmonton during the 1980s is facing more charges after police say more victims came forward.\n",
    "\n",
    "In February, Edmonton police charged Gordon William Dominey, 63, with five counts of sexual assault and five counts of gross indecency in connection with incidents that allegedly occurred at the Edmonton Youth Development Centre from 1985 to 1989.\n",
    "\n",
    "He now faces 18 sexual assault charges and nine gross indecency charges in relation to the alleged assaults, which are reported to have happened at the incarceration facility.\n",
    "\n",
    "Dominey was employed at the centre at the time.\n",
    "\n",
    "The new charges come after four more men came forward in the last month to report allegations of sexual assault at the facility during the same time period, Edmonton police say.\n",
    "\n",
    "Dominey transferred from the Diocese of Edmonton to the Diocese of New Westminster in Vancouver in July of 1990.\n",
    "\n",
    "He was the priest-in-charge at St. Catherine's Anglican Church in North Vancouver from the summer of 2015 until he was arrested in Coquitlam on Feb. 4, when the Bishop of New Westminster, Melissa Skelton, placed Dominey on administrative leave, according to a release.\n",
    "\n",
    "Police, who'''"
   ]
  },
  {
   "cell_type": "code",
   "execution_count": 115,
   "metadata": {},
   "outputs": [],
   "source": [
    "head_index = 6\n",
    "\n",
    "hook_in_name = f'blocks.{cfg.layer}.ln1.hook_normalized'\n",
    "hook_out_name = f'blocks.{cfg.layer}.hook_attn_out'\n",
    "\n",
    "names_filter = [hook_in_name] \n",
    "\n",
    "tokens = model.to_tokens(sentence, prepend_bos=cfg.prepend_bos).to(cfg.device)\n",
    "\n",
    "_, cache = model.run_with_cache(tokens, names_filter=names_filter)\n",
    "hook_in = cache[hook_in_name]\n",
    "\n",
    "q, k, v = lorsa.cal_q_k_v(hook_in)\n",
    "pattern = lorsa.cal_pattern(q, k)\n",
    "\n",
    "v_ = einops.rearrange(\n",
    "    v, \"batch key_pos head_index d_head -> batch head_index key_pos d_head\"\n",
    ")[:, head_index].squeeze(dim=-1) # Shape: (batch_size, key_pos)\n",
    "pattern_ = pattern[:, head_index // cfg.n_qk_heads] # Shape: (batch_size, query_pos, key_pos)\n",
    "z_k = pattern_[:, :, :] * v_[:, None, :] # Shape: (batch_size, query_pos, key_pos)\n",
    "z = z_k.sum(dim=-1) # Shape: (batch_size, query_pos)\n",
    "attn_scores = z_k\n",
    "\n",
    "out = lorsa.cal_out_with_h(hook_in)\n",
    "out_head = out[:, :, head_index, :]\n",
    "torch.cuda.empty_cache()\n",
    "out_head_l2 = torch.linalg.vector_norm(out_head, dim=-1)"
   ]
  },
  {
   "cell_type": "code",
   "execution_count": 93,
   "metadata": {},
   "outputs": [
    {
     "name": "stdout",
     "output_type": "stream",
     "text": [
      "torch.Size([1, 256, 1536, 1])\n",
      "torch.Size([1, 256])\n"
     ]
    }
   ],
   "source": [
    "qq, kk, vv = lorsa.cal_q_k_v(hook_in)\n",
    "pp = lorsa.cal_pattern(qq, kk)\n",
    "\n",
    "zz = lorsa.cal_z_with_h(vv, pp)\n",
    "print(zz.shape)\n",
    "zz = zz[:, :, head_index, 0]\n",
    "print(zz.shape)"
   ]
  },
  {
   "cell_type": "code",
   "execution_count": 66,
   "metadata": {},
   "outputs": [
    {
     "name": "stdout",
     "output_type": "stream",
     "text": [
      "torch.return_types.topk(\n",
      "values=tensor([1.8675, 1.8079, 1.6792, 1.6186, 1.4801], device='cuda:0'),\n",
      "indices=tensor([183,  73, 187, 181, 232], device='cuda:0'))\n",
      "tensor([0.0503, 0.0457, 0.0505, 0.0508, 0.0551], device='cuda:0')\n"
     ]
    }
   ],
   "source": [
    "top_k_values, top_k_indices = torch.topk(out_head_l2[0], 5)\n",
    "print(torch.topk(out_head_l2[0], 5))\n",
    "print(z[0, top_k_indices])"
   ]
  },
  {
   "cell_type": "code",
   "execution_count": 39,
   "metadata": {},
   "outputs": [
    {
     "name": "stdout",
     "output_type": "stream",
     "text": [
      " Westminster in Vancouver in July\n",
      " in\n",
      " in\n"
     ]
    }
   ],
   "source": [
    "print(model.to_string(tokens[0, 180:185]))\n",
    "print(model.to_string(tokens[0, top_k_indices[0, 0]]))\n",
    "print(model.to_string(tokens[0, top_k_indices[0, 3]]))"
   ]
  },
  {
   "cell_type": "code",
   "execution_count": 31,
   "metadata": {},
   "outputs": [
    {
     "name": "stdout",
     "output_type": "stream",
     "text": [
      " Edmonton Youth Development Centre from\n",
      " Centre\n"
     ]
    }
   ],
   "source": [
    "print(model.to_string(tokens[0, 70:75]))\n",
    "print(model.to_string(tokens[0, top_k_indices[0, 1]]))"
   ]
  },
  {
   "cell_type": "code",
   "execution_count": 54,
   "metadata": {},
   "outputs": [
    {
     "name": "stdout",
     "output_type": "stream",
     "text": [
      "tensor([ 4.5033e-02, -1.2535e+00,  1.0859e-01,  2.8544e-01,  5.8323e-01,\n",
      "        -3.6914e-01,  1.1403e+00,  7.7837e-01, -2.0396e+00, -1.9188e+00,\n",
      "        -1.2604e+00,  6.1392e-02,  1.4914e-01,  9.7172e-01,  3.5199e+00,\n",
      "         1.9477e+00,  1.8159e-01,  5.0853e-01, -1.2331e-01, -1.9612e-01,\n",
      "         2.3607e-01, -1.0120e+00, -7.9854e-01, -4.0562e-01,  8.5122e-01,\n",
      "        -5.3008e-02, -1.0932e+00, -5.6544e-01, -2.9361e-01,  6.8002e-01,\n",
      "        -2.8451e-02,  2.7002e-01, -6.8879e-01, -3.6795e-01,  4.5346e-01,\n",
      "         6.9142e-01,  2.8832e+00,  2.5041e+00,  5.9836e-01,  1.3247e-01,\n",
      "        -7.8375e-02, -7.2326e-01, -1.5743e-01,  6.6646e-01,  7.4840e-01,\n",
      "         3.0497e-01,  1.0895e+00,  9.9439e-01, -6.5711e-01, -1.1201e+00,\n",
      "         2.3233e-01, -2.3013e+00, -1.9486e+00, -1.3800e+00, -5.6802e-01,\n",
      "        -4.8294e-01,  1.1002e-01, -2.1244e+00, -1.1643e+00, -1.2620e+00,\n",
      "        -2.0436e+00, -1.0400e+00, -1.4681e+00, -1.4411e-01, -1.2542e+00,\n",
      "        -9.8134e-02, -7.9384e-01, -1.0335e+00,  5.4129e-01,  6.0582e-01,\n",
      "         3.9283e+00,  9.0091e-01,  1.6540e+00,  2.5229e+00,  1.3406e+00,\n",
      "         4.7360e-01,  7.3758e-01,  8.9097e-01,  8.7785e-01, -4.0706e-02,\n",
      "        -5.6110e-01, -1.5502e-01,  2.6945e-01,  2.2926e-01, -4.1430e-02,\n",
      "        -1.4716e+00, -1.9021e+00,  2.7212e-01,  2.1372e-01,  1.6851e-01,\n",
      "        -1.4978e+00, -7.3202e-01, -1.5764e+00, -2.3474e+00,  3.8846e-01,\n",
      "         1.4155e-01, -1.1922e+00, -5.9742e-01,  1.0166e-01, -7.1817e-01,\n",
      "        -6.6350e-01,  1.4763e-01,  1.1262e-01,  3.2187e-01,  4.2370e-01,\n",
      "         1.9297e-01, -8.6466e-01, -1.0814e+00,  5.2103e-01,  1.1496e+00,\n",
      "         6.2843e-01,  2.5342e+00,  3.5928e-01, -1.0094e-01, -5.0708e-01,\n",
      "        -2.4999e-01, -5.4796e-01, -2.1083e-01, -9.2939e-02,  1.0491e+00,\n",
      "         1.9833e+00,  1.4301e+00,  2.0502e+00,  1.9128e+00,  1.3240e+00,\n",
      "         1.0302e+00,  4.5691e-01,  4.8639e-01, -5.2992e-01, -3.6938e-01,\n",
      "         1.8306e-01, -2.0678e-01,  2.9096e-01,  9.0327e-02, -4.1928e-01,\n",
      "        -4.1481e-01,  1.1868e-03,  3.0222e-01,  7.3145e-01,  3.7335e-01,\n",
      "        -2.1402e-01, -8.3356e-01, -2.9539e-01,  7.0233e-01, -6.0900e-01,\n",
      "        -1.7695e+00, -6.0250e-01, -1.8948e+00, -1.7469e+00, -2.3613e-01,\n",
      "         9.2814e-01,  2.5786e+00,  4.1792e-01,  7.9957e-01, -4.0786e-02,\n",
      "        -2.9232e-01,  2.3419e-01,  4.3245e-01,  2.4673e+00,  2.6407e+00,\n",
      "         6.2761e-02, -1.6042e-01, -3.4842e-01, -7.9982e-01,  1.1951e-01,\n",
      "         4.2046e-01,  2.4014e-01,  7.5667e-01,  1.4488e+00,  7.7588e-01,\n",
      "         7.1869e-02,  2.5417e+00,  2.4199e+00,  3.0363e+00,  2.1583e+00,\n",
      "         1.5594e+00,  2.2175e+00,  3.3642e+00,  3.0973e+00,  1.3300e+00,\n",
      "         2.6531e+00,  2.4965e+00,  2.5407e+00,  2.4143e+00,  8.1666e-01,\n",
      "         5.1802e-01,  2.6609e-01,  2.0392e+00,  5.4387e-01, -4.4310e-01,\n",
      "        -3.6517e-02, -3.0040e-01, -3.2165e-01,  4.2419e-01, -7.7519e-01,\n",
      "        -2.5210e-02, -1.2741e+00,  9.3629e-01,  1.9727e+00,  3.5446e-01,\n",
      "         2.8294e-01,  3.2458e-01,  1.1719e+00,  2.3276e+00,  1.8973e+00,\n",
      "         2.8908e+00,  7.6090e-01,  2.6239e+00,  2.0678e+00,  5.0457e-01,\n",
      "         8.0484e-01,  1.9531e-01,  4.3395e-01,  1.4613e+00,  8.1495e-01,\n",
      "         4.5301e-02,  1.0191e+00,  9.0924e-01,  7.1808e-01,  1.1756e+00,\n",
      "         3.7596e+00,  1.4981e+00, -2.6163e-01,  5.8314e-01, -4.7844e-01,\n",
      "        -1.7731e-02,  8.6356e-01,  4.5698e-01,  1.2534e+00,  2.0503e+00,\n",
      "         1.8580e+00,  4.0790e+00,  7.5653e-01,  1.9736e-01,  3.2239e-01,\n",
      "        -4.0342e-01, -2.7675e-01,  1.0388e+00,  8.1697e-01, -5.8370e-01,\n",
      "        -4.4751e-01,  5.2438e-01,  1.3660e+00,  1.1595e+00,  2.1412e-01,\n",
      "        -9.6253e-02, -9.9943e-02, -5.8920e-02, -6.1930e-01, -1.9905e-01,\n",
      "         1.3037e-01, -7.4542e-02, -7.1105e-01,  1.3200e+00, -3.0260e-01,\n",
      "         6.0456e-01], device='cuda:0')\n"
     ]
    }
   ],
   "source": [
    "print(v[0, :, head_index, 0])"
   ]
  },
  {
   "cell_type": "code",
   "execution_count": 53,
   "metadata": {},
   "outputs": [
    {
     "name": "stdout",
     "output_type": "stream",
     "text": [
      "tensor([1.0000, 1.0000, 1.0000, 0.9983, 0.9989, 0.9996, 0.9995, 0.9998, 0.9999,\n",
      "        0.9999, 0.9988, 0.9999, 0.9989, 0.9998, 0.9993, 0.9997, 0.9998, 1.0000,\n",
      "        0.9994, 0.9992, 0.9979, 1.0000, 0.9987, 0.9974, 0.9988, 0.9997, 0.9999,\n",
      "        0.9994, 1.0000, 0.9997, 0.9667, 0.9999, 0.9993, 0.9997, 0.9876, 0.9976,\n",
      "        0.9928, 0.9972, 0.9951, 0.9447, 0.9593, 0.9986, 0.9991, 0.9972, 0.9856,\n",
      "        0.9954, 0.9901, 0.9873, 0.9937, 0.9989, 0.9983, 0.9895, 0.9824, 0.9930,\n",
      "        0.9857, 0.9937, 0.9877, 0.9976, 0.9983, 0.9992, 0.9918, 0.9975, 0.9992,\n",
      "        0.9974, 0.9984, 0.9993, 0.9973, 0.9992, 0.9997, 0.9938, 0.9941, 0.9993,\n",
      "        0.9997, 0.9992, 0.9997, 0.9992, 0.9961, 0.9671, 0.9956, 0.9998, 0.9989,\n",
      "        0.9956, 0.9987, 0.9929, 0.9835, 0.9952, 0.9927, 0.9782, 0.9974, 0.9252,\n",
      "        0.9838, 0.9952, 0.9988, 0.9903, 0.9890, 0.9995, 0.9935, 0.9987, 0.9936,\n",
      "        0.9995, 0.9933, 0.9974, 0.9939, 0.9978, 0.9989, 0.9962, 0.9996, 0.9998,\n",
      "        0.9999, 0.9871, 0.9998, 0.9997, 0.9968, 1.0000, 0.9975, 0.9776, 0.9741,\n",
      "        0.9954, 0.9981, 0.9998, 0.9984, 0.9874, 0.9992, 0.9992, 0.9964, 0.9970,\n",
      "        0.9967, 0.9999, 0.9948, 0.9977, 0.9984, 0.9953, 0.9997, 0.9892, 0.9983,\n",
      "        0.9993, 0.9979, 0.9998, 0.9994, 0.9981, 0.9947, 0.9994, 0.9980, 0.9980,\n",
      "        0.9959, 0.9991, 0.9968, 0.9883, 0.9689, 0.9983, 0.9929, 0.9968, 0.9912,\n",
      "        0.9986, 0.9991, 0.9973, 0.9984, 0.9938, 0.9605, 0.9934, 0.9975, 0.9989,\n",
      "        1.0000, 0.9930, 0.9906, 0.9802, 0.9975, 0.9994, 0.9998, 0.9895, 0.9988,\n",
      "        0.9946, 0.9991, 0.9742, 0.9994, 0.9853, 0.9995, 0.9696, 0.9967, 0.9987,\n",
      "        0.9956, 0.9920, 0.9943, 0.9941, 0.9960, 0.9999, 0.9994, 0.9950, 1.0000,\n",
      "        0.9889, 0.9395, 0.9971, 0.9945, 0.9465, 0.9829, 0.9880, 0.9965, 0.9189,\n",
      "        0.9921, 0.9977, 0.9730, 0.9989, 0.9996, 0.9977, 0.9947, 0.9960, 0.9977,\n",
      "        0.9909, 0.9982, 0.9762, 0.9953, 0.9994, 0.9893, 0.9928, 0.9774, 0.9952,\n",
      "        0.9989, 0.9992, 0.9952, 0.9783, 0.9898, 0.9971, 0.9980, 0.9915, 0.9983,\n",
      "        0.9984, 0.9852, 0.9941, 0.9887, 0.9959, 0.9939, 0.9962, 0.9679, 0.9844,\n",
      "        0.9989, 0.9992, 0.9986, 0.9579, 0.9985, 0.8920, 0.9280, 0.9789, 0.9976,\n",
      "        0.9981, 0.9922, 0.9822, 0.9961, 0.9790, 0.9921, 0.9956, 0.9977, 0.9995,\n",
      "        0.9782, 0.9795, 0.9521, 0.9830], device='cuda:0')\n"
     ]
    }
   ],
   "source": [
    "print(pattern[0, head_index%cfg.n_qk_heads, :, 0])"
   ]
  },
  {
   "cell_type": "code",
   "execution_count": 51,
   "metadata": {},
   "outputs": [
    {
     "name": "stdout",
     "output_type": "stream",
     "text": [
      "tensor([0.0450, 0.0450, 0.0450, 0.0450, 0.0450, 0.0450, 0.0450, 0.0450, 0.0450,\n",
      "        0.0450, 0.0450, 0.0450, 0.0450, 0.0450, 0.0450, 0.0450, 0.0450, 0.0450,\n",
      "        0.0450, 0.0450, 0.0449, 0.0450, 0.0450, 0.0449, 0.0450, 0.0450, 0.0450,\n",
      "        0.0450, 0.0450, 0.0450, 0.0435, 0.0450, 0.0450, 0.0450, 0.0445, 0.0449,\n",
      "        0.0447, 0.0449, 0.0448, 0.0425, 0.0432, 0.0450, 0.0450, 0.0449, 0.0444,\n",
      "        0.0448, 0.0446, 0.0445, 0.0447, 0.0450, 0.0450, 0.0446, 0.0442, 0.0447,\n",
      "        0.0444, 0.0447, 0.0445, 0.0449, 0.0450, 0.0450, 0.0447, 0.0449, 0.0450,\n",
      "        0.0449, 0.0450, 0.0450, 0.0449, 0.0450, 0.0450, 0.0448, 0.0448, 0.0450,\n",
      "        0.0450, 0.0450, 0.0450, 0.0450, 0.0449, 0.0436, 0.0448, 0.0450, 0.0450,\n",
      "        0.0448, 0.0450, 0.0447, 0.0443, 0.0448, 0.0447, 0.0440, 0.0449, 0.0417,\n",
      "        0.0443, 0.0448, 0.0450, 0.0446, 0.0445, 0.0450, 0.0447, 0.0450, 0.0447,\n",
      "        0.0450, 0.0447, 0.0449, 0.0448, 0.0449, 0.0450, 0.0449, 0.0450, 0.0450,\n",
      "        0.0450, 0.0445, 0.0450, 0.0450, 0.0449, 0.0450, 0.0449, 0.0440, 0.0439,\n",
      "        0.0448, 0.0449, 0.0450, 0.0450, 0.0445, 0.0450, 0.0450, 0.0449, 0.0449,\n",
      "        0.0449, 0.0450, 0.0448, 0.0449, 0.0450, 0.0448, 0.0450, 0.0445, 0.0450,\n",
      "        0.0450, 0.0449, 0.0450, 0.0450, 0.0449, 0.0448, 0.0450, 0.0449, 0.0449,\n",
      "        0.0448, 0.0450, 0.0449, 0.0445, 0.0436, 0.0450, 0.0447, 0.0449, 0.0446,\n",
      "        0.0450, 0.0450, 0.0449, 0.0450, 0.0448, 0.0433, 0.0447, 0.0449, 0.0450,\n",
      "        0.0450, 0.0447, 0.0446, 0.0441, 0.0449, 0.0450, 0.0450, 0.0446, 0.0450,\n",
      "        0.0448, 0.0450, 0.0439, 0.0450, 0.0444, 0.0450, 0.0437, 0.0449, 0.0450,\n",
      "        0.0448, 0.0447, 0.0448, 0.0448, 0.0449, 0.0450, 0.0450, 0.0448, 0.0450,\n",
      "        0.0445, 0.0423, 0.0449, 0.0448, 0.0426, 0.0443, 0.0445, 0.0449, 0.0414,\n",
      "        0.0447, 0.0449, 0.0438, 0.0450, 0.0450, 0.0449, 0.0448, 0.0449, 0.0449,\n",
      "        0.0446, 0.0450, 0.0440, 0.0448, 0.0450, 0.0446, 0.0447, 0.0440, 0.0448,\n",
      "        0.0450, 0.0450, 0.0448, 0.0441, 0.0446, 0.0449, 0.0449, 0.0447, 0.0450,\n",
      "        0.0450, 0.0444, 0.0448, 0.0445, 0.0448, 0.0448, 0.0449, 0.0436, 0.0443,\n",
      "        0.0450, 0.0450, 0.0450, 0.0431, 0.0450, 0.0402, 0.0418, 0.0441, 0.0449,\n",
      "        0.0449, 0.0447, 0.0442, 0.0449, 0.0441, 0.0447, 0.0448, 0.0449, 0.0450,\n",
      "        0.0441, 0.0441, 0.0429, 0.0443], device='cuda:0')\n"
     ]
    }
   ],
   "source": [
    "print(z[0, :, 0])"
   ]
  },
  {
   "cell_type": "code",
   "execution_count": 48,
   "metadata": {},
   "outputs": [],
   "source": [
    "out = lorsa.cal_out_with_h(hook_in, mode='default')\n",
    "out_head = out[:, :, head_index, :]\n",
    "torch.cuda.empty_cache()\n",
    "out_head_l2 = torch.linalg.vector_norm(out_head, dim=-1)"
   ]
  },
  {
   "cell_type": "code",
   "execution_count": 50,
   "metadata": {},
   "outputs": [
    {
     "name": "stdout",
     "output_type": "stream",
     "text": [
      "torch.Size([1, 256])\n",
      "tensor([[4.5002e-02, 7.6897e-03, 3.2408e-02, 4.6751e-02, 8.7810e-02, 6.3880e-02,\n",
      "         1.6500e-01, 9.6477e-02, 1.0406e-02, 1.9297e-01, 2.7617e-01, 1.0722e-01,\n",
      "         2.9472e-02, 2.9734e-02, 1.7108e-01, 5.8062e-01, 3.4421e-01, 1.7653e-01,\n",
      "         2.7053e-01, 5.8655e-01, 3.0750e-01, 6.6732e-02, 1.0903e-02, 5.0320e-02,\n",
      "         1.2463e-01, 9.1403e-02, 1.8163e-02, 7.0092e-02, 9.6777e-02, 3.3715e-02,\n",
      "         1.7489e-02, 9.4482e-02, 2.0362e-01, 3.5242e-02, 3.6481e-02, 9.9814e-02,\n",
      "         1.8027e-01, 8.5264e-01, 2.6575e-01, 7.5803e-02, 1.4275e-01, 3.6921e-02,\n",
      "         1.7107e-01, 3.1248e-01, 2.4772e-01, 1.5634e-01, 3.6048e-01, 2.0048e-01,\n",
      "         1.3860e-01, 4.0982e-02, 4.1067e-03, 3.0419e-03, 1.2599e-01, 6.5150e-01,\n",
      "         3.4511e-01, 4.2831e-01, 4.4679e-01, 7.5554e-02, 2.1146e-01, 6.0813e-02,\n",
      "         7.5260e-01, 5.6774e-01, 3.4643e-01, 5.8420e-01, 3.6671e-01, 2.5031e-01,\n",
      "         4.6488e-01, 3.0179e-01, 1.5844e-01, 5.9522e-02, 1.2039e-01, 2.1348e-01,\n",
      "         2.8099e-01, 1.8079e+00, 4.2197e-01, 2.5067e-01, 2.4663e-01, 3.6889e-01,\n",
      "         2.6022e-01, 1.9602e-01, 4.5212e-01, 2.3337e-01, 2.3780e-01, 1.5169e-01,\n",
      "         9.9621e-02, 6.9011e-03, 5.0219e-02, 4.8610e-01, 2.7170e-01, 9.1535e-02,\n",
      "         7.7850e-02, 4.3548e-02, 7.3654e-02, 5.4241e-01, 8.4237e-01, 1.1060e-01,\n",
      "         3.1545e-01, 5.0745e-01, 1.2050e-01, 2.3119e-01, 2.3576e-01, 3.7322e-01,\n",
      "         3.2517e-01, 3.5563e-01, 2.3254e-01, 1.0215e-01, 2.4853e-01, 2.2109e-01,\n",
      "         1.3793e-01, 2.5668e-02, 2.1976e-02, 5.5943e-01, 1.1267e-01, 2.8209e-02,\n",
      "         1.3624e-01, 1.2113e-01, 6.5960e-02, 5.6078e-02, 6.3498e-02, 1.0175e-01,\n",
      "         1.7772e-01, 1.6335e-01, 2.2179e-01, 1.0918e+00, 7.2826e-01, 7.6488e-01,\n",
      "         9.0010e-01, 2.0339e-01, 3.2584e-01, 2.2607e-01, 1.6004e-01, 3.2153e-02,\n",
      "         1.0990e-01, 9.1245e-02, 2.5887e-02, 2.0610e-02, 4.0954e-02, 3.3207e-03,\n",
      "         4.7336e-02, 1.0657e-01, 7.5128e-02, 5.2000e-02, 4.8074e-02, 7.1622e-02,\n",
      "         6.1554e-02, 1.1558e-01, 4.9385e-02, 2.7339e-02, 2.4907e-01, 2.5523e-01,\n",
      "         1.4616e-01, 2.8750e-01, 8.9147e-01, 3.8401e-01, 3.6438e-01, 1.2713e-01,\n",
      "         1.9045e-01, 1.4707e-01, 6.0052e-02, 4.4249e-01, 1.9690e-01, 5.2313e-02,\n",
      "         5.2592e-02, 8.7365e-02, 7.3864e-02, 6.4773e-02, 7.9384e-02, 1.1933e-01,\n",
      "         1.5460e-01, 1.0130e-01, 2.2381e-02, 1.6034e-01, 2.0948e-01, 8.8142e-01,\n",
      "         7.4341e-01, 4.3501e-01, 3.1999e-01, 4.6578e-01, 5.6103e-01, 9.3848e-02,\n",
      "         5.9219e-01, 1.6186e+00, 1.2545e+00, 1.8675e+00, 1.0802e+00, 8.4618e-01,\n",
      "         1.3667e+00, 1.6792e+00, 4.5324e-01, 9.0674e-01, 8.6067e-01, 8.3558e-01,\n",
      "         4.4426e-01, 3.2084e-01, 6.4805e-02, 7.6329e-02, 3.8146e-02, 4.5416e-01,\n",
      "         6.6160e-01, 1.1491e-01, 5.3503e-02, 8.3403e-02, 4.5769e-02, 2.7830e-01,\n",
      "         4.6425e-01, 6.1037e-01, 8.7928e-02, 6.7681e-01, 1.0936e+00, 5.6613e-01,\n",
      "         3.8528e-01, 5.9849e-01, 8.3023e-01, 7.4871e-01, 5.9080e-01, 3.6454e-01,\n",
      "         6.5320e-01, 5.3515e-01, 4.8510e-02, 1.5705e-03, 3.4567e-01, 1.1449e+00,\n",
      "         4.1743e-01, 3.4642e-01, 6.7746e-01, 5.5952e-01, 8.2151e-01, 6.1749e-01,\n",
      "         2.9505e-01, 1.3930e-01, 1.0875e-01, 9.9268e-01, 1.4801e+00, 3.1645e-01,\n",
      "         3.8649e-02, 7.5767e-03, 7.7558e-01, 8.6035e-01, 7.4018e-01, 2.4935e-01,\n",
      "         2.1203e-01, 3.8726e-01, 3.5650e-01, 2.4678e-01, 4.9362e-01, 5.2632e-01,\n",
      "         7.1364e-01, 6.0054e-01, 5.2776e-01, 3.0917e-01, 6.2551e-01, 2.3910e-01,\n",
      "         6.0311e-01, 4.5920e-01, 2.9564e-01, 2.2978e-01]], device='cuda:0')\n"
     ]
    }
   ],
   "source": [
    "print(out_head_l2.shape)\n",
    "print(out_head_l2)"
   ]
  }
 ],
 "metadata": {
  "kernelspec": {
   "display_name": "attn",
   "language": "python",
   "name": "attn"
  }
 },
 "nbformat": 4,
 "nbformat_minor": 2
}
