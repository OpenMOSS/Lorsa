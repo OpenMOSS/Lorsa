{
 "cells": [
  {
   "cell_type": "code",
   "execution_count": 1,
   "metadata": {},
   "outputs": [],
   "source": [
    "import os\n",
    "\n",
    "os.environ['http_proxy'] = 'http://10.176.58.101:7890'\n",
    "os.environ['https_proxy'] = 'http://10.176.58.101:7890'\n",
    "\n",
    "import sys\n",
    "sys.path.append('/remote-home1/jxwang/project/lorsa/src')\n",
    "\n",
    "import torch\n",
    "from transformers import GPTNeoXForCausalLM, GPTNeoXTokenizerFast\n",
    "from transformer_lens import HookedTransformer\n",
    "from transformer_lens.HookedTransformerConfig import HookedTransformerConfig\n",
    "from transformer_lens.components import Attention\n",
    "from datasets import load_from_disk\n",
    "from torch.utils.data import DataLoader\n",
    "import torch.nn as nn\n",
    "import torch.nn.init as init\n",
    "import torch.optim as optim\n",
    "import torch.nn.functional as F\n",
    "from torch.optim.lr_scheduler import LambdaLR\n",
    "torch.set_grad_enabled(False)\n",
    "\n",
    "import copy\n",
    "\n",
    "from tqdm import tqdm\n",
    "\n",
    "import pysvelte\n",
    "import numpy as np\n",
    "import einops\n",
    "\n",
    "from model.attention import LowRankSparseAttention\n",
    "from config import LoRSATrainConfig, LoRSAConfig"
   ]
  },
  {
   "cell_type": "code",
   "execution_count": 3,
   "metadata": {},
   "outputs": [],
   "source": [
    "import importlib\n",
    "import config\n",
    "import model.attention\n",
    "\n",
    "importlib.reload(config)\n",
    "importlib.reload(model.attention)\n",
    "\n",
    "from model.attention import LowRankSparseAttention\n",
    "from config import LoRSATrainConfig, LoRSAConfig"
   ]
  },
  {
   "cell_type": "code",
   "execution_count": 46,
   "metadata": {},
   "outputs": [
    {
     "data": {
      "text/plain": [
       "<module 'pysvelte' from '/remote-home1/jxwang/project/lorsa/PySvelte/pysvelte/__init__.py'>"
      ]
     },
     "execution_count": 46,
     "metadata": {},
     "output_type": "execute_result"
    }
   ],
   "source": [
    "import importlib\n",
    "importlib.reload(pysvelte)"
   ]
  },
  {
   "cell_type": "code",
   "execution_count": 2,
   "metadata": {},
   "outputs": [],
   "source": [
    "from config import LoRSATrainConfig, LoRSAConfig\n",
    "cfg = LoRSAConfig(\n",
    "    # meta head config\n",
    "    d_qk_head = 16,\n",
    "    d_ov_head = 1,\n",
    "    n_qk_heads = 96,\n",
    "    n_ov_heads = 1536,\n",
    "    rotary_scale = 1,\n",
    "    rotary_dim = 16,\n",
    "    device = \"cuda\",\n",
    "    virtual_kv_num=0,\n",
    "    \n",
    "    mode = 'top_k',\n",
    "    top_k = 64,\n",
    "    \n",
    "    # orig head config\n",
    "    model_name = 'EleutherAI/pythia-160m',\n",
    "    layer = 5,\n",
    "    max_length = 32,\n",
    "    prepend_bos = True,\n",
    ")"
   ]
  },
  {
   "cell_type": "code",
   "execution_count": 3,
   "metadata": {},
   "outputs": [
    {
     "name": "stdout",
     "output_type": "stream",
     "text": [
      "Loaded pretrained model EleutherAI/pythia-160m into HookedTransformer\n"
     ]
    },
    {
     "data": {
      "application/vnd.jupyter.widget-view+json": {
       "model_id": "6096928569b0429ba36c3a28ce7729b4",
       "version_major": 2,
       "version_minor": 0
      },
      "text/plain": [
       "Loading dataset from disk:   0%|          | 0/80 [00:00<?, ?it/s]"
      ]
     },
     "metadata": {},
     "output_type": "display_data"
    }
   ],
   "source": [
    "hf_model = GPTNeoXForCausalLM.from_pretrained(cfg.model_name)\n",
    "tokenizer = GPTNeoXTokenizerFast.from_pretrained(cfg.model_name)\n",
    "model = HookedTransformer.from_pretrained(cfg.model_name, hf_model=hf_model, tokenizer=tokenizer, device=cfg.device)\n",
    "model.eval()\n",
    "for param in model.parameters():\n",
    "    param.requires_grad = False\n",
    "\n",
    "# get original attention block\n",
    "orig_attn = model.blocks[cfg.layer].attn\n",
    "\n",
    "# load dataset\n",
    "dataset_path = '/remote-home1/share/research/mechinterp/gpt2-dictionary/data/openwebtext'\n",
    "dataset = load_from_disk(dataset_path)"
   ]
  },
  {
   "cell_type": "code",
   "execution_count": 4,
   "metadata": {},
   "outputs": [],
   "source": [
    "batch_size = 32\n",
    "data = DataLoader(dataset['text'], batch_size=batch_size)\n",
    "data_iter = iter(data)"
   ]
  },
  {
   "cell_type": "code",
   "execution_count": 5,
   "metadata": {},
   "outputs": [
    {
     "name": "stderr",
     "output_type": "stream",
     "text": [
      "/tmp/ipykernel_4128146/2785011488.py:8: FutureWarning: You are using `torch.load` with `weights_only=False` (the current default value), which uses the default pickle module implicitly. It is possible to construct malicious pickle data which will execute arbitrary code during unpickling (See https://github.com/pytorch/pytorch/blob/main/SECURITY.md#untrusted-models for more details). In a future release, the default value for `weights_only` will be flipped to `True`. This limits the functions that could be executed during unpickling. Arbitrary objects will no longer be allowed to be loaded via this mode unless they are explicitly allowlisted by the user via `torch.serialization.add_safe_globals`. We recommend you start setting `weights_only=True` for any use case where you don't have full control of the loaded file. Please open an issue on GitHub for any issues related to this experimental feature.\n",
      "  state_dict = torch.load(lorsa_path, map_location=cfg.device)\n"
     ]
    },
    {
     "data": {
      "text/plain": [
       "<All keys matched successfully>"
      ]
     },
     "execution_count": 5,
     "metadata": {},
     "output_type": "execute_result"
    }
   ],
   "source": [
    "cfg.update_from_model_config(model.cfg)\n",
    "\n",
    "# initialize lorsa\n",
    "lorsa = LowRankSparseAttention(cfg).to(cfg.device)\n",
    "\n",
    "lorsa_path = '/remote-home1/jxwang/project/lorsa/result/pythia-160m-sah/L5A-d16&1-n96&1536-k64.pth'\n",
    "\n",
    "state_dict = torch.load(lorsa_path, map_location=cfg.device)\n",
    "\n",
    "lorsa.load_state_dict(state_dict)"
   ]
  },
  {
   "cell_type": "code",
   "execution_count": 6,
   "metadata": {},
   "outputs": [],
   "source": [
    "from lm_saes import LanguageModelSAERunnerConfig, SAEConfig\n",
    "from lm_saes.sae import SparseAutoEncoder\n",
    "\n",
    "hook_point_in = 'A'\n",
    "exp_factor = 32\n",
    "layer = cfg.layer\n",
    "\n",
    "ckpt_path = f\"/remote-home1/share/research/mechinterp/pythia-160m-LX{hook_point_in}-{exp_factor}x-topk\"\n",
    "ckpt_path = os.path.join(ckpt_path, f\"Pythia-160m-L{layer}{hook_point_in}-{exp_factor}x-lr0.001\")\n",
    "sae_config = SAEConfig.from_pretrained(ckpt_path)\n",
    "sae_config.sae_pretrained_name_or_path = ckpt_path\n",
    "\n",
    "sae = SparseAutoEncoder.from_config(cfg=sae_config)"
   ]
  },
  {
   "cell_type": "code",
   "execution_count": 32,
   "metadata": {},
   "outputs": [
    {
     "name": "stdout",
     "output_type": "stream",
     "text": [
      "tensor([0.4211, 0.4056, 0.2865, 0.2809, 0.2313, 0.2043, 0.1942, 0.1914, 0.1907,\n",
      "        0.1899, 0.1897, 0.1835, 0.1823, 0.1821, 0.1744, 0.1709, 0.1629, 0.1620,\n",
      "        0.1598, 0.1590, 0.1585, 0.1577, 0.1568, 0.1560, 0.1550, 0.1537, 0.1534,\n",
      "        0.1530, 0.1529, 0.1529, 0.1518, 0.1493, 0.1446, 0.1427, 0.1425, 0.1410,\n",
      "        0.1409, 0.1396, 0.1392, 0.1382, 0.1380, 0.1378, 0.1378, 0.1364, 0.1363,\n",
      "        0.1359, 0.1353, 0.1345, 0.1336, 0.1332], device='cuda:0')\n",
      "tensor([ 4507, 19469, 12592, 22663, 19649, 20573, 21458,  5800, 19762,  1596,\n",
      "        10693, 10243,  8632, 17760, 21158, 19916, 12826,  2710, 12912,   180,\n",
      "        13872,  2279, 17383, 13326, 22224, 21433, 22492, 13408, 19695,   348,\n",
      "        21343, 20197, 20819, 11060,  1808, 17498,  2566,  9014, 14252, 12498,\n",
      "        11148, 14226,  2459,  7193, 23046,  4379,  1833,  6136,  5019, 20192],\n",
      "       device='cuda:0')\n"
     ]
    }
   ],
   "source": [
    "ov_vector = lorsa.W_O.squeeze(1)\n",
    "index = 0\n",
    "feature_vector = ov_vector[index].unsqueeze(0)\n",
    "\n",
    "sae_vector = sae.decoder.weight.permute(1, 0)\n",
    "\n",
    "cos = nn.CosineSimilarity(dim=1)\n",
    "res = cos(feature_vector, sae_vector)\n",
    "\n",
    "top_cos, top_cos_indices  = torch.topk(res, 50)\n",
    "print(top_cos)\n",
    "print(top_cos_indices)"
   ]
  },
  {
   "cell_type": "code",
   "execution_count": 31,
   "metadata": {},
   "outputs": [
    {
     "name": "stderr",
     "output_type": "stream",
     "text": [
      "batch: 100%|███████████████████████████████████████████████████████████████████████████████████████████████████████████████████████████████████████████████████████████████████████████████████████████████████████████████████████████████████████████████████████| 1024/1024 [01:27<00:00, 11.67it/s]\n"
     ]
    }
   ],
   "source": [
    "import warnings\n",
    "\n",
    "warnings.filterwarnings(\"ignore\")\n",
    "\n",
    "block_size = 32\n",
    "\n",
    "for head_index in [0]: #tqdm(range(lorsa.cfg.n_ov_heads), desc = 'analysis'):\n",
    "    batch_num = 2 ** 10\n",
    "    top_num = 20\n",
    "\n",
    "    hook_in_name = f'blocks.{cfg.layer}.ln1.hook_normalized'\n",
    "    hook_out_name = f'blocks.{cfg.layer}.hook_attn_out'\n",
    "\n",
    "    names_filter = [hook_in_name]\n",
    "    \n",
    "    top_z_info = []\n",
    "    z_info = []\n",
    "    tokens_info = []\n",
    "    \n",
    "    for _ in tqdm(range(batch_num), desc = 'batch'):\n",
    "        # Run the forward pass\n",
    "        batch = next(data_iter)\n",
    "        tokens = model.to_tokens(batch, prepend_bos=cfg.prepend_bos).to(cfg.device)\n",
    "        tokens = tokens[:, :cfg.max_length]\n",
    "        \n",
    "        _, cache = model.run_with_cache(tokens, names_filter=names_filter)\n",
    "        hook_in = cache[hook_in_name]\n",
    "        \n",
    "        q, k, v = lorsa.cal_q_k_v(hook_in)\n",
    "        pattern = lorsa.cal_pattern(q, k)\n",
    "        \n",
    "        v_ = einops.rearrange(\n",
    "            v, \"batch key_pos head_index d_head -> batch head_index key_pos d_head\"\n",
    "        )[:, head_index].squeeze(dim=-1) # Shape: (batch_size, key_pos)\n",
    "        pattern_ = pattern[:, head_index // cfg.n_qk_heads] # Shape: (batch_size, query_pos, key_pos)\n",
    "        z = pattern_[:, :, :] * v_[:, None, :] # Shape: (batch_size, query_pos, key_pos)\n",
    "        \n",
    "        '''\n",
    "        out = lorsa.cal_out_with_h(hook_in)\n",
    "        out_head = out[:, :, head_index, :]\n",
    "        del out\n",
    "        torch.cuda.empty_cache()\n",
    "        out_head_l2 = torch.linalg.vector_norm(out_head, dim=-1)\n",
    "        '''\n",
    "        \n",
    "        for idx in range(batch_size):\n",
    "            for block in range(cfg.max_length // block_size):\n",
    "                block_z = z[idx, block * block_size:(block + 1) * block_size, block * block_size:(block + 1) * block_size]\n",
    "                block_top_z = torch.max(block_z)\n",
    "                block_token = tokens[idx, block * block_size:(block + 1) * block_size]\n",
    "                \n",
    "                top_z_info.append(block_top_z)\n",
    "                z_info.append(block_z)\n",
    "                tokens_info.append(block_token)\n",
    "        \n",
    "        all_data = list(zip(top_z_info, z_info, tokens_info))\n",
    "        all_data_sorted = sorted(all_data, key=lambda x: x[0], reverse=True)\n",
    "        top_data = all_data_sorted[:top_num]\n",
    "        top_z_info, z_info, tokens_info = zip(*top_data)\n",
    "        \n",
    "        # Convert back to lists for the next iteration\n",
    "        top_z_info = list(top_z_info)\n",
    "        z_info = list(z_info)\n",
    "        tokens_info = list(tokens_info)\n",
    "    \n",
    "    top_z_info = torch.stack(top_z_info)\n",
    "    tokens_info = torch.stack(tokens_info)\n",
    "    z_info = torch.stack(z_info)\n",
    "    \n",
    "    html = pysvelte.Html(f\"<h1>L{lorsa.cfg.layer}A OV_Head{head_index} Positive</h1>\")\n",
    "    for idx in range(top_num):\n",
    "        strings = [model.to_string(token) for token in tokens_info[idx]]\n",
    "        html += pysvelte.AttentionMulti(tokens=strings, attention=z_info[idx].unsqueeze(2) * 10)\n",
    "        \n",
    "        line_counter = 0\n",
    "        line_html = \"\"\n",
    "\n",
    "        for token_idx in range(len(strings)):\n",
    "            z = z_info.sum(dim=-1)[idx][token_idx].item()\n",
    "            s = f\"{strings[token_idx]}\"\n",
    "            # Wrap each token in a span with fixed width\n",
    "            # line_html += f'<span style=\"display:inline-block; width:150px; color: rgb(0, 0, 0); background-color: rgb(255, {255 - min(l2 * 100, 255)}, 0);\">{s}</span>'\n",
    "            line_html += f'<span style=\"display:inline-block; color: rgb(0, 0, 0); background-color: rgb(255, {255 - min(z * 200, 255)}, 255);\">{s.replace(\" \", \"&nbsp;\")}</span>'\n",
    "            # line_counter += 1\n",
    "            '''\n",
    "            if line_counter == 16 or token_idx == len(strings) - 1:\n",
    "                html += pysvelte.Html(f\"<p>{line_html}</p>\")\n",
    "                line_html = \"\"\n",
    "                line_counter = 0\n",
    "            '''\n",
    "        html += pysvelte.Html(f\"<p>{line_html}</p>\")\n",
    "            \n",
    "    html.publish(f'/remote-home1/jxwang/project/lorsa/result/html/L{lorsa.cfg.layer}A_OV_Head{head_index}_Positive.html')"
   ]
  },
  {
   "cell_type": "code",
   "execution_count": 30,
   "metadata": {},
   "outputs": [
    {
     "name": "stdout",
     "output_type": "stream",
     "text": [
      "tensor([1.9158, 1.9158, 1.9158, 1.9158, 1.9158, 1.9158, 1.9158, 1.9158, 1.9158,\n",
      "        1.9158, 1.9158, 1.9158, 1.9158, 1.9158, 1.9158, 1.9158, 1.9158, 1.9158,\n",
      "        1.9158, 1.9158], device='cuda:0')\n",
      "torch.return_types.max(\n",
      "values=tensor([0.0342, 0.1080, 0.4138, 0.7113, 0.3914, 2.4006, 0.3518, 0.3166, 0.2680,\n",
      "        0.4974, 0.3387, 0.4381, 0.0566, 0.0069, 0.2876, 0.2058, 0.2360, 0.2201,\n",
      "        0.2259, 0.7381], device='cuda:0'),\n",
      "indices=tensor([31, 30,  7, 24, 14, 29, 23, 28, 31, 10, 24, 28,  3,  0, 15, 28, 11,  3,\n",
      "        11, 20], device='cuda:0'))\n"
     ]
    }
   ],
   "source": [
    "print(top_z_info)\n",
    "print(torch.max(z_info.sum(dim=-1), dim=-1))"
   ]
  },
  {
   "cell_type": "code",
   "execution_count": 17,
   "metadata": {},
   "outputs": [
    {
     "name": "stdout",
     "output_type": "stream",
     "text": [
      "torch.Size([20, 32, 32])\n"
     ]
    }
   ],
   "source": [
    "print(z_info.shape)"
   ]
  },
  {
   "cell_type": "code",
   "execution_count": 19,
   "metadata": {},
   "outputs": [
    {
     "name": "stdout",
     "output_type": "stream",
     "text": [
      "['<|endoftext|>', 'Three', ' int', 're', 'pid', ' game', ' designers', ' just', ' sent', ' their', ' latest', ' board', ' game', ',', ' called', ' Secret', ' Hitler', ',', ' to', ' all', ' 100', ' U', '.', 'S', '.', ' senators', ',', ' because', ' “', 'although', ' the', ' game']\n"
     ]
    }
   ],
   "source": [
    "string = [model.to_string(token) for token in tokens_info[0]]\n",
    "print(string)"
   ]
  },
  {
   "cell_type": "code",
   "execution_count": 18,
   "metadata": {},
   "outputs": [
    {
     "data": {
      "text/plain": [
       "'/remote-home1/jxwang/project/lorsa/result/html/L5A_OV_Head6_Positive.html'"
      ]
     },
     "execution_count": 18,
     "metadata": {},
     "output_type": "execute_result"
    }
   ],
   "source": [
    "html = pysvelte.Html(f\"<h1>L{lorsa.cfg.layer}A OV_Head{head_index} Positive</h1>\")\n",
    "for idx in range(top_num):\n",
    "    strings = [model.to_string(token) for token in tokens_info[idx]]\n",
    "    html += pysvelte.AttentionMulti(tokens=strings, attention=z_info[idx].unsqueeze(2) * 10)\n",
    "    \n",
    "    line_counter = 0\n",
    "    line_html = \"\"\n",
    "\n",
    "    for token_idx in range(len(strings)):\n",
    "        z = z_info.sum(dim=-1)[idx][token_idx].item()\n",
    "        s = f\"{strings[token_idx]}\"\n",
    "        # Wrap each token in a span with fixed width\n",
    "        # line_html += f'<span style=\"display:inline-block; width:150px; color: rgb(0, 0, 0); background-color: rgb(255, {255 - min(l2 * 100, 255)}, 0);\">{s}</span>'\n",
    "        line_html += f'<span style=\"display:inline-block; color: rgb(0, 0, 0); background-color: rgb(255, {255 - min(z * 100, 255)}, 255);\">{s.replace(\" \", \"&nbsp;\")}</span>'\n",
    "        # line_counter += 1\n",
    "        '''\n",
    "        if line_counter == 16 or token_idx == len(strings) - 1:\n",
    "            html += pysvelte.Html(f\"<p>{line_html}</p>\")\n",
    "            line_html = \"\"\n",
    "            line_counter = 0\n",
    "        '''\n",
    "    html += pysvelte.Html(f\"<p>{line_html}</p>\")\n",
    "        \n",
    "html.publish(f'/remote-home1/jxwang/project/lorsa/result/html/L{lorsa.cfg.layer}A_OV_Head{head_index}_Positive.html')"
   ]
  },
  {
   "cell_type": "code",
   "execution_count": 81,
   "metadata": {},
   "outputs": [],
   "source": [
    "sentence = '''An Anglican priest charged last month with sexually assaulting five youths in Edmonton during the 1980s is facing more charges after police say more victims came forward.\n",
    "\n",
    "In February, Edmonton police charged Gordon William Dominey, 63, with five counts of sexual assault and five counts of gross indecency in connection with incidents that allegedly occurred at the Edmonton Youth Development Centre from 1985 to 1989.\n",
    "\n",
    "He now faces 18 sexual assault charges and nine gross indecency charges in relation to the alleged assaults, which are reported to have happened at the incarceration facility.\n",
    "\n",
    "Dominey was employed at the centre at the time.\n",
    "\n",
    "The new charges come after four more men came forward in the last month to report allegations of sexual assault at the facility during the same time period, Edmonton police say.\n",
    "\n",
    "Dominey transferred from the Diocese of Edmonton to the Diocese of New Westminster in Vancouver in July of 1990.\n",
    "\n",
    "He was the priest-in-charge at St. Catherine's Anglican Church in North Vancouver from the summer of 2015 until he was arrested in Coquitlam on Feb. 4, when the Bishop of New Westminster, Melissa Skelton, placed Dominey on administrative leave, according to a release.\n",
    "\n",
    "Police, who'''\n",
    "\n"
   ]
  }
 ],
 "metadata": {
  "kernelspec": {
   "display_name": "attn",
   "language": "python",
   "name": "attn"
  },
  "language_info": {
   "codemirror_mode": {
    "name": "ipython",
    "version": 3
   },
   "file_extension": ".py",
   "mimetype": "text/x-python",
   "name": "python",
   "nbconvert_exporter": "python",
   "pygments_lexer": "ipython3",
   "version": "3.10.15"
  }
 },
 "nbformat": 4,
 "nbformat_minor": 2
}
