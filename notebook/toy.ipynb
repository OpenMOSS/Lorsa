{
 "cells": [
  {
   "cell_type": "code",
   "execution_count": 1,
   "metadata": {},
   "outputs": [
    {
     "name": "stdout",
     "output_type": "stream",
     "text": [
      "cuda\n"
     ]
    }
   ],
   "source": [
    "import os\n",
    "# os.environ['http_proxy'] = 'http://10.176.58.101:7890'\n",
    "# os.environ['https_proxy'] = 'http://10.176.58.101:7890'\n",
    "\n",
    "import sys\n",
    "# sys.path.append('/remote-home1/jxwang/project/monofuctional_attn/')\n",
    "\n",
    "import torch\n",
    "from transformers import GPTNeoXForCausalLM, GPTNeoXTokenizerFast\n",
    "from transformer_lens import HookedTransformer\n",
    "from transformer_lens.HookedTransformerConfig import HookedTransformerConfig\n",
    "from transformer_lens.components import Attention\n",
    "from datasets import load_from_disk\n",
    "from torch.utils.data import DataLoader\n",
    "import torch.nn as nn\n",
    "import torch.nn.init as init\n",
    "import torch.optim as optim\n",
    "import torch.nn.functional as F\n",
    "from torch.optim.lr_scheduler import LambdaLR\n",
    "\n",
    "import einops\n",
    "import einsum\n",
    "\n",
    "import copy\n",
    "\n",
    "device='cuda' if torch.cuda.is_available() else 'cpu'\n",
    "print(device)"
   ]
  },
  {
   "cell_type": "code",
   "execution_count": 2,
   "metadata": {},
   "outputs": [],
   "source": [
    "import importlib\n",
    "import src.model.toy_model\n",
    "\n",
    "importlib.reload(src.model.toy_model)\n",
    "\n",
    "from src.model.toy_model import toy_attn, toy_attn_model, toy_sparse_attn"
   ]
  },
  {
   "cell_type": "code",
   "execution_count": 3,
   "metadata": {},
   "outputs": [],
   "source": [
    "num_embeddings = 6\n",
    "num_unembeddings = 5\n",
    "d_model = 2\n",
    "d_head = 2\n",
    "n_heads = 2\n",
    "model = toy_attn_model(num_embeddings=num_embeddings, num_unembeddings=num_unembeddings, d_model=d_model, d_head=d_head, n_heads=n_heads).to(device)"
   ]
  },
  {
   "cell_type": "code",
   "execution_count": 4,
   "metadata": {},
   "outputs": [],
   "source": [
    "mapping = {\n",
    "    (0, 1): 0,\n",
    "    (0, 2): 1,\n",
    "    (0, 3): 2,\n",
    "    (0, 4): 3,\n",
    "    (0, 5): 4,\n",
    "}\n",
    "\n",
    "def generate_train_data(num_embeddings, num_unembeddings, batch_size):\n",
    "    batch = torch.zeros(batch_size, 2, dtype=torch.int32)\n",
    "    batch[:, 0] = 0\n",
    "    batch[:batch_size//2, 0] = torch.randint(1, 6, (batch_size//2,), dtype=torch.int32)\n",
    "    batch[:, 1] = torch.randint(1, 6, (batch_size,), dtype=torch.int32)\n",
    "    \n",
    "    y = torch.tensor([\n",
    "        mapping.get((batch[i][0].item(), batch[i][1].item()), torch.randint(0, 5, (1,)).item())\n",
    "        for i in range(batch_size)\n",
    "    ])\n",
    "    \n",
    "    return batch, y\n",
    "\n",
    "def generate_valid_data(num_embeddings, num_unembeddings, batch_size):\n",
    "    batch = torch.zeros(batch_size, 2, dtype=torch.int32)\n",
    "    batch[:, 0] = 0\n",
    "    batch[:, 1] = torch.randint(1, 6, (batch_size,), dtype=torch.int32)\n",
    "    \n",
    "    y = torch.tensor([mapping[(batch[i][0].item(), batch[i][1].item())] for i in range(batch_size)])\n",
    "    \n",
    "    return batch, y\n",
    "def generate_test_data(num_embeddings, num_unembeddings):\n",
    "    batch = torch.zeros(5, 2, dtype=torch.int32)\n",
    "    batch[:, 0] = 0\n",
    "    batch[:, 1] = torch.tensor([1, 2, 3, 4, 5])\n",
    "    \n",
    "    y = torch.tensor([mapping[(batch[i][0].item(), batch[i][1].item())] for i in range(5)])\n",
    "    \n",
    "    return batch, y"
   ]
  },
  {
   "cell_type": "code",
   "execution_count": 6,
   "metadata": {},
   "outputs": [
    {
     "data": {
      "application/vnd.jupyter.widget-view+json": {
       "model_id": "3465e19b52c04cc4a819660203a84a1b",
       "version_major": 2,
       "version_minor": 0
      },
      "text/plain": [
       "Training:   0%|                                                                                               …"
      ]
     },
     "metadata": {},
     "output_type": "display_data"
    }
   ],
   "source": [
    "from tqdm.notebook import tqdm\n",
    "\n",
    "batch_size = 32\n",
    "num_batches = 2 ** 14\n",
    "lr = 1e-2\n",
    "optimizer = optim.SGD(model.parameters(), lr=lr)\n",
    "\n",
    "pbar = tqdm(range(num_batches), desc='Training', unit='batch', dynamic_ncols=True)\n",
    "\n",
    "for i in pbar:\n",
    "    batch, y = generate_train_data(num_embeddings=num_embeddings, num_unembeddings=num_unembeddings, batch_size=batch_size)\n",
    "    batch, y = batch.to(device), y.to(device)\n",
    "    \n",
    "    logits = model(batch)\n",
    "    \n",
    "    p = logits[:, -1].softmax(dim=-1)\n",
    "    \n",
    "    loss = F.cross_entropy(p, y)\n",
    "    \n",
    "    optimizer.zero_grad()\n",
    "    loss.backward()\n",
    "    optimizer.step()\n",
    "    \n",
    "    with torch.no_grad():\n",
    "        test_batch, test_y = generate_test_data(num_embeddings=num_embeddings, num_unembeddings=num_unembeddings)\n",
    "        test_batch, test_y = test_batch.to(device), test_y.to(device)\n",
    "        \n",
    "        test_logits = model(test_batch)\n",
    "        test_p = test_logits[:, -1].softmax(dim=-1)\n",
    "        \n",
    "        test_loss = F.cross_entropy(test_p, test_y)\n",
    "        \n",
    "        test_preds = torch.argmax(test_p, dim=1)\n",
    "        correct = (test_preds == test_y).sum().item()\n",
    "        total = test_y.size(0)\n",
    "        accuracy = correct / total\n",
    "    \n",
    "        pbar.set_postfix({'test_loss': test_loss.item(), 'accuracy': f'{accuracy:.4f}'})"
   ]
  },
  {
   "cell_type": "code",
   "execution_count": 72,
   "metadata": {},
   "outputs": [
    {
     "name": "stdout",
     "output_type": "stream",
     "text": [
      "torch.Size([1, 5, 2]) torch.Size([5, 2, 2]) torch.Size([1, 5, 2])\n",
      "torch.Size([5, 2, 2])\n"
     ]
    }
   ],
   "source": [
    "with torch.no_grad():\n",
    "    batch, y = generate_test_data(num_embeddings=num_embeddings, num_unembeddings=num_unembeddings)\n",
    "    batch, y = batch.to(device), y.to(device)\n",
    "    resid = model.input_to_embed(batch)\n",
    "    out, out_heads, pattern = model.attn(resid)\n",
    "    out, out_heads, pattern = out[:, -1].unsqueeze(dim=0), out_heads[:, -1], pattern[:, -1]\n",
    "    unembeds = model.unembed.weight.unsqueeze(0)\n",
    "\n",
    "print(out.shape, out_heads.shape, unembeds.shape)\n",
    "print(pattern.shape)"
   ]
  },
  {
   "cell_type": "code",
   "execution_count": 51,
   "metadata": {},
   "outputs": [
    {
     "data": {
      "application/vnd.plotly.v1+json": {
       "config": {
        "plotlyServerURL": "https://plot.ly"
       },
       "data": [
        {
         "mode": "lines+markers+text",
         "name": "0",
         "text": [
          null,
          "0"
         ],
         "textposition": "top center",
         "type": "scatter",
         "x": [
          0,
          0.9642304182052612
         ],
         "xaxis": "x",
         "y": [
          0,
          -0.7334651350975037
         ],
         "yaxis": "y"
        },
        {
         "mode": "lines+markers+text",
         "name": "1",
         "text": [
          null,
          "1"
         ],
         "textposition": "top center",
         "type": "scatter",
         "x": [
          0,
          4.7407355308532715
         ],
         "xaxis": "x",
         "y": [
          0,
          -3.571791172027588
         ],
         "yaxis": "y"
        },
        {
         "mode": "lines+markers+text",
         "name": "2",
         "text": [
          null,
          "2"
         ],
         "textposition": "top center",
         "type": "scatter",
         "x": [
          0,
          -2.976644515991211
         ],
         "xaxis": "x",
         "y": [
          0,
          2.2545337677001953
         ],
         "yaxis": "y"
        },
        {
         "mode": "lines+markers+text",
         "name": "3",
         "text": [
          null,
          "3"
         ],
         "textposition": "top center",
         "type": "scatter",
         "x": [
          0,
          8.658591270446777
         ],
         "xaxis": "x",
         "y": [
          0,
          -6.537346363067627
         ],
         "yaxis": "y"
        },
        {
         "mode": "lines+markers+text",
         "name": "4",
         "text": [
          null,
          "4"
         ],
         "textposition": "top center",
         "type": "scatter",
         "x": [
          0,
          -5.773008346557617
         ],
         "xaxis": "x",
         "y": [
          0,
          4.347103595733643
         ],
         "yaxis": "y"
        },
        {
         "mode": "lines+markers+text",
         "name": "0",
         "text": [
          null,
          "0"
         ],
         "textposition": "top center",
         "type": "scatter",
         "x": [
          0,
          -4.518775939941406
         ],
         "xaxis": "x2",
         "y": [
          0,
          -5.019104957580566
         ],
         "yaxis": "y2"
        },
        {
         "mode": "lines+markers+text",
         "name": "1",
         "text": [
          null,
          "1"
         ],
         "textposition": "top center",
         "type": "scatter",
         "x": [
          0,
          2.716697931289673
         ],
         "xaxis": "x2",
         "y": [
          0,
          2.8339996337890625
         ],
         "yaxis": "y2"
        },
        {
         "mode": "lines+markers+text",
         "name": "2",
         "text": [
          null,
          "2"
         ],
         "textposition": "top center",
         "type": "scatter",
         "x": [
          0,
          3.3287041187286377
         ],
         "xaxis": "x2",
         "y": [
          0,
          3.613788604736328
         ],
         "yaxis": "y2"
        },
        {
         "mode": "lines+markers+text",
         "name": "3",
         "text": [
          null,
          "3"
         ],
         "textposition": "top center",
         "type": "scatter",
         "x": [
          0,
          -2.69260311126709
         ],
         "xaxis": "x2",
         "y": [
          0,
          -3.053778648376465
         ],
         "yaxis": "y2"
        },
        {
         "mode": "lines+markers+text",
         "name": "4",
         "text": [
          null,
          "4"
         ],
         "textposition": "top center",
         "type": "scatter",
         "x": [
          0,
          -2.161550760269165
         ],
         "xaxis": "x2",
         "y": [
          0,
          -2.325629949569702
         ],
         "yaxis": "y2"
        },
        {
         "mode": "lines+markers+text",
         "name": "0",
         "text": [
          null,
          "0"
         ],
         "textposition": "top center",
         "type": "scatter",
         "x": [
          0,
          -0.7380790710449219
         ],
         "xaxis": "x3",
         "y": [
          0,
          -1.0728460550308228
         ],
         "yaxis": "y3"
        },
        {
         "mode": "lines+markers+text",
         "name": "1",
         "text": [
          null,
          "1"
         ],
         "textposition": "top center",
         "type": "scatter",
         "x": [
          0,
          1.5124541521072388
         ],
         "xaxis": "x3",
         "y": [
          0,
          0.22173123061656952
         ],
         "yaxis": "y3"
        },
        {
         "mode": "lines+markers+text",
         "name": "2",
         "text": [
          null,
          "2"
         ],
         "textposition": "top center",
         "type": "scatter",
         "x": [
          0,
          -0.17499911785125732
         ],
         "xaxis": "x3",
         "y": [
          0,
          1.1923511028289795
         ],
         "yaxis": "y3"
        },
        {
         "mode": "lines+markers+text",
         "name": "3",
         "text": [
          null,
          "3"
         ],
         "textposition": "top center",
         "type": "scatter",
         "x": [
          0,
          0.7014053463935852
         ],
         "xaxis": "x3",
         "y": [
          0,
          -0.8374024629592896
         ],
         "yaxis": "y3"
        },
        {
         "mode": "lines+markers+text",
         "name": "4",
         "text": [
          null,
          "4"
         ],
         "textposition": "top center",
         "type": "scatter",
         "x": [
          0,
          -1.0735126733779907
         ],
         "xaxis": "x3",
         "y": [
          0,
          0.2950870394706726
         ],
         "yaxis": "y3"
        },
        {
         "mode": "lines+markers+text",
         "name": "0",
         "text": [
          null,
          "0"
         ],
         "textposition": "top center",
         "type": "scatter",
         "x": [
          0,
          -3.5545454025268555
         ],
         "xaxis": "x4",
         "y": [
          0,
          -5.752570152282715
         ],
         "yaxis": "y4"
        },
        {
         "mode": "lines+markers+text",
         "name": "1",
         "text": [
          null,
          "1"
         ],
         "textposition": "top center",
         "type": "scatter",
         "x": [
          0,
          7.457433700561523
         ],
         "xaxis": "x4",
         "y": [
          0,
          -0.7377915382385254
         ],
         "yaxis": "y4"
        },
        {
         "mode": "lines+markers+text",
         "name": "2",
         "text": [
          null,
          "2"
         ],
         "textposition": "top center",
         "type": "scatter",
         "x": [
          0,
          0.35205960273742676
         ],
         "xaxis": "x4",
         "y": [
          0,
          5.868322372436523
         ],
         "yaxis": "y4"
        },
        {
         "mode": "lines+markers+text",
         "name": "3",
         "text": [
          null,
          "3"
         ],
         "textposition": "top center",
         "type": "scatter",
         "x": [
          0,
          5.9659881591796875
         ],
         "xaxis": "x4",
         "y": [
          0,
          -9.59112548828125
         ],
         "yaxis": "y4"
        },
        {
         "mode": "lines+markers+text",
         "name": "4",
         "text": [
          null,
          "4"
         ],
         "textposition": "top center",
         "type": "scatter",
         "x": [
          0,
          -7.934558868408203
         ],
         "xaxis": "x4",
         "y": [
          0,
          2.0214736461639404
         ],
         "yaxis": "y4"
        }
       ],
       "layout": {
        "annotations": [
         {
          "font": {
           "size": 16
          },
          "showarrow": false,
          "text": "head 1",
          "x": 0.225,
          "xanchor": "center",
          "xref": "paper",
          "y": 1,
          "yanchor": "bottom",
          "yref": "paper"
         },
         {
          "font": {
           "size": 16
          },
          "showarrow": false,
          "text": "head 2",
          "x": 0.775,
          "xanchor": "center",
          "xref": "paper",
          "y": 1,
          "yanchor": "bottom",
          "yref": "paper"
         }
        ],
        "height": 800,
        "showlegend": false,
        "template": {
         "data": {
          "bar": [
           {
            "error_x": {
             "color": "#2a3f5f"
            },
            "error_y": {
             "color": "#2a3f5f"
            },
            "marker": {
             "line": {
              "color": "#E5ECF6",
              "width": 0.5
             },
             "pattern": {
              "fillmode": "overlay",
              "size": 10,
              "solidity": 0.2
             }
            },
            "type": "bar"
           }
          ],
          "barpolar": [
           {
            "marker": {
             "line": {
              "color": "#E5ECF6",
              "width": 0.5
             },
             "pattern": {
              "fillmode": "overlay",
              "size": 10,
              "solidity": 0.2
             }
            },
            "type": "barpolar"
           }
          ],
          "carpet": [
           {
            "aaxis": {
             "endlinecolor": "#2a3f5f",
             "gridcolor": "white",
             "linecolor": "white",
             "minorgridcolor": "white",
             "startlinecolor": "#2a3f5f"
            },
            "baxis": {
             "endlinecolor": "#2a3f5f",
             "gridcolor": "white",
             "linecolor": "white",
             "minorgridcolor": "white",
             "startlinecolor": "#2a3f5f"
            },
            "type": "carpet"
           }
          ],
          "choropleth": [
           {
            "colorbar": {
             "outlinewidth": 0,
             "ticks": ""
            },
            "type": "choropleth"
           }
          ],
          "contour": [
           {
            "colorbar": {
             "outlinewidth": 0,
             "ticks": ""
            },
            "colorscale": [
             [
              0,
              "#0d0887"
             ],
             [
              0.1111111111111111,
              "#46039f"
             ],
             [
              0.2222222222222222,
              "#7201a8"
             ],
             [
              0.3333333333333333,
              "#9c179e"
             ],
             [
              0.4444444444444444,
              "#bd3786"
             ],
             [
              0.5555555555555556,
              "#d8576b"
             ],
             [
              0.6666666666666666,
              "#ed7953"
             ],
             [
              0.7777777777777778,
              "#fb9f3a"
             ],
             [
              0.8888888888888888,
              "#fdca26"
             ],
             [
              1,
              "#f0f921"
             ]
            ],
            "type": "contour"
           }
          ],
          "contourcarpet": [
           {
            "colorbar": {
             "outlinewidth": 0,
             "ticks": ""
            },
            "type": "contourcarpet"
           }
          ],
          "heatmap": [
           {
            "colorbar": {
             "outlinewidth": 0,
             "ticks": ""
            },
            "colorscale": [
             [
              0,
              "#0d0887"
             ],
             [
              0.1111111111111111,
              "#46039f"
             ],
             [
              0.2222222222222222,
              "#7201a8"
             ],
             [
              0.3333333333333333,
              "#9c179e"
             ],
             [
              0.4444444444444444,
              "#bd3786"
             ],
             [
              0.5555555555555556,
              "#d8576b"
             ],
             [
              0.6666666666666666,
              "#ed7953"
             ],
             [
              0.7777777777777778,
              "#fb9f3a"
             ],
             [
              0.8888888888888888,
              "#fdca26"
             ],
             [
              1,
              "#f0f921"
             ]
            ],
            "type": "heatmap"
           }
          ],
          "heatmapgl": [
           {
            "colorbar": {
             "outlinewidth": 0,
             "ticks": ""
            },
            "colorscale": [
             [
              0,
              "#0d0887"
             ],
             [
              0.1111111111111111,
              "#46039f"
             ],
             [
              0.2222222222222222,
              "#7201a8"
             ],
             [
              0.3333333333333333,
              "#9c179e"
             ],
             [
              0.4444444444444444,
              "#bd3786"
             ],
             [
              0.5555555555555556,
              "#d8576b"
             ],
             [
              0.6666666666666666,
              "#ed7953"
             ],
             [
              0.7777777777777778,
              "#fb9f3a"
             ],
             [
              0.8888888888888888,
              "#fdca26"
             ],
             [
              1,
              "#f0f921"
             ]
            ],
            "type": "heatmapgl"
           }
          ],
          "histogram": [
           {
            "marker": {
             "pattern": {
              "fillmode": "overlay",
              "size": 10,
              "solidity": 0.2
             }
            },
            "type": "histogram"
           }
          ],
          "histogram2d": [
           {
            "colorbar": {
             "outlinewidth": 0,
             "ticks": ""
            },
            "colorscale": [
             [
              0,
              "#0d0887"
             ],
             [
              0.1111111111111111,
              "#46039f"
             ],
             [
              0.2222222222222222,
              "#7201a8"
             ],
             [
              0.3333333333333333,
              "#9c179e"
             ],
             [
              0.4444444444444444,
              "#bd3786"
             ],
             [
              0.5555555555555556,
              "#d8576b"
             ],
             [
              0.6666666666666666,
              "#ed7953"
             ],
             [
              0.7777777777777778,
              "#fb9f3a"
             ],
             [
              0.8888888888888888,
              "#fdca26"
             ],
             [
              1,
              "#f0f921"
             ]
            ],
            "type": "histogram2d"
           }
          ],
          "histogram2dcontour": [
           {
            "colorbar": {
             "outlinewidth": 0,
             "ticks": ""
            },
            "colorscale": [
             [
              0,
              "#0d0887"
             ],
             [
              0.1111111111111111,
              "#46039f"
             ],
             [
              0.2222222222222222,
              "#7201a8"
             ],
             [
              0.3333333333333333,
              "#9c179e"
             ],
             [
              0.4444444444444444,
              "#bd3786"
             ],
             [
              0.5555555555555556,
              "#d8576b"
             ],
             [
              0.6666666666666666,
              "#ed7953"
             ],
             [
              0.7777777777777778,
              "#fb9f3a"
             ],
             [
              0.8888888888888888,
              "#fdca26"
             ],
             [
              1,
              "#f0f921"
             ]
            ],
            "type": "histogram2dcontour"
           }
          ],
          "mesh3d": [
           {
            "colorbar": {
             "outlinewidth": 0,
             "ticks": ""
            },
            "type": "mesh3d"
           }
          ],
          "parcoords": [
           {
            "line": {
             "colorbar": {
              "outlinewidth": 0,
              "ticks": ""
             }
            },
            "type": "parcoords"
           }
          ],
          "pie": [
           {
            "automargin": true,
            "type": "pie"
           }
          ],
          "scatter": [
           {
            "fillpattern": {
             "fillmode": "overlay",
             "size": 10,
             "solidity": 0.2
            },
            "type": "scatter"
           }
          ],
          "scatter3d": [
           {
            "line": {
             "colorbar": {
              "outlinewidth": 0,
              "ticks": ""
             }
            },
            "marker": {
             "colorbar": {
              "outlinewidth": 0,
              "ticks": ""
             }
            },
            "type": "scatter3d"
           }
          ],
          "scattercarpet": [
           {
            "marker": {
             "colorbar": {
              "outlinewidth": 0,
              "ticks": ""
             }
            },
            "type": "scattercarpet"
           }
          ],
          "scattergeo": [
           {
            "marker": {
             "colorbar": {
              "outlinewidth": 0,
              "ticks": ""
             }
            },
            "type": "scattergeo"
           }
          ],
          "scattergl": [
           {
            "marker": {
             "colorbar": {
              "outlinewidth": 0,
              "ticks": ""
             }
            },
            "type": "scattergl"
           }
          ],
          "scattermapbox": [
           {
            "marker": {
             "colorbar": {
              "outlinewidth": 0,
              "ticks": ""
             }
            },
            "type": "scattermapbox"
           }
          ],
          "scatterpolar": [
           {
            "marker": {
             "colorbar": {
              "outlinewidth": 0,
              "ticks": ""
             }
            },
            "type": "scatterpolar"
           }
          ],
          "scatterpolargl": [
           {
            "marker": {
             "colorbar": {
              "outlinewidth": 0,
              "ticks": ""
             }
            },
            "type": "scatterpolargl"
           }
          ],
          "scatterternary": [
           {
            "marker": {
             "colorbar": {
              "outlinewidth": 0,
              "ticks": ""
             }
            },
            "type": "scatterternary"
           }
          ],
          "surface": [
           {
            "colorbar": {
             "outlinewidth": 0,
             "ticks": ""
            },
            "colorscale": [
             [
              0,
              "#0d0887"
             ],
             [
              0.1111111111111111,
              "#46039f"
             ],
             [
              0.2222222222222222,
              "#7201a8"
             ],
             [
              0.3333333333333333,
              "#9c179e"
             ],
             [
              0.4444444444444444,
              "#bd3786"
             ],
             [
              0.5555555555555556,
              "#d8576b"
             ],
             [
              0.6666666666666666,
              "#ed7953"
             ],
             [
              0.7777777777777778,
              "#fb9f3a"
             ],
             [
              0.8888888888888888,
              "#fdca26"
             ],
             [
              1,
              "#f0f921"
             ]
            ],
            "type": "surface"
           }
          ],
          "table": [
           {
            "cells": {
             "fill": {
              "color": "#EBF0F8"
             },
             "line": {
              "color": "white"
             }
            },
            "header": {
             "fill": {
              "color": "#C8D4E3"
             },
             "line": {
              "color": "white"
             }
            },
            "type": "table"
           }
          ]
         },
         "layout": {
          "annotationdefaults": {
           "arrowcolor": "#2a3f5f",
           "arrowhead": 0,
           "arrowwidth": 1
          },
          "autotypenumbers": "strict",
          "coloraxis": {
           "colorbar": {
            "outlinewidth": 0,
            "ticks": ""
           }
          },
          "colorscale": {
           "diverging": [
            [
             0,
             "#8e0152"
            ],
            [
             0.1,
             "#c51b7d"
            ],
            [
             0.2,
             "#de77ae"
            ],
            [
             0.3,
             "#f1b6da"
            ],
            [
             0.4,
             "#fde0ef"
            ],
            [
             0.5,
             "#f7f7f7"
            ],
            [
             0.6,
             "#e6f5d0"
            ],
            [
             0.7,
             "#b8e186"
            ],
            [
             0.8,
             "#7fbc41"
            ],
            [
             0.9,
             "#4d9221"
            ],
            [
             1,
             "#276419"
            ]
           ],
           "sequential": [
            [
             0,
             "#0d0887"
            ],
            [
             0.1111111111111111,
             "#46039f"
            ],
            [
             0.2222222222222222,
             "#7201a8"
            ],
            [
             0.3333333333333333,
             "#9c179e"
            ],
            [
             0.4444444444444444,
             "#bd3786"
            ],
            [
             0.5555555555555556,
             "#d8576b"
            ],
            [
             0.6666666666666666,
             "#ed7953"
            ],
            [
             0.7777777777777778,
             "#fb9f3a"
            ],
            [
             0.8888888888888888,
             "#fdca26"
            ],
            [
             1,
             "#f0f921"
            ]
           ],
           "sequentialminus": [
            [
             0,
             "#0d0887"
            ],
            [
             0.1111111111111111,
             "#46039f"
            ],
            [
             0.2222222222222222,
             "#7201a8"
            ],
            [
             0.3333333333333333,
             "#9c179e"
            ],
            [
             0.4444444444444444,
             "#bd3786"
            ],
            [
             0.5555555555555556,
             "#d8576b"
            ],
            [
             0.6666666666666666,
             "#ed7953"
            ],
            [
             0.7777777777777778,
             "#fb9f3a"
            ],
            [
             0.8888888888888888,
             "#fdca26"
            ],
            [
             1,
             "#f0f921"
            ]
           ]
          },
          "colorway": [
           "#636efa",
           "#EF553B",
           "#00cc96",
           "#ab63fa",
           "#FFA15A",
           "#19d3f3",
           "#FF6692",
           "#B6E880",
           "#FF97FF",
           "#FECB52"
          ],
          "font": {
           "color": "#2a3f5f"
          },
          "geo": {
           "bgcolor": "white",
           "lakecolor": "white",
           "landcolor": "#E5ECF6",
           "showlakes": true,
           "showland": true,
           "subunitcolor": "white"
          },
          "hoverlabel": {
           "align": "left"
          },
          "hovermode": "closest",
          "mapbox": {
           "style": "light"
          },
          "paper_bgcolor": "white",
          "plot_bgcolor": "#E5ECF6",
          "polar": {
           "angularaxis": {
            "gridcolor": "white",
            "linecolor": "white",
            "ticks": ""
           },
           "bgcolor": "#E5ECF6",
           "radialaxis": {
            "gridcolor": "white",
            "linecolor": "white",
            "ticks": ""
           }
          },
          "scene": {
           "xaxis": {
            "backgroundcolor": "#E5ECF6",
            "gridcolor": "white",
            "gridwidth": 2,
            "linecolor": "white",
            "showbackground": true,
            "ticks": "",
            "zerolinecolor": "white"
           },
           "yaxis": {
            "backgroundcolor": "#E5ECF6",
            "gridcolor": "white",
            "gridwidth": 2,
            "linecolor": "white",
            "showbackground": true,
            "ticks": "",
            "zerolinecolor": "white"
           },
           "zaxis": {
            "backgroundcolor": "#E5ECF6",
            "gridcolor": "white",
            "gridwidth": 2,
            "linecolor": "white",
            "showbackground": true,
            "ticks": "",
            "zerolinecolor": "white"
           }
          },
          "shapedefaults": {
           "line": {
            "color": "#2a3f5f"
           }
          },
          "ternary": {
           "aaxis": {
            "gridcolor": "white",
            "linecolor": "white",
            "ticks": ""
           },
           "baxis": {
            "gridcolor": "white",
            "linecolor": "white",
            "ticks": ""
           },
           "bgcolor": "#E5ECF6",
           "caxis": {
            "gridcolor": "white",
            "linecolor": "white",
            "ticks": ""
           }
          },
          "title": {
           "x": 0.05
          },
          "xaxis": {
           "automargin": true,
           "gridcolor": "white",
           "linecolor": "white",
           "ticks": "",
           "title": {
            "standoff": 15
           },
           "zerolinecolor": "white",
           "zerolinewidth": 2
          },
          "yaxis": {
           "automargin": true,
           "gridcolor": "white",
           "linecolor": "white",
           "ticks": "",
           "title": {
            "standoff": 15
           },
           "zerolinecolor": "white",
           "zerolinewidth": 2
          }
         }
        },
        "title": {
         "text": ""
        },
        "width": 800,
        "xaxis": {
         "anchor": "y",
         "domain": [
          0,
          0.45
         ],
         "range": [
          -10,
          10
         ],
         "title": {
          "text": "heads output"
         }
        },
        "xaxis2": {
         "anchor": "y2",
         "domain": [
          0.55,
          1
         ],
         "range": [
          -10,
          10
         ],
         "title": {
          "text": "heads output"
         }
        },
        "xaxis3": {
         "anchor": "y3",
         "domain": [
          0,
          0.45
         ],
         "range": [
          -5,
          5
         ],
         "title": {
          "text": "unembeddings"
         }
        },
        "xaxis4": {
         "anchor": "y4",
         "domain": [
          0.55,
          1
         ],
         "range": [
          -10,
          10
         ],
         "title": {
          "text": "output"
         }
        },
        "yaxis": {
         "anchor": "x",
         "domain": [
          0.625,
          1
         ],
         "range": [
          -10,
          10
         ],
         "title": {
          "text": ""
         }
        },
        "yaxis2": {
         "anchor": "x2",
         "domain": [
          0.625,
          1
         ],
         "range": [
          -10,
          10
         ],
         "title": {
          "text": ""
         }
        },
        "yaxis3": {
         "anchor": "x3",
         "domain": [
          0,
          0.375
         ],
         "range": [
          -5,
          5
         ],
         "title": {
          "text": ""
         }
        },
        "yaxis4": {
         "anchor": "x4",
         "domain": [
          0,
          0.375
         ],
         "range": [
          -10,
          10
         ],
         "title": {
          "text": ""
         }
        }
       }
      },
      "text/html": [
       "<div>                            <div id=\"587570af-94cf-449f-a7e9-1a148a8f1c86\" class=\"plotly-graph-div\" style=\"height:800px; width:800px;\"></div>            <script type=\"text/javascript\">                require([\"plotly\"], function(Plotly) {                    window.PLOTLYENV=window.PLOTLYENV || {};                                    if (document.getElementById(\"587570af-94cf-449f-a7e9-1a148a8f1c86\")) {                    Plotly.newPlot(                        \"587570af-94cf-449f-a7e9-1a148a8f1c86\",                        [{\"mode\":\"lines+markers+text\",\"name\":\"0\",\"text\":[null,\"0\"],\"textposition\":\"top center\",\"x\":[0.0,0.9642304182052612],\"y\":[0.0,-0.7334651350975037],\"type\":\"scatter\",\"xaxis\":\"x\",\"yaxis\":\"y\"},{\"mode\":\"lines+markers+text\",\"name\":\"1\",\"text\":[null,\"1\"],\"textposition\":\"top center\",\"x\":[0.0,4.7407355308532715],\"y\":[0.0,-3.571791172027588],\"type\":\"scatter\",\"xaxis\":\"x\",\"yaxis\":\"y\"},{\"mode\":\"lines+markers+text\",\"name\":\"2\",\"text\":[null,\"2\"],\"textposition\":\"top center\",\"x\":[0.0,-2.976644515991211],\"y\":[0.0,2.2545337677001953],\"type\":\"scatter\",\"xaxis\":\"x\",\"yaxis\":\"y\"},{\"mode\":\"lines+markers+text\",\"name\":\"3\",\"text\":[null,\"3\"],\"textposition\":\"top center\",\"x\":[0.0,8.658591270446777],\"y\":[0.0,-6.537346363067627],\"type\":\"scatter\",\"xaxis\":\"x\",\"yaxis\":\"y\"},{\"mode\":\"lines+markers+text\",\"name\":\"4\",\"text\":[null,\"4\"],\"textposition\":\"top center\",\"x\":[0.0,-5.773008346557617],\"y\":[0.0,4.347103595733643],\"type\":\"scatter\",\"xaxis\":\"x\",\"yaxis\":\"y\"},{\"mode\":\"lines+markers+text\",\"name\":\"0\",\"text\":[null,\"0\"],\"textposition\":\"top center\",\"x\":[0.0,-4.518775939941406],\"y\":[0.0,-5.019104957580566],\"type\":\"scatter\",\"xaxis\":\"x2\",\"yaxis\":\"y2\"},{\"mode\":\"lines+markers+text\",\"name\":\"1\",\"text\":[null,\"1\"],\"textposition\":\"top center\",\"x\":[0.0,2.716697931289673],\"y\":[0.0,2.8339996337890625],\"type\":\"scatter\",\"xaxis\":\"x2\",\"yaxis\":\"y2\"},{\"mode\":\"lines+markers+text\",\"name\":\"2\",\"text\":[null,\"2\"],\"textposition\":\"top center\",\"x\":[0.0,3.3287041187286377],\"y\":[0.0,3.613788604736328],\"type\":\"scatter\",\"xaxis\":\"x2\",\"yaxis\":\"y2\"},{\"mode\":\"lines+markers+text\",\"name\":\"3\",\"text\":[null,\"3\"],\"textposition\":\"top center\",\"x\":[0.0,-2.69260311126709],\"y\":[0.0,-3.053778648376465],\"type\":\"scatter\",\"xaxis\":\"x2\",\"yaxis\":\"y2\"},{\"mode\":\"lines+markers+text\",\"name\":\"4\",\"text\":[null,\"4\"],\"textposition\":\"top center\",\"x\":[0.0,-2.161550760269165],\"y\":[0.0,-2.325629949569702],\"type\":\"scatter\",\"xaxis\":\"x2\",\"yaxis\":\"y2\"},{\"mode\":\"lines+markers+text\",\"name\":\"0\",\"text\":[null,\"0\"],\"textposition\":\"top center\",\"x\":[0.0,-0.7380790710449219],\"y\":[0.0,-1.0728460550308228],\"type\":\"scatter\",\"xaxis\":\"x3\",\"yaxis\":\"y3\"},{\"mode\":\"lines+markers+text\",\"name\":\"1\",\"text\":[null,\"1\"],\"textposition\":\"top center\",\"x\":[0.0,1.5124541521072388],\"y\":[0.0,0.22173123061656952],\"type\":\"scatter\",\"xaxis\":\"x3\",\"yaxis\":\"y3\"},{\"mode\":\"lines+markers+text\",\"name\":\"2\",\"text\":[null,\"2\"],\"textposition\":\"top center\",\"x\":[0.0,-0.17499911785125732],\"y\":[0.0,1.1923511028289795],\"type\":\"scatter\",\"xaxis\":\"x3\",\"yaxis\":\"y3\"},{\"mode\":\"lines+markers+text\",\"name\":\"3\",\"text\":[null,\"3\"],\"textposition\":\"top center\",\"x\":[0.0,0.7014053463935852],\"y\":[0.0,-0.8374024629592896],\"type\":\"scatter\",\"xaxis\":\"x3\",\"yaxis\":\"y3\"},{\"mode\":\"lines+markers+text\",\"name\":\"4\",\"text\":[null,\"4\"],\"textposition\":\"top center\",\"x\":[0.0,-1.0735126733779907],\"y\":[0.0,0.2950870394706726],\"type\":\"scatter\",\"xaxis\":\"x3\",\"yaxis\":\"y3\"},{\"mode\":\"lines+markers+text\",\"name\":\"0\",\"text\":[null,\"0\"],\"textposition\":\"top center\",\"x\":[0.0,-3.5545454025268555],\"y\":[0.0,-5.752570152282715],\"type\":\"scatter\",\"xaxis\":\"x4\",\"yaxis\":\"y4\"},{\"mode\":\"lines+markers+text\",\"name\":\"1\",\"text\":[null,\"1\"],\"textposition\":\"top center\",\"x\":[0.0,7.457433700561523],\"y\":[0.0,-0.7377915382385254],\"type\":\"scatter\",\"xaxis\":\"x4\",\"yaxis\":\"y4\"},{\"mode\":\"lines+markers+text\",\"name\":\"2\",\"text\":[null,\"2\"],\"textposition\":\"top center\",\"x\":[0.0,0.35205960273742676],\"y\":[0.0,5.868322372436523],\"type\":\"scatter\",\"xaxis\":\"x4\",\"yaxis\":\"y4\"},{\"mode\":\"lines+markers+text\",\"name\":\"3\",\"text\":[null,\"3\"],\"textposition\":\"top center\",\"x\":[0.0,5.9659881591796875],\"y\":[0.0,-9.59112548828125],\"type\":\"scatter\",\"xaxis\":\"x4\",\"yaxis\":\"y4\"},{\"mode\":\"lines+markers+text\",\"name\":\"4\",\"text\":[null,\"4\"],\"textposition\":\"top center\",\"x\":[0.0,-7.934558868408203],\"y\":[0.0,2.0214736461639404],\"type\":\"scatter\",\"xaxis\":\"x4\",\"yaxis\":\"y4\"}],                        {\"template\":{\"data\":{\"histogram2dcontour\":[{\"type\":\"histogram2dcontour\",\"colorbar\":{\"outlinewidth\":0,\"ticks\":\"\"},\"colorscale\":[[0.0,\"#0d0887\"],[0.1111111111111111,\"#46039f\"],[0.2222222222222222,\"#7201a8\"],[0.3333333333333333,\"#9c179e\"],[0.4444444444444444,\"#bd3786\"],[0.5555555555555556,\"#d8576b\"],[0.6666666666666666,\"#ed7953\"],[0.7777777777777778,\"#fb9f3a\"],[0.8888888888888888,\"#fdca26\"],[1.0,\"#f0f921\"]]}],\"choropleth\":[{\"type\":\"choropleth\",\"colorbar\":{\"outlinewidth\":0,\"ticks\":\"\"}}],\"histogram2d\":[{\"type\":\"histogram2d\",\"colorbar\":{\"outlinewidth\":0,\"ticks\":\"\"},\"colorscale\":[[0.0,\"#0d0887\"],[0.1111111111111111,\"#46039f\"],[0.2222222222222222,\"#7201a8\"],[0.3333333333333333,\"#9c179e\"],[0.4444444444444444,\"#bd3786\"],[0.5555555555555556,\"#d8576b\"],[0.6666666666666666,\"#ed7953\"],[0.7777777777777778,\"#fb9f3a\"],[0.8888888888888888,\"#fdca26\"],[1.0,\"#f0f921\"]]}],\"heatmap\":[{\"type\":\"heatmap\",\"colorbar\":{\"outlinewidth\":0,\"ticks\":\"\"},\"colorscale\":[[0.0,\"#0d0887\"],[0.1111111111111111,\"#46039f\"],[0.2222222222222222,\"#7201a8\"],[0.3333333333333333,\"#9c179e\"],[0.4444444444444444,\"#bd3786\"],[0.5555555555555556,\"#d8576b\"],[0.6666666666666666,\"#ed7953\"],[0.7777777777777778,\"#fb9f3a\"],[0.8888888888888888,\"#fdca26\"],[1.0,\"#f0f921\"]]}],\"heatmapgl\":[{\"type\":\"heatmapgl\",\"colorbar\":{\"outlinewidth\":0,\"ticks\":\"\"},\"colorscale\":[[0.0,\"#0d0887\"],[0.1111111111111111,\"#46039f\"],[0.2222222222222222,\"#7201a8\"],[0.3333333333333333,\"#9c179e\"],[0.4444444444444444,\"#bd3786\"],[0.5555555555555556,\"#d8576b\"],[0.6666666666666666,\"#ed7953\"],[0.7777777777777778,\"#fb9f3a\"],[0.8888888888888888,\"#fdca26\"],[1.0,\"#f0f921\"]]}],\"contourcarpet\":[{\"type\":\"contourcarpet\",\"colorbar\":{\"outlinewidth\":0,\"ticks\":\"\"}}],\"contour\":[{\"type\":\"contour\",\"colorbar\":{\"outlinewidth\":0,\"ticks\":\"\"},\"colorscale\":[[0.0,\"#0d0887\"],[0.1111111111111111,\"#46039f\"],[0.2222222222222222,\"#7201a8\"],[0.3333333333333333,\"#9c179e\"],[0.4444444444444444,\"#bd3786\"],[0.5555555555555556,\"#d8576b\"],[0.6666666666666666,\"#ed7953\"],[0.7777777777777778,\"#fb9f3a\"],[0.8888888888888888,\"#fdca26\"],[1.0,\"#f0f921\"]]}],\"surface\":[{\"type\":\"surface\",\"colorbar\":{\"outlinewidth\":0,\"ticks\":\"\"},\"colorscale\":[[0.0,\"#0d0887\"],[0.1111111111111111,\"#46039f\"],[0.2222222222222222,\"#7201a8\"],[0.3333333333333333,\"#9c179e\"],[0.4444444444444444,\"#bd3786\"],[0.5555555555555556,\"#d8576b\"],[0.6666666666666666,\"#ed7953\"],[0.7777777777777778,\"#fb9f3a\"],[0.8888888888888888,\"#fdca26\"],[1.0,\"#f0f921\"]]}],\"mesh3d\":[{\"type\":\"mesh3d\",\"colorbar\":{\"outlinewidth\":0,\"ticks\":\"\"}}],\"scatter\":[{\"fillpattern\":{\"fillmode\":\"overlay\",\"size\":10,\"solidity\":0.2},\"type\":\"scatter\"}],\"parcoords\":[{\"type\":\"parcoords\",\"line\":{\"colorbar\":{\"outlinewidth\":0,\"ticks\":\"\"}}}],\"scatterpolargl\":[{\"type\":\"scatterpolargl\",\"marker\":{\"colorbar\":{\"outlinewidth\":0,\"ticks\":\"\"}}}],\"bar\":[{\"error_x\":{\"color\":\"#2a3f5f\"},\"error_y\":{\"color\":\"#2a3f5f\"},\"marker\":{\"line\":{\"color\":\"#E5ECF6\",\"width\":0.5},\"pattern\":{\"fillmode\":\"overlay\",\"size\":10,\"solidity\":0.2}},\"type\":\"bar\"}],\"scattergeo\":[{\"type\":\"scattergeo\",\"marker\":{\"colorbar\":{\"outlinewidth\":0,\"ticks\":\"\"}}}],\"scatterpolar\":[{\"type\":\"scatterpolar\",\"marker\":{\"colorbar\":{\"outlinewidth\":0,\"ticks\":\"\"}}}],\"histogram\":[{\"marker\":{\"pattern\":{\"fillmode\":\"overlay\",\"size\":10,\"solidity\":0.2}},\"type\":\"histogram\"}],\"scattergl\":[{\"type\":\"scattergl\",\"marker\":{\"colorbar\":{\"outlinewidth\":0,\"ticks\":\"\"}}}],\"scatter3d\":[{\"type\":\"scatter3d\",\"line\":{\"colorbar\":{\"outlinewidth\":0,\"ticks\":\"\"}},\"marker\":{\"colorbar\":{\"outlinewidth\":0,\"ticks\":\"\"}}}],\"scattermapbox\":[{\"type\":\"scattermapbox\",\"marker\":{\"colorbar\":{\"outlinewidth\":0,\"ticks\":\"\"}}}],\"scatterternary\":[{\"type\":\"scatterternary\",\"marker\":{\"colorbar\":{\"outlinewidth\":0,\"ticks\":\"\"}}}],\"scattercarpet\":[{\"type\":\"scattercarpet\",\"marker\":{\"colorbar\":{\"outlinewidth\":0,\"ticks\":\"\"}}}],\"carpet\":[{\"aaxis\":{\"endlinecolor\":\"#2a3f5f\",\"gridcolor\":\"white\",\"linecolor\":\"white\",\"minorgridcolor\":\"white\",\"startlinecolor\":\"#2a3f5f\"},\"baxis\":{\"endlinecolor\":\"#2a3f5f\",\"gridcolor\":\"white\",\"linecolor\":\"white\",\"minorgridcolor\":\"white\",\"startlinecolor\":\"#2a3f5f\"},\"type\":\"carpet\"}],\"table\":[{\"cells\":{\"fill\":{\"color\":\"#EBF0F8\"},\"line\":{\"color\":\"white\"}},\"header\":{\"fill\":{\"color\":\"#C8D4E3\"},\"line\":{\"color\":\"white\"}},\"type\":\"table\"}],\"barpolar\":[{\"marker\":{\"line\":{\"color\":\"#E5ECF6\",\"width\":0.5},\"pattern\":{\"fillmode\":\"overlay\",\"size\":10,\"solidity\":0.2}},\"type\":\"barpolar\"}],\"pie\":[{\"automargin\":true,\"type\":\"pie\"}]},\"layout\":{\"autotypenumbers\":\"strict\",\"colorway\":[\"#636efa\",\"#EF553B\",\"#00cc96\",\"#ab63fa\",\"#FFA15A\",\"#19d3f3\",\"#FF6692\",\"#B6E880\",\"#FF97FF\",\"#FECB52\"],\"font\":{\"color\":\"#2a3f5f\"},\"hovermode\":\"closest\",\"hoverlabel\":{\"align\":\"left\"},\"paper_bgcolor\":\"white\",\"plot_bgcolor\":\"#E5ECF6\",\"polar\":{\"bgcolor\":\"#E5ECF6\",\"angularaxis\":{\"gridcolor\":\"white\",\"linecolor\":\"white\",\"ticks\":\"\"},\"radialaxis\":{\"gridcolor\":\"white\",\"linecolor\":\"white\",\"ticks\":\"\"}},\"ternary\":{\"bgcolor\":\"#E5ECF6\",\"aaxis\":{\"gridcolor\":\"white\",\"linecolor\":\"white\",\"ticks\":\"\"},\"baxis\":{\"gridcolor\":\"white\",\"linecolor\":\"white\",\"ticks\":\"\"},\"caxis\":{\"gridcolor\":\"white\",\"linecolor\":\"white\",\"ticks\":\"\"}},\"coloraxis\":{\"colorbar\":{\"outlinewidth\":0,\"ticks\":\"\"}},\"colorscale\":{\"sequential\":[[0.0,\"#0d0887\"],[0.1111111111111111,\"#46039f\"],[0.2222222222222222,\"#7201a8\"],[0.3333333333333333,\"#9c179e\"],[0.4444444444444444,\"#bd3786\"],[0.5555555555555556,\"#d8576b\"],[0.6666666666666666,\"#ed7953\"],[0.7777777777777778,\"#fb9f3a\"],[0.8888888888888888,\"#fdca26\"],[1.0,\"#f0f921\"]],\"sequentialminus\":[[0.0,\"#0d0887\"],[0.1111111111111111,\"#46039f\"],[0.2222222222222222,\"#7201a8\"],[0.3333333333333333,\"#9c179e\"],[0.4444444444444444,\"#bd3786\"],[0.5555555555555556,\"#d8576b\"],[0.6666666666666666,\"#ed7953\"],[0.7777777777777778,\"#fb9f3a\"],[0.8888888888888888,\"#fdca26\"],[1.0,\"#f0f921\"]],\"diverging\":[[0,\"#8e0152\"],[0.1,\"#c51b7d\"],[0.2,\"#de77ae\"],[0.3,\"#f1b6da\"],[0.4,\"#fde0ef\"],[0.5,\"#f7f7f7\"],[0.6,\"#e6f5d0\"],[0.7,\"#b8e186\"],[0.8,\"#7fbc41\"],[0.9,\"#4d9221\"],[1,\"#276419\"]]},\"xaxis\":{\"gridcolor\":\"white\",\"linecolor\":\"white\",\"ticks\":\"\",\"title\":{\"standoff\":15},\"zerolinecolor\":\"white\",\"automargin\":true,\"zerolinewidth\":2},\"yaxis\":{\"gridcolor\":\"white\",\"linecolor\":\"white\",\"ticks\":\"\",\"title\":{\"standoff\":15},\"zerolinecolor\":\"white\",\"automargin\":true,\"zerolinewidth\":2},\"scene\":{\"xaxis\":{\"backgroundcolor\":\"#E5ECF6\",\"gridcolor\":\"white\",\"linecolor\":\"white\",\"showbackground\":true,\"ticks\":\"\",\"zerolinecolor\":\"white\",\"gridwidth\":2},\"yaxis\":{\"backgroundcolor\":\"#E5ECF6\",\"gridcolor\":\"white\",\"linecolor\":\"white\",\"showbackground\":true,\"ticks\":\"\",\"zerolinecolor\":\"white\",\"gridwidth\":2},\"zaxis\":{\"backgroundcolor\":\"#E5ECF6\",\"gridcolor\":\"white\",\"linecolor\":\"white\",\"showbackground\":true,\"ticks\":\"\",\"zerolinecolor\":\"white\",\"gridwidth\":2}},\"shapedefaults\":{\"line\":{\"color\":\"#2a3f5f\"}},\"annotationdefaults\":{\"arrowcolor\":\"#2a3f5f\",\"arrowhead\":0,\"arrowwidth\":1},\"geo\":{\"bgcolor\":\"white\",\"landcolor\":\"#E5ECF6\",\"subunitcolor\":\"white\",\"showland\":true,\"showlakes\":true,\"lakecolor\":\"white\"},\"title\":{\"x\":0.05},\"mapbox\":{\"style\":\"light\"}}},\"xaxis\":{\"anchor\":\"y\",\"domain\":[0.0,0.45],\"title\":{\"text\":\"heads output\"},\"range\":[-10,10]},\"yaxis\":{\"anchor\":\"x\",\"domain\":[0.625,1.0],\"title\":{\"text\":\"\"},\"range\":[-10,10]},\"xaxis2\":{\"anchor\":\"y2\",\"domain\":[0.55,1.0],\"title\":{\"text\":\"heads output\"},\"range\":[-10,10]},\"yaxis2\":{\"anchor\":\"x2\",\"domain\":[0.625,1.0],\"title\":{\"text\":\"\"},\"range\":[-10,10]},\"xaxis3\":{\"anchor\":\"y3\",\"domain\":[0.0,0.45],\"title\":{\"text\":\"unembeddings\"},\"range\":[-5,5]},\"yaxis3\":{\"anchor\":\"x3\",\"domain\":[0.0,0.375],\"title\":{\"text\":\"\"},\"range\":[-5,5]},\"xaxis4\":{\"anchor\":\"y4\",\"domain\":[0.55,1.0],\"title\":{\"text\":\"output\"},\"range\":[-10,10]},\"yaxis4\":{\"anchor\":\"x4\",\"domain\":[0.0,0.375],\"title\":{\"text\":\"\"},\"range\":[-10,10]},\"annotations\":[{\"font\":{\"size\":16},\"showarrow\":false,\"text\":\"head 1\",\"x\":0.225,\"xanchor\":\"center\",\"xref\":\"paper\",\"y\":1.0,\"yanchor\":\"bottom\",\"yref\":\"paper\"},{\"font\":{\"size\":16},\"showarrow\":false,\"text\":\"head 2\",\"x\":0.775,\"xanchor\":\"center\",\"xref\":\"paper\",\"y\":1.0,\"yanchor\":\"bottom\",\"yref\":\"paper\"}],\"title\":{\"text\":\"\"},\"width\":800,\"height\":800,\"showlegend\":false},                        {\"responsive\": true}                    ).then(function(){\n",
       "                            \n",
       "var gd = document.getElementById('587570af-94cf-449f-a7e9-1a148a8f1c86');\n",
       "var x = new MutationObserver(function (mutations, observer) {{\n",
       "        var display = window.getComputedStyle(gd).display;\n",
       "        if (!display || display === 'none') {{\n",
       "            console.log([gd, 'removed!']);\n",
       "            Plotly.purge(gd);\n",
       "            observer.disconnect();\n",
       "        }}\n",
       "}});\n",
       "\n",
       "// Listen for the removal of the full notebook cells\n",
       "var notebookContainer = gd.closest('#notebook-container');\n",
       "if (notebookContainer) {{\n",
       "    x.observe(notebookContainer, {childList: true});\n",
       "}}\n",
       "\n",
       "// Listen for the clearing of the current output cell\n",
       "var outputEl = gd.closest('.output');\n",
       "if (outputEl) {{\n",
       "    x.observe(outputEl, {childList: true});\n",
       "}}\n",
       "\n",
       "                        })                };                });            </script>        </div>"
      ]
     },
     "metadata": {},
     "output_type": "display_data"
    }
   ],
   "source": [
    "import torch\n",
    "import plotly.graph_objects as go\n",
    "from plotly.subplots import make_subplots\n",
    "\n",
    "vector_out_heads = [out_heads[:, i] for i in range(out_heads.size(1))]\n",
    "vector_unembeds = [unembeds[i] for i in range(unembeds.size(0))]\n",
    "vector_out = [out[i] for i in range(out.size(0))]\n",
    "\n",
    "names_out_heads = [\n",
    "    [f'{i}' for i in range(out_heads[:, j].size(0))] for j in range(out_heads.size(1))\n",
    "]\n",
    "names_unembeds = [\n",
    "    [f'{i}' for i in range(unembeds[j].size(0))] for j in range(unembeds.size(0))\n",
    "]\n",
    "names_out = [\n",
    "    [f'{i}' for i in range(out[j].size(0))] for j in range(out.size(0))\n",
    "]\n",
    "\n",
    "fig = make_subplots(rows=2, cols=len(vector_out_heads), subplot_titles=[f'head {i+1}' for i in range(len(vector_out_heads))])\n",
    "\n",
    "for idx, (vectors, names) in enumerate(zip(vector_out_heads, names_out_heads)):\n",
    "    x_start = torch.zeros(vectors.size(0))\n",
    "    y_start = torch.zeros(vectors.size(0))\n",
    "\n",
    "    x_end = vectors[:, 0]\n",
    "    y_end = vectors[:, 1]\n",
    "\n",
    "    for i in range(vectors.size(0)):\n",
    "        fig.add_trace(go.Scatter(\n",
    "            x=[x_start[i].item(), x_end[i].item()],\n",
    "            y=[y_start[i].item(), y_end[i].item()],\n",
    "            mode='lines+markers+text',\n",
    "            text=[None, names[i]],  # 在终点添加文本\n",
    "            textposition='top center',  # 文本位置\n",
    "            name=names[i],\n",
    "        ), row=1, col=idx+1)\n",
    "\n",
    "for idx, (vectors, names) in enumerate(zip(vector_unembeds, names_unembeds)):\n",
    "    x_start = torch.zeros(vectors.size(0))\n",
    "    y_start = torch.zeros(vectors.size(0))\n",
    "\n",
    "    x_end = vectors[:, 0]\n",
    "    y_end = vectors[:, 1]\n",
    "\n",
    "    for i in range(vectors.size(0)):\n",
    "        fig.add_trace(go.Scatter(\n",
    "            x=[x_start[i].item(), x_end[i].item()],\n",
    "            y=[y_start[i].item(), y_end[i].item()],\n",
    "            mode='lines+markers+text',\n",
    "            text=[None, names[i]],  # 在终点添加文本\n",
    "            textposition='top center',  # 文本位置\n",
    "            name=names[i],\n",
    "        ), row=2, col=idx+1)\n",
    "        \n",
    "for idx, (vectors, names) in enumerate(zip(vector_out, names_out)):\n",
    "    x_start = torch.zeros(vectors.size(0))\n",
    "    y_start = torch.zeros(vectors.size(0))\n",
    "\n",
    "    x_end = vectors[:, 0]\n",
    "    y_end = vectors[:, 1]\n",
    "\n",
    "    for i in range(vectors.size(0)):\n",
    "        fig.add_trace(go.Scatter(\n",
    "            x=[x_start[i].item(), x_end[i].item()],\n",
    "            y=[y_start[i].item(), y_end[i].item()],\n",
    "            mode='lines+markers+text',\n",
    "            text=[None, names[i]],  # 在终点添加文本\n",
    "            textposition='top center',  # 文本位置\n",
    "            name=names[i],\n",
    "        ), row=2, col=idx+2)\n",
    "        \n",
    "fig.update_layout(\n",
    "    title='',\n",
    "    width=300 * len(vector_out_heads),\n",
    "    height=300 * 2,\n",
    "    showlegend=False\n",
    ")\n",
    "\n",
    "for idx in range(len(vector_out_heads)):\n",
    "    fig.update_xaxes(range=[-10, 10], row=1, col=idx+1, title_text='heads output')\n",
    "    fig.update_yaxes(range=[-10, 10], row=1, col=idx+1, title_text='')\n",
    "\n",
    "for idx in range(1):\n",
    "    fig.update_xaxes(range=[-5, 5], row=2, col=idx+1, title_text='unembeddings')\n",
    "    fig.update_yaxes(range=[-5, 5], row=2, col=idx+1, title_text='')\n",
    "    fig.update_xaxes(range=[-10, 10], row=2, col=idx+2, title_text='output')\n",
    "    fig.update_yaxes(range=[-10, 10], row=2, col=idx+2, title_text='')\n",
    "\n",
    "# 显示图形\n",
    "fig.show()\n"
   ]
  },
  {
   "cell_type": "code",
   "execution_count": 53,
   "metadata": {},
   "outputs": [],
   "source": [
    "embeds = model.embed.weight.unsqueeze(0)\n",
    "unembeds = model.unembed.weight.unsqueeze(0)\n",
    "q = model.embed.weight @ model.attn.W_Q + model.attn.b_Q.unsqueeze(1)\n",
    "k = model.embed.weight @ model.attn.W_K + model.attn.b_K.unsqueeze(1)\n",
    "ov = (model.embed.weight @ model.attn.W_V + model.attn.b_V.unsqueeze(1)) @ model.attn.W_O"
   ]
  },
  {
   "cell_type": "code",
   "execution_count": 54,
   "metadata": {},
   "outputs": [
    {
     "data": {
      "application/vnd.plotly.v1+json": {
       "config": {
        "plotlyServerURL": "https://plot.ly"
       },
       "data": [
        {
         "mode": "lines+markers+text",
         "name": "0",
         "text": [
          null,
          "0"
         ],
         "textposition": "top center",
         "type": "scatter",
         "x": [
          0,
          2.916569471359253
         ],
         "xaxis": "x",
         "y": [
          0,
          0.12669436633586884
         ],
         "yaxis": "y"
        },
        {
         "mode": "lines+markers+text",
         "name": "1",
         "text": [
          null,
          "1"
         ],
         "textposition": "top center",
         "type": "scatter",
         "x": [
          0,
          -0.2387271672487259
         ],
         "xaxis": "x",
         "y": [
          0,
          0.14703187346458435
         ],
         "yaxis": "y"
        },
        {
         "mode": "lines+markers+text",
         "name": "2",
         "text": [
          null,
          "2"
         ],
         "textposition": "top center",
         "type": "scatter",
         "x": [
          0,
          -0.26663097739219666
         ],
         "xaxis": "x",
         "y": [
          0,
          -0.32972174882888794
         ],
         "yaxis": "y"
        },
        {
         "mode": "lines+markers+text",
         "name": "3",
         "text": [
          null,
          "3"
         ],
         "textposition": "top center",
         "type": "scatter",
         "x": [
          0,
          -1.2895069122314453
         ],
         "xaxis": "x",
         "y": [
          0,
          -0.20914040505886078
         ],
         "yaxis": "y"
        },
        {
         "mode": "lines+markers+text",
         "name": "4",
         "text": [
          null,
          "4"
         ],
         "textposition": "top center",
         "type": "scatter",
         "x": [
          0,
          1.3880788087844849
         ],
         "xaxis": "x",
         "y": [
          0,
          -0.0852079838514328
         ],
         "yaxis": "y"
        },
        {
         "mode": "lines+markers+text",
         "name": "5",
         "text": [
          null,
          "5"
         ],
         "textposition": "top center",
         "type": "scatter",
         "x": [
          0,
          -1.393420934677124
         ],
         "xaxis": "x",
         "y": [
          0,
          0.19849281013011932
         ],
         "yaxis": "y"
        },
        {
         "mode": "lines+markers+text",
         "name": "0",
         "text": [
          null,
          "0"
         ],
         "textposition": "top center",
         "type": "scatter",
         "x": [
          0,
          2.165346145629883
         ],
         "xaxis": "x2",
         "y": [
          0,
          -1.8742085695266724
         ],
         "yaxis": "y2"
        },
        {
         "mode": "lines+markers+text",
         "name": "1",
         "text": [
          null,
          "1"
         ],
         "textposition": "top center",
         "type": "scatter",
         "x": [
          0,
          0.18228304386138916
         ],
         "xaxis": "x2",
         "y": [
          0,
          0.7120401859283447
         ],
         "yaxis": "y2"
        },
        {
         "mode": "lines+markers+text",
         "name": "2",
         "text": [
          null,
          "2"
         ],
         "textposition": "top center",
         "type": "scatter",
         "x": [
          0,
          -0.9246149063110352
         ],
         "xaxis": "x2",
         "y": [
          0,
          -0.957763135433197
         ],
         "yaxis": "y2"
        },
        {
         "mode": "lines+markers+text",
         "name": "3",
         "text": [
          null,
          "3"
         ],
         "textposition": "top center",
         "type": "scatter",
         "x": [
          0,
          -1.3071190118789673
         ],
         "xaxis": "x2",
         "y": [
          0,
          0.2851942181587219
         ],
         "yaxis": "y2"
        },
        {
         "mode": "lines+markers+text",
         "name": "4",
         "text": [
          null,
          "4"
         ],
         "textposition": "top center",
         "type": "scatter",
         "x": [
          0,
          0.6982020735740662
         ],
         "xaxis": "x2",
         "y": [
          0,
          -1.4083999395370483
         ],
         "yaxis": "y2"
        },
        {
         "mode": "lines+markers+text",
         "name": "5",
         "text": [
          null,
          "5"
         ],
         "textposition": "top center",
         "type": "scatter",
         "x": [
          0,
          -0.44288504123687744
         ],
         "xaxis": "x2",
         "y": [
          0,
          1.8147132396697998
         ],
         "yaxis": "y2"
        },
        {
         "mode": "lines+markers+text",
         "name": "0",
         "text": [
          null,
          "0"
         ],
         "textposition": "top center",
         "type": "scatter",
         "x": [
          0,
          2.3431570529937744
         ],
         "xaxis": "x3",
         "y": [
          0,
          -1.4737801551818848
         ],
         "yaxis": "y3"
        },
        {
         "mode": "lines+markers+text",
         "name": "1",
         "text": [
          null,
          "1"
         ],
         "textposition": "top center",
         "type": "scatter",
         "x": [
          0,
          -0.06383613497018814
         ],
         "xaxis": "x3",
         "y": [
          0,
          -0.07792723923921585
         ],
         "yaxis": "y3"
        },
        {
         "mode": "lines+markers+text",
         "name": "2",
         "text": [
          null,
          "2"
         ],
         "textposition": "top center",
         "type": "scatter",
         "x": [
          0,
          -0.47283345460891724
         ],
         "xaxis": "x3",
         "y": [
          0,
          0.5360578298568726
         ],
         "yaxis": "y3"
        },
        {
         "mode": "lines+markers+text",
         "name": "3",
         "text": [
          null,
          "3"
         ],
         "textposition": "top center",
         "type": "scatter",
         "x": [
          0,
          -1.1604623794555664
         ],
         "xaxis": "x3",
         "y": [
          0,
          0.8447680473327637
         ],
         "yaxis": "y3"
        },
        {
         "mode": "lines+markers+text",
         "name": "4",
         "text": [
          null,
          "4"
         ],
         "textposition": "top center",
         "type": "scatter",
         "x": [
          0,
          0.9968904852867126
         ],
         "xaxis": "x3",
         "y": [
          0,
          -0.5178622603416443
         ],
         "yaxis": "y3"
        },
        {
         "mode": "lines+markers+text",
         "name": "5",
         "text": [
          null,
          "5"
         ],
         "textposition": "top center",
         "type": "scatter",
         "x": [
          0,
          -0.9089016318321228
         ],
         "xaxis": "x3",
         "y": [
          0,
          0.3773626983165741
         ],
         "yaxis": "y3"
        },
        {
         "mode": "lines+markers+text",
         "name": "0",
         "text": [
          null,
          "0"
         ],
         "textposition": "top center",
         "type": "scatter",
         "x": [
          0,
          2.9524059295654297
         ],
         "xaxis": "x4",
         "y": [
          0,
          1.1083754301071167
         ],
         "yaxis": "y4"
        },
        {
         "mode": "lines+markers+text",
         "name": "1",
         "text": [
          null,
          "1"
         ],
         "textposition": "top center",
         "type": "scatter",
         "x": [
          0,
          -0.8140906691551208
         ],
         "xaxis": "x4",
         "y": [
          0,
          0.13462087512016296
         ],
         "yaxis": "y4"
        },
        {
         "mode": "lines+markers+text",
         "name": "2",
         "text": [
          null,
          "2"
         ],
         "textposition": "top center",
         "type": "scatter",
         "x": [
          0,
          0.8870830535888672
         ],
         "xaxis": "x4",
         "y": [
          0,
          -0.5567893385887146
         ],
         "yaxis": "y4"
        },
        {
         "mode": "lines+markers+text",
         "name": "3",
         "text": [
          null,
          "3"
         ],
         "textposition": "top center",
         "type": "scatter",
         "x": [
          0,
          -0.7484762668609619
         ],
         "xaxis": "x4",
         "y": [
          0,
          -0.7092678546905518
         ],
         "yaxis": "y4"
        },
        {
         "mode": "lines+markers+text",
         "name": "4",
         "text": [
          null,
          "4"
         ],
         "textposition": "top center",
         "type": "scatter",
         "x": [
          0,
          1.9342998266220093
         ],
         "xaxis": "x4",
         "y": [
          0,
          0.31919562816619873
         ],
         "yaxis": "y4"
        },
        {
         "mode": "lines+markers+text",
         "name": "5",
         "text": [
          null,
          "5"
         ],
         "textposition": "top center",
         "type": "scatter",
         "x": [
          0,
          -2.3525390625
         ],
         "xaxis": "x4",
         "y": [
          0,
          -0.15871001780033112
         ],
         "yaxis": "y4"
        },
        {
         "mode": "lines+markers+text",
         "name": "0",
         "text": [
          null,
          "0"
         ],
         "textposition": "top center",
         "type": "scatter",
         "x": [
          0,
          8.884594917297363
         ],
         "xaxis": "x5",
         "y": [
          0,
          -6.708389759063721
         ],
         "yaxis": "y5"
        },
        {
         "mode": "lines+markers+text",
         "name": "1",
         "text": [
          null,
          "1"
         ],
         "textposition": "top center",
         "type": "scatter",
         "x": [
          0,
          -1.6646641492843628
         ],
         "xaxis": "x5",
         "y": [
          0,
          1.2497071027755737
         ],
         "yaxis": "y5"
        },
        {
         "mode": "lines+markers+text",
         "name": "2",
         "text": [
          null,
          "2"
         ],
         "textposition": "top center",
         "type": "scatter",
         "x": [
          0,
          1.082524299621582
         ],
         "xaxis": "x5",
         "y": [
          0,
          -0.8027927279472351
         ],
         "yaxis": "y5"
        },
        {
         "mode": "lines+markers+text",
         "name": "3",
         "text": [
          null,
          "3"
         ],
         "textposition": "top center",
         "type": "scatter",
         "x": [
          0,
          -3.0161900520324707
         ],
         "xaxis": "x5",
         "y": [
          0,
          2.284416437149048
         ],
         "yaxis": "y5"
        },
        {
         "mode": "lines+markers+text",
         "name": "4",
         "text": [
          null,
          "4"
         ],
         "textposition": "top center",
         "type": "scatter",
         "x": [
          0,
          5.095022201538086
         ],
         "xaxis": "x5",
         "y": [
          0,
          -3.8403735160827637
         ],
         "yaxis": "y5"
        },
        {
         "mode": "lines+markers+text",
         "name": "5",
         "text": [
          null,
          "5"
         ],
         "textposition": "top center",
         "type": "scatter",
         "x": [
          0,
          -5.787370204925537
         ],
         "xaxis": "x5",
         "y": [
          0,
          4.357935428619385
         ],
         "yaxis": "y5"
        },
        {
         "mode": "lines+markers+text",
         "name": "0",
         "text": [
          null,
          "0"
         ],
         "textposition": "top center",
         "type": "scatter",
         "x": [
          0,
          -5.057223796844482
         ],
         "xaxis": "x6",
         "y": [
          0,
          -5.630390644073486
         ],
         "yaxis": "y6"
        },
        {
         "mode": "lines+markers+text",
         "name": "1",
         "text": [
          null,
          "1"
         ],
         "textposition": "top center",
         "type": "scatter",
         "x": [
          0,
          -0.7285031080245972
         ],
         "xaxis": "x6",
         "y": [
          0,
          -0.7161048650741577
         ],
         "yaxis": "y6"
        },
        {
         "mode": "lines+markers+text",
         "name": "2",
         "text": [
          null,
          "2"
         ],
         "textposition": "top center",
         "type": "scatter",
         "x": [
          0,
          2.7714309692382812
         ],
         "xaxis": "x6",
         "y": [
          0,
          2.893594264984131
         ],
         "yaxis": "y6"
        },
        {
         "mode": "lines+markers+text",
         "name": "3",
         "text": [
          null,
          "3"
         ],
         "textposition": "top center",
         "type": "scatter",
         "x": [
          0,
          3.347360134124756
         ],
         "xaxis": "x6",
         "y": [
          0,
          3.6343541145324707
         ],
         "yaxis": "y6"
        },
        {
         "mode": "lines+markers+text",
         "name": "4",
         "text": [
          null,
          "4"
         ],
         "textposition": "top center",
         "type": "scatter",
         "x": [
          0,
          -1.3507773876190186
         ],
         "xaxis": "x6",
         "y": [
          0,
          -1.59165620803833
         ],
         "yaxis": "y6"
        },
        {
         "mode": "lines+markers+text",
         "name": "5",
         "text": [
          null,
          "5"
         ],
         "textposition": "top center",
         "type": "scatter",
         "x": [
          0,
          0.5361182689666748
         ],
         "xaxis": "x6",
         "y": [
          0,
          0.7531538009643555
         ],
         "yaxis": "y6"
        },
        {
         "mode": "lines+markers+text",
         "name": "0",
         "text": [
          null,
          "0"
         ],
         "textposition": "top center",
         "type": "scatter",
         "x": [
          0,
          1.4146878719329834
         ],
         "xaxis": "x7",
         "y": [
          0,
          -2.36696195602417
         ],
         "yaxis": "y7"
        },
        {
         "mode": "lines+markers+text",
         "name": "1",
         "text": [
          null,
          "1"
         ],
         "textposition": "top center",
         "type": "scatter",
         "x": [
          0,
          -0.6835797429084778
         ],
         "xaxis": "x7",
         "y": [
          0,
          -0.10263418406248093
         ],
         "yaxis": "y7"
        },
        {
         "mode": "lines+markers+text",
         "name": "2",
         "text": [
          null,
          "2"
         ],
         "textposition": "top center",
         "type": "scatter",
         "x": [
          0,
          1.01827073097229
         ],
         "xaxis": "x7",
         "y": [
          0,
          0.8154160380363464
         ],
         "yaxis": "y7"
        },
        {
         "mode": "lines+markers+text",
         "name": "3",
         "text": [
          null,
          "3"
         ],
         "textposition": "top center",
         "type": "scatter",
         "x": [
          0,
          -0.07312209159135818
         ],
         "xaxis": "x7",
         "y": [
          0,
          1.3348294496536255
         ],
         "yaxis": "y7"
        },
        {
         "mode": "lines+markers+text",
         "name": "4",
         "text": [
          null,
          "4"
         ],
         "textposition": "top center",
         "type": "scatter",
         "x": [
          0,
          1.1981613636016846
         ],
         "xaxis": "x7",
         "y": [
          0,
          -0.8525303602218628
         ],
         "yaxis": "y7"
        },
        {
         "mode": "lines+markers+text",
         "name": "5",
         "text": [
          null,
          "5"
         ],
         "textposition": "top center",
         "type": "scatter",
         "x": [
          0,
          -1.6102335453033447
         ],
         "xaxis": "x7",
         "y": [
          0,
          0.6431230306625366
         ],
         "yaxis": "y7"
        },
        {
         "mode": "lines+markers+text",
         "name": "0",
         "text": [
          null,
          "0"
         ],
         "textposition": "top center",
         "type": "scatter",
         "x": [
          0,
          -0.7380790710449219
         ],
         "xaxis": "x8",
         "y": [
          0,
          -1.0728460550308228
         ],
         "yaxis": "y8"
        },
        {
         "mode": "lines+markers+text",
         "name": "1",
         "text": [
          null,
          "1"
         ],
         "textposition": "top center",
         "type": "scatter",
         "x": [
          0,
          1.5124541521072388
         ],
         "xaxis": "x8",
         "y": [
          0,
          0.22173123061656952
         ],
         "yaxis": "y8"
        },
        {
         "mode": "lines+markers+text",
         "name": "2",
         "text": [
          null,
          "2"
         ],
         "textposition": "top center",
         "type": "scatter",
         "x": [
          0,
          -0.17499911785125732
         ],
         "xaxis": "x8",
         "y": [
          0,
          1.1923511028289795
         ],
         "yaxis": "y8"
        },
        {
         "mode": "lines+markers+text",
         "name": "3",
         "text": [
          null,
          "3"
         ],
         "textposition": "top center",
         "type": "scatter",
         "x": [
          0,
          0.7014053463935852
         ],
         "xaxis": "x8",
         "y": [
          0,
          -0.8374024629592896
         ],
         "yaxis": "y8"
        },
        {
         "mode": "lines+markers+text",
         "name": "4",
         "text": [
          null,
          "4"
         ],
         "textposition": "top center",
         "type": "scatter",
         "x": [
          0,
          -1.0735126733779907
         ],
         "xaxis": "x8",
         "y": [
          0,
          0.2950870394706726
         ],
         "yaxis": "y8"
        }
       ],
       "layout": {
        "annotations": [
         {
          "font": {
           "size": 16
          },
          "showarrow": false,
          "text": "head 1",
          "x": 0.225,
          "xanchor": "center",
          "xref": "paper",
          "y": 1,
          "yanchor": "bottom",
          "yref": "paper"
         },
         {
          "font": {
           "size": 16
          },
          "showarrow": false,
          "text": "head 2",
          "x": 0.775,
          "xanchor": "center",
          "xref": "paper",
          "y": 1,
          "yanchor": "bottom",
          "yref": "paper"
         }
        ],
        "height": 1600,
        "showlegend": false,
        "template": {
         "data": {
          "bar": [
           {
            "error_x": {
             "color": "#2a3f5f"
            },
            "error_y": {
             "color": "#2a3f5f"
            },
            "marker": {
             "line": {
              "color": "#E5ECF6",
              "width": 0.5
             },
             "pattern": {
              "fillmode": "overlay",
              "size": 10,
              "solidity": 0.2
             }
            },
            "type": "bar"
           }
          ],
          "barpolar": [
           {
            "marker": {
             "line": {
              "color": "#E5ECF6",
              "width": 0.5
             },
             "pattern": {
              "fillmode": "overlay",
              "size": 10,
              "solidity": 0.2
             }
            },
            "type": "barpolar"
           }
          ],
          "carpet": [
           {
            "aaxis": {
             "endlinecolor": "#2a3f5f",
             "gridcolor": "white",
             "linecolor": "white",
             "minorgridcolor": "white",
             "startlinecolor": "#2a3f5f"
            },
            "baxis": {
             "endlinecolor": "#2a3f5f",
             "gridcolor": "white",
             "linecolor": "white",
             "minorgridcolor": "white",
             "startlinecolor": "#2a3f5f"
            },
            "type": "carpet"
           }
          ],
          "choropleth": [
           {
            "colorbar": {
             "outlinewidth": 0,
             "ticks": ""
            },
            "type": "choropleth"
           }
          ],
          "contour": [
           {
            "colorbar": {
             "outlinewidth": 0,
             "ticks": ""
            },
            "colorscale": [
             [
              0,
              "#0d0887"
             ],
             [
              0.1111111111111111,
              "#46039f"
             ],
             [
              0.2222222222222222,
              "#7201a8"
             ],
             [
              0.3333333333333333,
              "#9c179e"
             ],
             [
              0.4444444444444444,
              "#bd3786"
             ],
             [
              0.5555555555555556,
              "#d8576b"
             ],
             [
              0.6666666666666666,
              "#ed7953"
             ],
             [
              0.7777777777777778,
              "#fb9f3a"
             ],
             [
              0.8888888888888888,
              "#fdca26"
             ],
             [
              1,
              "#f0f921"
             ]
            ],
            "type": "contour"
           }
          ],
          "contourcarpet": [
           {
            "colorbar": {
             "outlinewidth": 0,
             "ticks": ""
            },
            "type": "contourcarpet"
           }
          ],
          "heatmap": [
           {
            "colorbar": {
             "outlinewidth": 0,
             "ticks": ""
            },
            "colorscale": [
             [
              0,
              "#0d0887"
             ],
             [
              0.1111111111111111,
              "#46039f"
             ],
             [
              0.2222222222222222,
              "#7201a8"
             ],
             [
              0.3333333333333333,
              "#9c179e"
             ],
             [
              0.4444444444444444,
              "#bd3786"
             ],
             [
              0.5555555555555556,
              "#d8576b"
             ],
             [
              0.6666666666666666,
              "#ed7953"
             ],
             [
              0.7777777777777778,
              "#fb9f3a"
             ],
             [
              0.8888888888888888,
              "#fdca26"
             ],
             [
              1,
              "#f0f921"
             ]
            ],
            "type": "heatmap"
           }
          ],
          "heatmapgl": [
           {
            "colorbar": {
             "outlinewidth": 0,
             "ticks": ""
            },
            "colorscale": [
             [
              0,
              "#0d0887"
             ],
             [
              0.1111111111111111,
              "#46039f"
             ],
             [
              0.2222222222222222,
              "#7201a8"
             ],
             [
              0.3333333333333333,
              "#9c179e"
             ],
             [
              0.4444444444444444,
              "#bd3786"
             ],
             [
              0.5555555555555556,
              "#d8576b"
             ],
             [
              0.6666666666666666,
              "#ed7953"
             ],
             [
              0.7777777777777778,
              "#fb9f3a"
             ],
             [
              0.8888888888888888,
              "#fdca26"
             ],
             [
              1,
              "#f0f921"
             ]
            ],
            "type": "heatmapgl"
           }
          ],
          "histogram": [
           {
            "marker": {
             "pattern": {
              "fillmode": "overlay",
              "size": 10,
              "solidity": 0.2
             }
            },
            "type": "histogram"
           }
          ],
          "histogram2d": [
           {
            "colorbar": {
             "outlinewidth": 0,
             "ticks": ""
            },
            "colorscale": [
             [
              0,
              "#0d0887"
             ],
             [
              0.1111111111111111,
              "#46039f"
             ],
             [
              0.2222222222222222,
              "#7201a8"
             ],
             [
              0.3333333333333333,
              "#9c179e"
             ],
             [
              0.4444444444444444,
              "#bd3786"
             ],
             [
              0.5555555555555556,
              "#d8576b"
             ],
             [
              0.6666666666666666,
              "#ed7953"
             ],
             [
              0.7777777777777778,
              "#fb9f3a"
             ],
             [
              0.8888888888888888,
              "#fdca26"
             ],
             [
              1,
              "#f0f921"
             ]
            ],
            "type": "histogram2d"
           }
          ],
          "histogram2dcontour": [
           {
            "colorbar": {
             "outlinewidth": 0,
             "ticks": ""
            },
            "colorscale": [
             [
              0,
              "#0d0887"
             ],
             [
              0.1111111111111111,
              "#46039f"
             ],
             [
              0.2222222222222222,
              "#7201a8"
             ],
             [
              0.3333333333333333,
              "#9c179e"
             ],
             [
              0.4444444444444444,
              "#bd3786"
             ],
             [
              0.5555555555555556,
              "#d8576b"
             ],
             [
              0.6666666666666666,
              "#ed7953"
             ],
             [
              0.7777777777777778,
              "#fb9f3a"
             ],
             [
              0.8888888888888888,
              "#fdca26"
             ],
             [
              1,
              "#f0f921"
             ]
            ],
            "type": "histogram2dcontour"
           }
          ],
          "mesh3d": [
           {
            "colorbar": {
             "outlinewidth": 0,
             "ticks": ""
            },
            "type": "mesh3d"
           }
          ],
          "parcoords": [
           {
            "line": {
             "colorbar": {
              "outlinewidth": 0,
              "ticks": ""
             }
            },
            "type": "parcoords"
           }
          ],
          "pie": [
           {
            "automargin": true,
            "type": "pie"
           }
          ],
          "scatter": [
           {
            "fillpattern": {
             "fillmode": "overlay",
             "size": 10,
             "solidity": 0.2
            },
            "type": "scatter"
           }
          ],
          "scatter3d": [
           {
            "line": {
             "colorbar": {
              "outlinewidth": 0,
              "ticks": ""
             }
            },
            "marker": {
             "colorbar": {
              "outlinewidth": 0,
              "ticks": ""
             }
            },
            "type": "scatter3d"
           }
          ],
          "scattercarpet": [
           {
            "marker": {
             "colorbar": {
              "outlinewidth": 0,
              "ticks": ""
             }
            },
            "type": "scattercarpet"
           }
          ],
          "scattergeo": [
           {
            "marker": {
             "colorbar": {
              "outlinewidth": 0,
              "ticks": ""
             }
            },
            "type": "scattergeo"
           }
          ],
          "scattergl": [
           {
            "marker": {
             "colorbar": {
              "outlinewidth": 0,
              "ticks": ""
             }
            },
            "type": "scattergl"
           }
          ],
          "scattermapbox": [
           {
            "marker": {
             "colorbar": {
              "outlinewidth": 0,
              "ticks": ""
             }
            },
            "type": "scattermapbox"
           }
          ],
          "scatterpolar": [
           {
            "marker": {
             "colorbar": {
              "outlinewidth": 0,
              "ticks": ""
             }
            },
            "type": "scatterpolar"
           }
          ],
          "scatterpolargl": [
           {
            "marker": {
             "colorbar": {
              "outlinewidth": 0,
              "ticks": ""
             }
            },
            "type": "scatterpolargl"
           }
          ],
          "scatterternary": [
           {
            "marker": {
             "colorbar": {
              "outlinewidth": 0,
              "ticks": ""
             }
            },
            "type": "scatterternary"
           }
          ],
          "surface": [
           {
            "colorbar": {
             "outlinewidth": 0,
             "ticks": ""
            },
            "colorscale": [
             [
              0,
              "#0d0887"
             ],
             [
              0.1111111111111111,
              "#46039f"
             ],
             [
              0.2222222222222222,
              "#7201a8"
             ],
             [
              0.3333333333333333,
              "#9c179e"
             ],
             [
              0.4444444444444444,
              "#bd3786"
             ],
             [
              0.5555555555555556,
              "#d8576b"
             ],
             [
              0.6666666666666666,
              "#ed7953"
             ],
             [
              0.7777777777777778,
              "#fb9f3a"
             ],
             [
              0.8888888888888888,
              "#fdca26"
             ],
             [
              1,
              "#f0f921"
             ]
            ],
            "type": "surface"
           }
          ],
          "table": [
           {
            "cells": {
             "fill": {
              "color": "#EBF0F8"
             },
             "line": {
              "color": "white"
             }
            },
            "header": {
             "fill": {
              "color": "#C8D4E3"
             },
             "line": {
              "color": "white"
             }
            },
            "type": "table"
           }
          ]
         },
         "layout": {
          "annotationdefaults": {
           "arrowcolor": "#2a3f5f",
           "arrowhead": 0,
           "arrowwidth": 1
          },
          "autotypenumbers": "strict",
          "coloraxis": {
           "colorbar": {
            "outlinewidth": 0,
            "ticks": ""
           }
          },
          "colorscale": {
           "diverging": [
            [
             0,
             "#8e0152"
            ],
            [
             0.1,
             "#c51b7d"
            ],
            [
             0.2,
             "#de77ae"
            ],
            [
             0.3,
             "#f1b6da"
            ],
            [
             0.4,
             "#fde0ef"
            ],
            [
             0.5,
             "#f7f7f7"
            ],
            [
             0.6,
             "#e6f5d0"
            ],
            [
             0.7,
             "#b8e186"
            ],
            [
             0.8,
             "#7fbc41"
            ],
            [
             0.9,
             "#4d9221"
            ],
            [
             1,
             "#276419"
            ]
           ],
           "sequential": [
            [
             0,
             "#0d0887"
            ],
            [
             0.1111111111111111,
             "#46039f"
            ],
            [
             0.2222222222222222,
             "#7201a8"
            ],
            [
             0.3333333333333333,
             "#9c179e"
            ],
            [
             0.4444444444444444,
             "#bd3786"
            ],
            [
             0.5555555555555556,
             "#d8576b"
            ],
            [
             0.6666666666666666,
             "#ed7953"
            ],
            [
             0.7777777777777778,
             "#fb9f3a"
            ],
            [
             0.8888888888888888,
             "#fdca26"
            ],
            [
             1,
             "#f0f921"
            ]
           ],
           "sequentialminus": [
            [
             0,
             "#0d0887"
            ],
            [
             0.1111111111111111,
             "#46039f"
            ],
            [
             0.2222222222222222,
             "#7201a8"
            ],
            [
             0.3333333333333333,
             "#9c179e"
            ],
            [
             0.4444444444444444,
             "#bd3786"
            ],
            [
             0.5555555555555556,
             "#d8576b"
            ],
            [
             0.6666666666666666,
             "#ed7953"
            ],
            [
             0.7777777777777778,
             "#fb9f3a"
            ],
            [
             0.8888888888888888,
             "#fdca26"
            ],
            [
             1,
             "#f0f921"
            ]
           ]
          },
          "colorway": [
           "#636efa",
           "#EF553B",
           "#00cc96",
           "#ab63fa",
           "#FFA15A",
           "#19d3f3",
           "#FF6692",
           "#B6E880",
           "#FF97FF",
           "#FECB52"
          ],
          "font": {
           "color": "#2a3f5f"
          },
          "geo": {
           "bgcolor": "white",
           "lakecolor": "white",
           "landcolor": "#E5ECF6",
           "showlakes": true,
           "showland": true,
           "subunitcolor": "white"
          },
          "hoverlabel": {
           "align": "left"
          },
          "hovermode": "closest",
          "mapbox": {
           "style": "light"
          },
          "paper_bgcolor": "white",
          "plot_bgcolor": "#E5ECF6",
          "polar": {
           "angularaxis": {
            "gridcolor": "white",
            "linecolor": "white",
            "ticks": ""
           },
           "bgcolor": "#E5ECF6",
           "radialaxis": {
            "gridcolor": "white",
            "linecolor": "white",
            "ticks": ""
           }
          },
          "scene": {
           "xaxis": {
            "backgroundcolor": "#E5ECF6",
            "gridcolor": "white",
            "gridwidth": 2,
            "linecolor": "white",
            "showbackground": true,
            "ticks": "",
            "zerolinecolor": "white"
           },
           "yaxis": {
            "backgroundcolor": "#E5ECF6",
            "gridcolor": "white",
            "gridwidth": 2,
            "linecolor": "white",
            "showbackground": true,
            "ticks": "",
            "zerolinecolor": "white"
           },
           "zaxis": {
            "backgroundcolor": "#E5ECF6",
            "gridcolor": "white",
            "gridwidth": 2,
            "linecolor": "white",
            "showbackground": true,
            "ticks": "",
            "zerolinecolor": "white"
           }
          },
          "shapedefaults": {
           "line": {
            "color": "#2a3f5f"
           }
          },
          "ternary": {
           "aaxis": {
            "gridcolor": "white",
            "linecolor": "white",
            "ticks": ""
           },
           "baxis": {
            "gridcolor": "white",
            "linecolor": "white",
            "ticks": ""
           },
           "bgcolor": "#E5ECF6",
           "caxis": {
            "gridcolor": "white",
            "linecolor": "white",
            "ticks": ""
           }
          },
          "title": {
           "x": 0.05
          },
          "xaxis": {
           "automargin": true,
           "gridcolor": "white",
           "linecolor": "white",
           "ticks": "",
           "title": {
            "standoff": 15
           },
           "zerolinecolor": "white",
           "zerolinewidth": 2
          },
          "yaxis": {
           "automargin": true,
           "gridcolor": "white",
           "linecolor": "white",
           "ticks": "",
           "title": {
            "standoff": 15
           },
           "zerolinecolor": "white",
           "zerolinewidth": 2
          }
         }
        },
        "title": {
         "text": ""
        },
        "width": 800,
        "xaxis": {
         "anchor": "y",
         "domain": [
          0,
          0.45
         ],
         "range": [
          -5,
          5
         ],
         "title": {
          "text": "q"
         }
        },
        "xaxis2": {
         "anchor": "y2",
         "domain": [
          0.55,
          1
         ],
         "range": [
          -5,
          5
         ],
         "title": {
          "text": "q"
         }
        },
        "xaxis3": {
         "anchor": "y3",
         "domain": [
          0,
          0.45
         ],
         "range": [
          -5,
          5
         ],
         "title": {
          "text": "k"
         }
        },
        "xaxis4": {
         "anchor": "y4",
         "domain": [
          0.55,
          1
         ],
         "range": [
          -5,
          5
         ],
         "title": {
          "text": "k"
         }
        },
        "xaxis5": {
         "anchor": "y5",
         "domain": [
          0,
          0.45
         ],
         "range": [
          -5,
          5
         ],
         "title": {
          "text": "ov"
         }
        },
        "xaxis6": {
         "anchor": "y6",
         "domain": [
          0.55,
          1
         ],
         "range": [
          -5,
          5
         ],
         "title": {
          "text": "ov"
         }
        },
        "xaxis7": {
         "anchor": "y7",
         "domain": [
          0,
          0.45
         ],
         "range": [
          -5,
          5
         ],
         "title": {
          "text": "embed"
         }
        },
        "xaxis8": {
         "anchor": "y8",
         "domain": [
          0.55,
          1
         ],
         "range": [
          -5,
          5
         ],
         "title": {
          "text": "unembed"
         }
        },
        "yaxis": {
         "anchor": "x",
         "domain": [
          0.84375,
          1
         ],
         "range": [
          -5,
          5
         ],
         "title": {
          "text": ""
         }
        },
        "yaxis2": {
         "anchor": "x2",
         "domain": [
          0.84375,
          1
         ],
         "range": [
          -5,
          5
         ],
         "title": {
          "text": ""
         }
        },
        "yaxis3": {
         "anchor": "x3",
         "domain": [
          0.5625,
          0.71875
         ],
         "range": [
          -5,
          5
         ],
         "title": {
          "text": ""
         }
        },
        "yaxis4": {
         "anchor": "x4",
         "domain": [
          0.5625,
          0.71875
         ],
         "range": [
          -5,
          5
         ],
         "title": {
          "text": ""
         }
        },
        "yaxis5": {
         "anchor": "x5",
         "domain": [
          0.28125,
          0.4375
         ],
         "range": [
          -5,
          5
         ],
         "title": {
          "text": ""
         }
        },
        "yaxis6": {
         "anchor": "x6",
         "domain": [
          0.28125,
          0.4375
         ],
         "range": [
          -5,
          5
         ],
         "title": {
          "text": ""
         }
        },
        "yaxis7": {
         "anchor": "x7",
         "domain": [
          0,
          0.15625
         ],
         "range": [
          -5,
          5
         ],
         "title": {
          "text": ""
         }
        },
        "yaxis8": {
         "anchor": "x8",
         "domain": [
          0,
          0.15625
         ],
         "range": [
          -5,
          5
         ],
         "title": {
          "text": ""
         }
        }
       }
      },
      "text/html": [
       "<div>                            <div id=\"dd927f5c-7c19-4c77-b7eb-9b9244368590\" class=\"plotly-graph-div\" style=\"height:1600px; width:800px;\"></div>            <script type=\"text/javascript\">                require([\"plotly\"], function(Plotly) {                    window.PLOTLYENV=window.PLOTLYENV || {};                                    if (document.getElementById(\"dd927f5c-7c19-4c77-b7eb-9b9244368590\")) {                    Plotly.newPlot(                        \"dd927f5c-7c19-4c77-b7eb-9b9244368590\",                        [{\"mode\":\"lines+markers+text\",\"name\":\"0\",\"text\":[null,\"0\"],\"textposition\":\"top center\",\"x\":[0.0,2.916569471359253],\"y\":[0.0,0.12669436633586884],\"type\":\"scatter\",\"xaxis\":\"x\",\"yaxis\":\"y\"},{\"mode\":\"lines+markers+text\",\"name\":\"1\",\"text\":[null,\"1\"],\"textposition\":\"top center\",\"x\":[0.0,-0.2387271672487259],\"y\":[0.0,0.14703187346458435],\"type\":\"scatter\",\"xaxis\":\"x\",\"yaxis\":\"y\"},{\"mode\":\"lines+markers+text\",\"name\":\"2\",\"text\":[null,\"2\"],\"textposition\":\"top center\",\"x\":[0.0,-0.26663097739219666],\"y\":[0.0,-0.32972174882888794],\"type\":\"scatter\",\"xaxis\":\"x\",\"yaxis\":\"y\"},{\"mode\":\"lines+markers+text\",\"name\":\"3\",\"text\":[null,\"3\"],\"textposition\":\"top center\",\"x\":[0.0,-1.2895069122314453],\"y\":[0.0,-0.20914040505886078],\"type\":\"scatter\",\"xaxis\":\"x\",\"yaxis\":\"y\"},{\"mode\":\"lines+markers+text\",\"name\":\"4\",\"text\":[null,\"4\"],\"textposition\":\"top center\",\"x\":[0.0,1.3880788087844849],\"y\":[0.0,-0.0852079838514328],\"type\":\"scatter\",\"xaxis\":\"x\",\"yaxis\":\"y\"},{\"mode\":\"lines+markers+text\",\"name\":\"5\",\"text\":[null,\"5\"],\"textposition\":\"top center\",\"x\":[0.0,-1.393420934677124],\"y\":[0.0,0.19849281013011932],\"type\":\"scatter\",\"xaxis\":\"x\",\"yaxis\":\"y\"},{\"mode\":\"lines+markers+text\",\"name\":\"0\",\"text\":[null,\"0\"],\"textposition\":\"top center\",\"x\":[0.0,2.165346145629883],\"y\":[0.0,-1.8742085695266724],\"type\":\"scatter\",\"xaxis\":\"x2\",\"yaxis\":\"y2\"},{\"mode\":\"lines+markers+text\",\"name\":\"1\",\"text\":[null,\"1\"],\"textposition\":\"top center\",\"x\":[0.0,0.18228304386138916],\"y\":[0.0,0.7120401859283447],\"type\":\"scatter\",\"xaxis\":\"x2\",\"yaxis\":\"y2\"},{\"mode\":\"lines+markers+text\",\"name\":\"2\",\"text\":[null,\"2\"],\"textposition\":\"top center\",\"x\":[0.0,-0.9246149063110352],\"y\":[0.0,-0.957763135433197],\"type\":\"scatter\",\"xaxis\":\"x2\",\"yaxis\":\"y2\"},{\"mode\":\"lines+markers+text\",\"name\":\"3\",\"text\":[null,\"3\"],\"textposition\":\"top center\",\"x\":[0.0,-1.3071190118789673],\"y\":[0.0,0.2851942181587219],\"type\":\"scatter\",\"xaxis\":\"x2\",\"yaxis\":\"y2\"},{\"mode\":\"lines+markers+text\",\"name\":\"4\",\"text\":[null,\"4\"],\"textposition\":\"top center\",\"x\":[0.0,0.6982020735740662],\"y\":[0.0,-1.4083999395370483],\"type\":\"scatter\",\"xaxis\":\"x2\",\"yaxis\":\"y2\"},{\"mode\":\"lines+markers+text\",\"name\":\"5\",\"text\":[null,\"5\"],\"textposition\":\"top center\",\"x\":[0.0,-0.44288504123687744],\"y\":[0.0,1.8147132396697998],\"type\":\"scatter\",\"xaxis\":\"x2\",\"yaxis\":\"y2\"},{\"mode\":\"lines+markers+text\",\"name\":\"0\",\"text\":[null,\"0\"],\"textposition\":\"top center\",\"x\":[0.0,2.3431570529937744],\"y\":[0.0,-1.4737801551818848],\"type\":\"scatter\",\"xaxis\":\"x3\",\"yaxis\":\"y3\"},{\"mode\":\"lines+markers+text\",\"name\":\"1\",\"text\":[null,\"1\"],\"textposition\":\"top center\",\"x\":[0.0,-0.06383613497018814],\"y\":[0.0,-0.07792723923921585],\"type\":\"scatter\",\"xaxis\":\"x3\",\"yaxis\":\"y3\"},{\"mode\":\"lines+markers+text\",\"name\":\"2\",\"text\":[null,\"2\"],\"textposition\":\"top center\",\"x\":[0.0,-0.47283345460891724],\"y\":[0.0,0.5360578298568726],\"type\":\"scatter\",\"xaxis\":\"x3\",\"yaxis\":\"y3\"},{\"mode\":\"lines+markers+text\",\"name\":\"3\",\"text\":[null,\"3\"],\"textposition\":\"top center\",\"x\":[0.0,-1.1604623794555664],\"y\":[0.0,0.8447680473327637],\"type\":\"scatter\",\"xaxis\":\"x3\",\"yaxis\":\"y3\"},{\"mode\":\"lines+markers+text\",\"name\":\"4\",\"text\":[null,\"4\"],\"textposition\":\"top center\",\"x\":[0.0,0.9968904852867126],\"y\":[0.0,-0.5178622603416443],\"type\":\"scatter\",\"xaxis\":\"x3\",\"yaxis\":\"y3\"},{\"mode\":\"lines+markers+text\",\"name\":\"5\",\"text\":[null,\"5\"],\"textposition\":\"top center\",\"x\":[0.0,-0.9089016318321228],\"y\":[0.0,0.3773626983165741],\"type\":\"scatter\",\"xaxis\":\"x3\",\"yaxis\":\"y3\"},{\"mode\":\"lines+markers+text\",\"name\":\"0\",\"text\":[null,\"0\"],\"textposition\":\"top center\",\"x\":[0.0,2.9524059295654297],\"y\":[0.0,1.1083754301071167],\"type\":\"scatter\",\"xaxis\":\"x4\",\"yaxis\":\"y4\"},{\"mode\":\"lines+markers+text\",\"name\":\"1\",\"text\":[null,\"1\"],\"textposition\":\"top center\",\"x\":[0.0,-0.8140906691551208],\"y\":[0.0,0.13462087512016296],\"type\":\"scatter\",\"xaxis\":\"x4\",\"yaxis\":\"y4\"},{\"mode\":\"lines+markers+text\",\"name\":\"2\",\"text\":[null,\"2\"],\"textposition\":\"top center\",\"x\":[0.0,0.8870830535888672],\"y\":[0.0,-0.5567893385887146],\"type\":\"scatter\",\"xaxis\":\"x4\",\"yaxis\":\"y4\"},{\"mode\":\"lines+markers+text\",\"name\":\"3\",\"text\":[null,\"3\"],\"textposition\":\"top center\",\"x\":[0.0,-0.7484762668609619],\"y\":[0.0,-0.7092678546905518],\"type\":\"scatter\",\"xaxis\":\"x4\",\"yaxis\":\"y4\"},{\"mode\":\"lines+markers+text\",\"name\":\"4\",\"text\":[null,\"4\"],\"textposition\":\"top center\",\"x\":[0.0,1.9342998266220093],\"y\":[0.0,0.31919562816619873],\"type\":\"scatter\",\"xaxis\":\"x4\",\"yaxis\":\"y4\"},{\"mode\":\"lines+markers+text\",\"name\":\"5\",\"text\":[null,\"5\"],\"textposition\":\"top center\",\"x\":[0.0,-2.3525390625],\"y\":[0.0,-0.15871001780033112],\"type\":\"scatter\",\"xaxis\":\"x4\",\"yaxis\":\"y4\"},{\"mode\":\"lines+markers+text\",\"name\":\"0\",\"text\":[null,\"0\"],\"textposition\":\"top center\",\"x\":[0.0,8.884594917297363],\"y\":[0.0,-6.708389759063721],\"type\":\"scatter\",\"xaxis\":\"x5\",\"yaxis\":\"y5\"},{\"mode\":\"lines+markers+text\",\"name\":\"1\",\"text\":[null,\"1\"],\"textposition\":\"top center\",\"x\":[0.0,-1.6646641492843628],\"y\":[0.0,1.2497071027755737],\"type\":\"scatter\",\"xaxis\":\"x5\",\"yaxis\":\"y5\"},{\"mode\":\"lines+markers+text\",\"name\":\"2\",\"text\":[null,\"2\"],\"textposition\":\"top center\",\"x\":[0.0,1.082524299621582],\"y\":[0.0,-0.8027927279472351],\"type\":\"scatter\",\"xaxis\":\"x5\",\"yaxis\":\"y5\"},{\"mode\":\"lines+markers+text\",\"name\":\"3\",\"text\":[null,\"3\"],\"textposition\":\"top center\",\"x\":[0.0,-3.0161900520324707],\"y\":[0.0,2.284416437149048],\"type\":\"scatter\",\"xaxis\":\"x5\",\"yaxis\":\"y5\"},{\"mode\":\"lines+markers+text\",\"name\":\"4\",\"text\":[null,\"4\"],\"textposition\":\"top center\",\"x\":[0.0,5.095022201538086],\"y\":[0.0,-3.8403735160827637],\"type\":\"scatter\",\"xaxis\":\"x5\",\"yaxis\":\"y5\"},{\"mode\":\"lines+markers+text\",\"name\":\"5\",\"text\":[null,\"5\"],\"textposition\":\"top center\",\"x\":[0.0,-5.787370204925537],\"y\":[0.0,4.357935428619385],\"type\":\"scatter\",\"xaxis\":\"x5\",\"yaxis\":\"y5\"},{\"mode\":\"lines+markers+text\",\"name\":\"0\",\"text\":[null,\"0\"],\"textposition\":\"top center\",\"x\":[0.0,-5.057223796844482],\"y\":[0.0,-5.630390644073486],\"type\":\"scatter\",\"xaxis\":\"x6\",\"yaxis\":\"y6\"},{\"mode\":\"lines+markers+text\",\"name\":\"1\",\"text\":[null,\"1\"],\"textposition\":\"top center\",\"x\":[0.0,-0.7285031080245972],\"y\":[0.0,-0.7161048650741577],\"type\":\"scatter\",\"xaxis\":\"x6\",\"yaxis\":\"y6\"},{\"mode\":\"lines+markers+text\",\"name\":\"2\",\"text\":[null,\"2\"],\"textposition\":\"top center\",\"x\":[0.0,2.7714309692382812],\"y\":[0.0,2.893594264984131],\"type\":\"scatter\",\"xaxis\":\"x6\",\"yaxis\":\"y6\"},{\"mode\":\"lines+markers+text\",\"name\":\"3\",\"text\":[null,\"3\"],\"textposition\":\"top center\",\"x\":[0.0,3.347360134124756],\"y\":[0.0,3.6343541145324707],\"type\":\"scatter\",\"xaxis\":\"x6\",\"yaxis\":\"y6\"},{\"mode\":\"lines+markers+text\",\"name\":\"4\",\"text\":[null,\"4\"],\"textposition\":\"top center\",\"x\":[0.0,-1.3507773876190186],\"y\":[0.0,-1.59165620803833],\"type\":\"scatter\",\"xaxis\":\"x6\",\"yaxis\":\"y6\"},{\"mode\":\"lines+markers+text\",\"name\":\"5\",\"text\":[null,\"5\"],\"textposition\":\"top center\",\"x\":[0.0,0.5361182689666748],\"y\":[0.0,0.7531538009643555],\"type\":\"scatter\",\"xaxis\":\"x6\",\"yaxis\":\"y6\"},{\"mode\":\"lines+markers+text\",\"name\":\"0\",\"text\":[null,\"0\"],\"textposition\":\"top center\",\"x\":[0.0,1.4146878719329834],\"y\":[0.0,-2.36696195602417],\"type\":\"scatter\",\"xaxis\":\"x7\",\"yaxis\":\"y7\"},{\"mode\":\"lines+markers+text\",\"name\":\"1\",\"text\":[null,\"1\"],\"textposition\":\"top center\",\"x\":[0.0,-0.6835797429084778],\"y\":[0.0,-0.10263418406248093],\"type\":\"scatter\",\"xaxis\":\"x7\",\"yaxis\":\"y7\"},{\"mode\":\"lines+markers+text\",\"name\":\"2\",\"text\":[null,\"2\"],\"textposition\":\"top center\",\"x\":[0.0,1.01827073097229],\"y\":[0.0,0.8154160380363464],\"type\":\"scatter\",\"xaxis\":\"x7\",\"yaxis\":\"y7\"},{\"mode\":\"lines+markers+text\",\"name\":\"3\",\"text\":[null,\"3\"],\"textposition\":\"top center\",\"x\":[0.0,-0.07312209159135818],\"y\":[0.0,1.3348294496536255],\"type\":\"scatter\",\"xaxis\":\"x7\",\"yaxis\":\"y7\"},{\"mode\":\"lines+markers+text\",\"name\":\"4\",\"text\":[null,\"4\"],\"textposition\":\"top center\",\"x\":[0.0,1.1981613636016846],\"y\":[0.0,-0.8525303602218628],\"type\":\"scatter\",\"xaxis\":\"x7\",\"yaxis\":\"y7\"},{\"mode\":\"lines+markers+text\",\"name\":\"5\",\"text\":[null,\"5\"],\"textposition\":\"top center\",\"x\":[0.0,-1.6102335453033447],\"y\":[0.0,0.6431230306625366],\"type\":\"scatter\",\"xaxis\":\"x7\",\"yaxis\":\"y7\"},{\"mode\":\"lines+markers+text\",\"name\":\"0\",\"text\":[null,\"0\"],\"textposition\":\"top center\",\"x\":[0.0,-0.7380790710449219],\"y\":[0.0,-1.0728460550308228],\"type\":\"scatter\",\"xaxis\":\"x8\",\"yaxis\":\"y8\"},{\"mode\":\"lines+markers+text\",\"name\":\"1\",\"text\":[null,\"1\"],\"textposition\":\"top center\",\"x\":[0.0,1.5124541521072388],\"y\":[0.0,0.22173123061656952],\"type\":\"scatter\",\"xaxis\":\"x8\",\"yaxis\":\"y8\"},{\"mode\":\"lines+markers+text\",\"name\":\"2\",\"text\":[null,\"2\"],\"textposition\":\"top center\",\"x\":[0.0,-0.17499911785125732],\"y\":[0.0,1.1923511028289795],\"type\":\"scatter\",\"xaxis\":\"x8\",\"yaxis\":\"y8\"},{\"mode\":\"lines+markers+text\",\"name\":\"3\",\"text\":[null,\"3\"],\"textposition\":\"top center\",\"x\":[0.0,0.7014053463935852],\"y\":[0.0,-0.8374024629592896],\"type\":\"scatter\",\"xaxis\":\"x8\",\"yaxis\":\"y8\"},{\"mode\":\"lines+markers+text\",\"name\":\"4\",\"text\":[null,\"4\"],\"textposition\":\"top center\",\"x\":[0.0,-1.0735126733779907],\"y\":[0.0,0.2950870394706726],\"type\":\"scatter\",\"xaxis\":\"x8\",\"yaxis\":\"y8\"}],                        {\"template\":{\"data\":{\"histogram2dcontour\":[{\"type\":\"histogram2dcontour\",\"colorbar\":{\"outlinewidth\":0,\"ticks\":\"\"},\"colorscale\":[[0.0,\"#0d0887\"],[0.1111111111111111,\"#46039f\"],[0.2222222222222222,\"#7201a8\"],[0.3333333333333333,\"#9c179e\"],[0.4444444444444444,\"#bd3786\"],[0.5555555555555556,\"#d8576b\"],[0.6666666666666666,\"#ed7953\"],[0.7777777777777778,\"#fb9f3a\"],[0.8888888888888888,\"#fdca26\"],[1.0,\"#f0f921\"]]}],\"choropleth\":[{\"type\":\"choropleth\",\"colorbar\":{\"outlinewidth\":0,\"ticks\":\"\"}}],\"histogram2d\":[{\"type\":\"histogram2d\",\"colorbar\":{\"outlinewidth\":0,\"ticks\":\"\"},\"colorscale\":[[0.0,\"#0d0887\"],[0.1111111111111111,\"#46039f\"],[0.2222222222222222,\"#7201a8\"],[0.3333333333333333,\"#9c179e\"],[0.4444444444444444,\"#bd3786\"],[0.5555555555555556,\"#d8576b\"],[0.6666666666666666,\"#ed7953\"],[0.7777777777777778,\"#fb9f3a\"],[0.8888888888888888,\"#fdca26\"],[1.0,\"#f0f921\"]]}],\"heatmap\":[{\"type\":\"heatmap\",\"colorbar\":{\"outlinewidth\":0,\"ticks\":\"\"},\"colorscale\":[[0.0,\"#0d0887\"],[0.1111111111111111,\"#46039f\"],[0.2222222222222222,\"#7201a8\"],[0.3333333333333333,\"#9c179e\"],[0.4444444444444444,\"#bd3786\"],[0.5555555555555556,\"#d8576b\"],[0.6666666666666666,\"#ed7953\"],[0.7777777777777778,\"#fb9f3a\"],[0.8888888888888888,\"#fdca26\"],[1.0,\"#f0f921\"]]}],\"heatmapgl\":[{\"type\":\"heatmapgl\",\"colorbar\":{\"outlinewidth\":0,\"ticks\":\"\"},\"colorscale\":[[0.0,\"#0d0887\"],[0.1111111111111111,\"#46039f\"],[0.2222222222222222,\"#7201a8\"],[0.3333333333333333,\"#9c179e\"],[0.4444444444444444,\"#bd3786\"],[0.5555555555555556,\"#d8576b\"],[0.6666666666666666,\"#ed7953\"],[0.7777777777777778,\"#fb9f3a\"],[0.8888888888888888,\"#fdca26\"],[1.0,\"#f0f921\"]]}],\"contourcarpet\":[{\"type\":\"contourcarpet\",\"colorbar\":{\"outlinewidth\":0,\"ticks\":\"\"}}],\"contour\":[{\"type\":\"contour\",\"colorbar\":{\"outlinewidth\":0,\"ticks\":\"\"},\"colorscale\":[[0.0,\"#0d0887\"],[0.1111111111111111,\"#46039f\"],[0.2222222222222222,\"#7201a8\"],[0.3333333333333333,\"#9c179e\"],[0.4444444444444444,\"#bd3786\"],[0.5555555555555556,\"#d8576b\"],[0.6666666666666666,\"#ed7953\"],[0.7777777777777778,\"#fb9f3a\"],[0.8888888888888888,\"#fdca26\"],[1.0,\"#f0f921\"]]}],\"surface\":[{\"type\":\"surface\",\"colorbar\":{\"outlinewidth\":0,\"ticks\":\"\"},\"colorscale\":[[0.0,\"#0d0887\"],[0.1111111111111111,\"#46039f\"],[0.2222222222222222,\"#7201a8\"],[0.3333333333333333,\"#9c179e\"],[0.4444444444444444,\"#bd3786\"],[0.5555555555555556,\"#d8576b\"],[0.6666666666666666,\"#ed7953\"],[0.7777777777777778,\"#fb9f3a\"],[0.8888888888888888,\"#fdca26\"],[1.0,\"#f0f921\"]]}],\"mesh3d\":[{\"type\":\"mesh3d\",\"colorbar\":{\"outlinewidth\":0,\"ticks\":\"\"}}],\"scatter\":[{\"fillpattern\":{\"fillmode\":\"overlay\",\"size\":10,\"solidity\":0.2},\"type\":\"scatter\"}],\"parcoords\":[{\"type\":\"parcoords\",\"line\":{\"colorbar\":{\"outlinewidth\":0,\"ticks\":\"\"}}}],\"scatterpolargl\":[{\"type\":\"scatterpolargl\",\"marker\":{\"colorbar\":{\"outlinewidth\":0,\"ticks\":\"\"}}}],\"bar\":[{\"error_x\":{\"color\":\"#2a3f5f\"},\"error_y\":{\"color\":\"#2a3f5f\"},\"marker\":{\"line\":{\"color\":\"#E5ECF6\",\"width\":0.5},\"pattern\":{\"fillmode\":\"overlay\",\"size\":10,\"solidity\":0.2}},\"type\":\"bar\"}],\"scattergeo\":[{\"type\":\"scattergeo\",\"marker\":{\"colorbar\":{\"outlinewidth\":0,\"ticks\":\"\"}}}],\"scatterpolar\":[{\"type\":\"scatterpolar\",\"marker\":{\"colorbar\":{\"outlinewidth\":0,\"ticks\":\"\"}}}],\"histogram\":[{\"marker\":{\"pattern\":{\"fillmode\":\"overlay\",\"size\":10,\"solidity\":0.2}},\"type\":\"histogram\"}],\"scattergl\":[{\"type\":\"scattergl\",\"marker\":{\"colorbar\":{\"outlinewidth\":0,\"ticks\":\"\"}}}],\"scatter3d\":[{\"type\":\"scatter3d\",\"line\":{\"colorbar\":{\"outlinewidth\":0,\"ticks\":\"\"}},\"marker\":{\"colorbar\":{\"outlinewidth\":0,\"ticks\":\"\"}}}],\"scattermapbox\":[{\"type\":\"scattermapbox\",\"marker\":{\"colorbar\":{\"outlinewidth\":0,\"ticks\":\"\"}}}],\"scatterternary\":[{\"type\":\"scatterternary\",\"marker\":{\"colorbar\":{\"outlinewidth\":0,\"ticks\":\"\"}}}],\"scattercarpet\":[{\"type\":\"scattercarpet\",\"marker\":{\"colorbar\":{\"outlinewidth\":0,\"ticks\":\"\"}}}],\"carpet\":[{\"aaxis\":{\"endlinecolor\":\"#2a3f5f\",\"gridcolor\":\"white\",\"linecolor\":\"white\",\"minorgridcolor\":\"white\",\"startlinecolor\":\"#2a3f5f\"},\"baxis\":{\"endlinecolor\":\"#2a3f5f\",\"gridcolor\":\"white\",\"linecolor\":\"white\",\"minorgridcolor\":\"white\",\"startlinecolor\":\"#2a3f5f\"},\"type\":\"carpet\"}],\"table\":[{\"cells\":{\"fill\":{\"color\":\"#EBF0F8\"},\"line\":{\"color\":\"white\"}},\"header\":{\"fill\":{\"color\":\"#C8D4E3\"},\"line\":{\"color\":\"white\"}},\"type\":\"table\"}],\"barpolar\":[{\"marker\":{\"line\":{\"color\":\"#E5ECF6\",\"width\":0.5},\"pattern\":{\"fillmode\":\"overlay\",\"size\":10,\"solidity\":0.2}},\"type\":\"barpolar\"}],\"pie\":[{\"automargin\":true,\"type\":\"pie\"}]},\"layout\":{\"autotypenumbers\":\"strict\",\"colorway\":[\"#636efa\",\"#EF553B\",\"#00cc96\",\"#ab63fa\",\"#FFA15A\",\"#19d3f3\",\"#FF6692\",\"#B6E880\",\"#FF97FF\",\"#FECB52\"],\"font\":{\"color\":\"#2a3f5f\"},\"hovermode\":\"closest\",\"hoverlabel\":{\"align\":\"left\"},\"paper_bgcolor\":\"white\",\"plot_bgcolor\":\"#E5ECF6\",\"polar\":{\"bgcolor\":\"#E5ECF6\",\"angularaxis\":{\"gridcolor\":\"white\",\"linecolor\":\"white\",\"ticks\":\"\"},\"radialaxis\":{\"gridcolor\":\"white\",\"linecolor\":\"white\",\"ticks\":\"\"}},\"ternary\":{\"bgcolor\":\"#E5ECF6\",\"aaxis\":{\"gridcolor\":\"white\",\"linecolor\":\"white\",\"ticks\":\"\"},\"baxis\":{\"gridcolor\":\"white\",\"linecolor\":\"white\",\"ticks\":\"\"},\"caxis\":{\"gridcolor\":\"white\",\"linecolor\":\"white\",\"ticks\":\"\"}},\"coloraxis\":{\"colorbar\":{\"outlinewidth\":0,\"ticks\":\"\"}},\"colorscale\":{\"sequential\":[[0.0,\"#0d0887\"],[0.1111111111111111,\"#46039f\"],[0.2222222222222222,\"#7201a8\"],[0.3333333333333333,\"#9c179e\"],[0.4444444444444444,\"#bd3786\"],[0.5555555555555556,\"#d8576b\"],[0.6666666666666666,\"#ed7953\"],[0.7777777777777778,\"#fb9f3a\"],[0.8888888888888888,\"#fdca26\"],[1.0,\"#f0f921\"]],\"sequentialminus\":[[0.0,\"#0d0887\"],[0.1111111111111111,\"#46039f\"],[0.2222222222222222,\"#7201a8\"],[0.3333333333333333,\"#9c179e\"],[0.4444444444444444,\"#bd3786\"],[0.5555555555555556,\"#d8576b\"],[0.6666666666666666,\"#ed7953\"],[0.7777777777777778,\"#fb9f3a\"],[0.8888888888888888,\"#fdca26\"],[1.0,\"#f0f921\"]],\"diverging\":[[0,\"#8e0152\"],[0.1,\"#c51b7d\"],[0.2,\"#de77ae\"],[0.3,\"#f1b6da\"],[0.4,\"#fde0ef\"],[0.5,\"#f7f7f7\"],[0.6,\"#e6f5d0\"],[0.7,\"#b8e186\"],[0.8,\"#7fbc41\"],[0.9,\"#4d9221\"],[1,\"#276419\"]]},\"xaxis\":{\"gridcolor\":\"white\",\"linecolor\":\"white\",\"ticks\":\"\",\"title\":{\"standoff\":15},\"zerolinecolor\":\"white\",\"automargin\":true,\"zerolinewidth\":2},\"yaxis\":{\"gridcolor\":\"white\",\"linecolor\":\"white\",\"ticks\":\"\",\"title\":{\"standoff\":15},\"zerolinecolor\":\"white\",\"automargin\":true,\"zerolinewidth\":2},\"scene\":{\"xaxis\":{\"backgroundcolor\":\"#E5ECF6\",\"gridcolor\":\"white\",\"linecolor\":\"white\",\"showbackground\":true,\"ticks\":\"\",\"zerolinecolor\":\"white\",\"gridwidth\":2},\"yaxis\":{\"backgroundcolor\":\"#E5ECF6\",\"gridcolor\":\"white\",\"linecolor\":\"white\",\"showbackground\":true,\"ticks\":\"\",\"zerolinecolor\":\"white\",\"gridwidth\":2},\"zaxis\":{\"backgroundcolor\":\"#E5ECF6\",\"gridcolor\":\"white\",\"linecolor\":\"white\",\"showbackground\":true,\"ticks\":\"\",\"zerolinecolor\":\"white\",\"gridwidth\":2}},\"shapedefaults\":{\"line\":{\"color\":\"#2a3f5f\"}},\"annotationdefaults\":{\"arrowcolor\":\"#2a3f5f\",\"arrowhead\":0,\"arrowwidth\":1},\"geo\":{\"bgcolor\":\"white\",\"landcolor\":\"#E5ECF6\",\"subunitcolor\":\"white\",\"showland\":true,\"showlakes\":true,\"lakecolor\":\"white\"},\"title\":{\"x\":0.05},\"mapbox\":{\"style\":\"light\"}}},\"xaxis\":{\"anchor\":\"y\",\"domain\":[0.0,0.45],\"title\":{\"text\":\"q\"},\"range\":[-5,5]},\"yaxis\":{\"anchor\":\"x\",\"domain\":[0.84375,1.0],\"title\":{\"text\":\"\"},\"range\":[-5,5]},\"xaxis2\":{\"anchor\":\"y2\",\"domain\":[0.55,1.0],\"title\":{\"text\":\"q\"},\"range\":[-5,5]},\"yaxis2\":{\"anchor\":\"x2\",\"domain\":[0.84375,1.0],\"title\":{\"text\":\"\"},\"range\":[-5,5]},\"xaxis3\":{\"anchor\":\"y3\",\"domain\":[0.0,0.45],\"title\":{\"text\":\"k\"},\"range\":[-5,5]},\"yaxis3\":{\"anchor\":\"x3\",\"domain\":[0.5625,0.71875],\"title\":{\"text\":\"\"},\"range\":[-5,5]},\"xaxis4\":{\"anchor\":\"y4\",\"domain\":[0.55,1.0],\"title\":{\"text\":\"k\"},\"range\":[-5,5]},\"yaxis4\":{\"anchor\":\"x4\",\"domain\":[0.5625,0.71875],\"title\":{\"text\":\"\"},\"range\":[-5,5]},\"xaxis5\":{\"anchor\":\"y5\",\"domain\":[0.0,0.45],\"title\":{\"text\":\"ov\"},\"range\":[-5,5]},\"yaxis5\":{\"anchor\":\"x5\",\"domain\":[0.28125,0.4375],\"title\":{\"text\":\"\"},\"range\":[-5,5]},\"xaxis6\":{\"anchor\":\"y6\",\"domain\":[0.55,1.0],\"title\":{\"text\":\"ov\"},\"range\":[-5,5]},\"yaxis6\":{\"anchor\":\"x6\",\"domain\":[0.28125,0.4375],\"title\":{\"text\":\"\"},\"range\":[-5,5]},\"xaxis7\":{\"anchor\":\"y7\",\"domain\":[0.0,0.45],\"title\":{\"text\":\"embed\"},\"range\":[-5,5]},\"yaxis7\":{\"anchor\":\"x7\",\"domain\":[0.0,0.15625],\"title\":{\"text\":\"\"},\"range\":[-5,5]},\"xaxis8\":{\"anchor\":\"y8\",\"domain\":[0.55,1.0],\"title\":{\"text\":\"unembed\"},\"range\":[-5,5]},\"yaxis8\":{\"anchor\":\"x8\",\"domain\":[0.0,0.15625],\"title\":{\"text\":\"\"},\"range\":[-5,5]},\"annotations\":[{\"font\":{\"size\":16},\"showarrow\":false,\"text\":\"head 1\",\"x\":0.225,\"xanchor\":\"center\",\"xref\":\"paper\",\"y\":1.0,\"yanchor\":\"bottom\",\"yref\":\"paper\"},{\"font\":{\"size\":16},\"showarrow\":false,\"text\":\"head 2\",\"x\":0.775,\"xanchor\":\"center\",\"xref\":\"paper\",\"y\":1.0,\"yanchor\":\"bottom\",\"yref\":\"paper\"}],\"title\":{\"text\":\"\"},\"width\":800,\"height\":1600,\"showlegend\":false},                        {\"responsive\": true}                    ).then(function(){\n",
       "                            \n",
       "var gd = document.getElementById('dd927f5c-7c19-4c77-b7eb-9b9244368590');\n",
       "var x = new MutationObserver(function (mutations, observer) {{\n",
       "        var display = window.getComputedStyle(gd).display;\n",
       "        if (!display || display === 'none') {{\n",
       "            console.log([gd, 'removed!']);\n",
       "            Plotly.purge(gd);\n",
       "            observer.disconnect();\n",
       "        }}\n",
       "}});\n",
       "\n",
       "// Listen for the removal of the full notebook cells\n",
       "var notebookContainer = gd.closest('#notebook-container');\n",
       "if (notebookContainer) {{\n",
       "    x.observe(notebookContainer, {childList: true});\n",
       "}}\n",
       "\n",
       "// Listen for the clearing of the current output cell\n",
       "var outputEl = gd.closest('.output');\n",
       "if (outputEl) {{\n",
       "    x.observe(outputEl, {childList: true});\n",
       "}}\n",
       "\n",
       "                        })                };                });            </script>        </div>"
      ]
     },
     "metadata": {},
     "output_type": "display_data"
    }
   ],
   "source": [
    "import torch\n",
    "import plotly.graph_objects as go\n",
    "from plotly.subplots import make_subplots\n",
    "\n",
    "# 示例：创建多个包含二维向量的张量\n",
    "vector_q = [q[i] for i in range(q.size(0))]\n",
    "vector_k = [k[i] for i in range(k.size(0))]\n",
    "vector_ov = [ov[i] for i in range(ov.size(0))]\n",
    "vector_embeds = [embeds[i] for i in range(embeds.size(0))]\n",
    "vector_unembeds = [unembeds[i] for i in range(unembeds.size(0))]\n",
    "\n",
    "names_q = [\n",
    "    [f'{i}' for i in range(q[j].size(0))] for j in range(q.size(0))\n",
    "]\n",
    "names_k = [\n",
    "    [f'{i}' for i in range(k[j].size(0))] for j in range(k.size(0))\n",
    "]\n",
    "names_ov = [\n",
    "    [f'{i}' for i in range(ov[j].size(0))] for j in range(ov.size(0))\n",
    "]\n",
    "names_embeds = [\n",
    "    [f'{i}' for i in range(embeds[j].size(0))] for j in range(embeds.size(0))\n",
    "]\n",
    "names_unembeds = [\n",
    "    [f'{i}' for i in range(unembeds[j].size(0))] for j in range(unembeds.size(0))\n",
    "]\n",
    "\n",
    "fig = make_subplots(rows=4, cols=2, subplot_titles=[f'head {i+1}' for i in range(len(vector_q))])\n",
    "\n",
    "for idx, (vectors, names) in enumerate(zip(vector_q, names_q)):\n",
    "    x_start = torch.zeros(vectors.size(0))\n",
    "    y_start = torch.zeros(vectors.size(0))\n",
    "\n",
    "    x_end = vectors[:, 0]\n",
    "    y_end = vectors[:, 1]\n",
    "\n",
    "    for i in range(vectors.size(0)):\n",
    "        fig.add_trace(go.Scatter(\n",
    "            x=[x_start[i].item(), x_end[i].item()],\n",
    "            y=[y_start[i].item(), y_end[i].item()],\n",
    "            mode='lines+markers+text',\n",
    "            text=[None, names[i]],  # 在终点添加文本\n",
    "            textposition='top center',  # 文本位置\n",
    "            name=names[i],\n",
    "        ), row=1, col=idx+1)\n",
    "\n",
    "for idx, (vectors, names) in enumerate(zip(vector_k, names_k)):\n",
    "    x_start = torch.zeros(vectors.size(0))\n",
    "    y_start = torch.zeros(vectors.size(0))\n",
    "\n",
    "    x_end = vectors[:, 0]\n",
    "    y_end = vectors[:, 1]\n",
    "\n",
    "    for i in range(vectors.size(0)):\n",
    "        fig.add_trace(go.Scatter(\n",
    "            x=[x_start[i].item(), x_end[i].item()],\n",
    "            y=[y_start[i].item(), y_end[i].item()],\n",
    "            mode='lines+markers+text',\n",
    "            text=[None, names[i]],  # 在终点添加文本\n",
    "            textposition='top center',  # 文本位置\n",
    "            name=names[i],\n",
    "        ), row=2, col=idx+1)\n",
    "        \n",
    "for idx, (vectors, names) in enumerate(zip(vector_ov, names_ov)):\n",
    "    x_start = torch.zeros(vectors.size(0))\n",
    "    y_start = torch.zeros(vectors.size(0))\n",
    "\n",
    "    x_end = vectors[:, 0]\n",
    "    y_end = vectors[:, 1]\n",
    "\n",
    "    for i in range(vectors.size(0)):\n",
    "        fig.add_trace(go.Scatter(\n",
    "            x=[x_start[i].item(), x_end[i].item()],\n",
    "            y=[y_start[i].item(), y_end[i].item()],\n",
    "            mode='lines+markers+text',\n",
    "            text=[None, names[i]],  # 在终点添加文本\n",
    "            textposition='top center',  # 文本位置\n",
    "            name=names[i],\n",
    "        ), row=3, col=idx+1)\n",
    "          \n",
    "for idx, (vectors, names) in enumerate(zip(vector_embeds, names_embeds)):\n",
    "    x_start = torch.zeros(vectors.size(0))\n",
    "    y_start = torch.zeros(vectors.size(0))\n",
    "\n",
    "    x_end = vectors[:, 0]\n",
    "    y_end = vectors[:, 1]\n",
    "\n",
    "    for i in range(vectors.size(0)):\n",
    "        fig.add_trace(go.Scatter(\n",
    "            x=[x_start[i].item(), x_end[i].item()],\n",
    "            y=[y_start[i].item(), y_end[i].item()],\n",
    "            mode='lines+markers+text',\n",
    "            text=[None, names[i]],  # 在终点添加文本\n",
    "            textposition='top center',  # 文本位置\n",
    "            name=names[i],\n",
    "        ), row=4, col=idx+1)\n",
    "\n",
    "for idx, (vectors, names) in enumerate(zip(vector_unembeds, names_unembeds)):\n",
    "    x_start = torch.zeros(vectors.size(0))\n",
    "    y_start = torch.zeros(vectors.size(0))\n",
    "\n",
    "    x_end = vectors[:, 0]\n",
    "    y_end = vectors[:, 1]\n",
    "\n",
    "    for i in range(vectors.size(0)):\n",
    "        fig.add_trace(go.Scatter(\n",
    "            x=[x_start[i].item(), x_end[i].item()],\n",
    "            y=[y_start[i].item(), y_end[i].item()],\n",
    "            mode='lines+markers+text',\n",
    "            text=[None, names[i]],  # 在终点添加文本\n",
    "            textposition='top center',  # 文本位置\n",
    "            name=names[i],\n",
    "        ), row=4, col=idx+2)\n",
    "        \n",
    "fig.update_layout(\n",
    "    title='',\n",
    "    width=400 * 2,\n",
    "    height=400 * 4,\n",
    "    showlegend=False\n",
    ")\n",
    "\n",
    "for idx in range(len(vector_q)):\n",
    "    fig.update_xaxes(range=[-5, 5], row=1, col=idx+1, title_text='q')\n",
    "    fig.update_yaxes(range=[-5, 5], row=1, col=idx+1, title_text='')\n",
    "\n",
    "for idx in range(len(vector_k)):\n",
    "    fig.update_xaxes(range=[-5, 5], row=2, col=idx+1, title_text='k')\n",
    "    fig.update_yaxes(range=[-5, 5], row=2, col=idx+1, title_text='')\n",
    "\n",
    "for idx in range(len(vector_ov)):\n",
    "    fig.update_xaxes(range=[-5, 5], row=3, col=idx+1, title_text='ov')\n",
    "    fig.update_yaxes(range=[-5, 5], row=3, col=idx+1, title_text='')\n",
    "    \n",
    "for idx in range(1):\n",
    "    fig.update_xaxes(range=[-5, 5], row=4, col=idx+1, title_text='embed')\n",
    "    fig.update_yaxes(range=[-5, 5], row=4, col=idx+1, title_text='')\n",
    "    fig.update_xaxes(range=[-5, 5], row=4, col=idx+2, title_text='unembed')\n",
    "    fig.update_yaxes(range=[-5, 5], row=4, col=idx+2, title_text='')\n",
    "\n",
    "# 显示图形\n",
    "fig.show()\n"
   ]
  },
  {
   "cell_type": "code",
   "execution_count": 99,
   "metadata": {},
   "outputs": [],
   "source": [
    "sparse_d_model = 2\n",
    "sparse_d_head = 1\n",
    "sparse_n_heads = 6\n",
    "sparse_model = toy_sparse_attn(d_model = sparse_d_model, d_head = sparse_d_head, n_heads = sparse_n_heads, use_l1_loss=True).to(device)"
   ]
  },
  {
   "cell_type": "code",
   "execution_count": 100,
   "metadata": {},
   "outputs": [
    {
     "data": {
      "application/vnd.jupyter.widget-view+json": {
       "model_id": "2332539cdf944d04929b7bf67d4c5d20",
       "version_major": 2,
       "version_minor": 0
      },
      "text/plain": [
       "Training:   0%|                                                                                               …"
      ]
     },
     "metadata": {},
     "output_type": "display_data"
    }
   ],
   "source": [
    "from tqdm.notebook import tqdm\n",
    "\n",
    "batch_size = 4\n",
    "num_batches = 2 ** 13\n",
    "lr = 1e-2\n",
    "l1_coefficient = 2\n",
    "optimizer = optim.SGD(sparse_model.parameters(), lr=lr)\n",
    "\n",
    "pbar = tqdm(range(num_batches), desc='Training', unit='batch', dynamic_ncols=True)\n",
    "\n",
    "for i in pbar:\n",
    "    batch, y = generate_test_data(num_embeddings=num_embeddings, num_unembeddings=num_unembeddings)\n",
    "    batch, y = batch.to(device), y.to(device)\n",
    "    \n",
    "    with torch.no_grad():\n",
    "        resid = model.input_to_embed(batch)\n",
    "        out, _, _ = model.attn(resid)\n",
    "    \n",
    "    out_hat,  _, _, l1 = sparse_model(resid)\n",
    "    \n",
    "    mse_loss = F.mse_loss(out[:, -1], out_hat[:, -1])\n",
    "    l1_loss = l1[:, -1].mean()\n",
    "    loss = mse_loss + l1_coefficient * l1_loss\n",
    "    \n",
    "    optimizer.zero_grad()\n",
    "    loss.backward()\n",
    "    optimizer.step()\n",
    "    \n",
    "    logits = model.unembed(out_hat[:, -1])\n",
    "    p = logits.softmax(dim=-1)\n",
    "    preds = torch.argmax(p, dim=1)\n",
    "    correct = (preds == y).sum().item()\n",
    "    total = y.size(0)\n",
    "    accuracy = correct / total\n",
    "    \n",
    "    pbar.set_postfix({'mse_loss': mse_loss.item(), 'l1_loss': l1_loss.item(), 'accuracy': f'{accuracy:.4f}'})"
   ]
  },
  {
   "cell_type": "code",
   "execution_count": 101,
   "metadata": {},
   "outputs": [
    {
     "name": "stdout",
     "output_type": "stream",
     "text": [
      "torch.Size([1, 5, 2]) torch.Size([5, 6, 2]) torch.Size([1, 5, 2])\n",
      "torch.Size([5, 2, 2])\n"
     ]
    }
   ],
   "source": [
    "with torch.no_grad():\n",
    "    batch, y = generate_test_data(num_embeddings=num_embeddings, num_unembeddings=num_unembeddings)\n",
    "    batch, y = batch.to(device), y.to(device)\n",
    "    resid = model.input_to_embed(batch)\n",
    "    out, out_heads, pattern = sparse_model.attn(resid)\n",
    "    out, out_heads, pattern = out[:, -1].unsqueeze(dim=0), out_heads[:, -1], pattern[:, -1]\n",
    "    unembeds = model.unembed.weight.unsqueeze(0)\n",
    "\n",
    "print(out.shape, out_heads.shape, unembeds.shape)\n",
    "print(pattern.shape)"
   ]
  },
  {
   "cell_type": "code",
   "execution_count": 102,
   "metadata": {},
   "outputs": [
    {
     "data": {
      "application/vnd.plotly.v1+json": {
       "config": {
        "plotlyServerURL": "https://plot.ly"
       },
       "data": [
        {
         "mode": "lines+markers+text",
         "name": "0",
         "text": [
          null,
          "0"
         ],
         "textposition": "top center",
         "type": "scatter",
         "x": [
          0,
          -1.309026837348938
         ],
         "xaxis": "x",
         "y": [
          0,
          -0.322733998298645
         ],
         "yaxis": "y"
        },
        {
         "mode": "lines+markers+text",
         "name": "1",
         "text": [
          null,
          "1"
         ],
         "textposition": "top center",
         "type": "scatter",
         "x": [
          0,
          1.744622826576233
         ],
         "xaxis": "x",
         "y": [
          0,
          0.4301280081272125
         ],
         "yaxis": "y"
        },
        {
         "mode": "lines+markers+text",
         "name": "2",
         "text": [
          null,
          "2"
         ],
         "textposition": "top center",
         "type": "scatter",
         "x": [
          0,
          0.015374112874269485
         ],
         "xaxis": "x",
         "y": [
          0,
          0.003790410468354821
         ],
         "yaxis": "y"
        },
        {
         "mode": "lines+markers+text",
         "name": "3",
         "text": [
          null,
          "3"
         ],
         "textposition": "top center",
         "type": "scatter",
         "x": [
          0,
          -0.0012178403558209538
         ],
         "xaxis": "x",
         "y": [
          0,
          -0.00030025243177078664
         ],
         "yaxis": "y"
        },
        {
         "mode": "lines+markers+text",
         "name": "4",
         "text": [
          null,
          "4"
         ],
         "textposition": "top center",
         "type": "scatter",
         "x": [
          0,
          -1.344831109046936
         ],
         "xaxis": "x",
         "y": [
          0,
          -0.3315613865852356
         ],
         "yaxis": "y"
        },
        {
         "mode": "lines+markers+text",
         "name": "0",
         "text": [
          null,
          "0"
         ],
         "textposition": "top center",
         "type": "scatter",
         "x": [
          0,
          -0.7592424750328064
         ],
         "xaxis": "x2",
         "y": [
          0,
          -0.18688350915908813
         ],
         "yaxis": "y2"
        },
        {
         "mode": "lines+markers+text",
         "name": "1",
         "text": [
          null,
          "1"
         ],
         "textposition": "top center",
         "type": "scatter",
         "x": [
          0,
          1.0266690254211426
         ],
         "xaxis": "x2",
         "y": [
          0,
          0.25270915031433105
         ],
         "yaxis": "y2"
        },
        {
         "mode": "lines+markers+text",
         "name": "2",
         "text": [
          null,
          "2"
         ],
         "textposition": "top center",
         "type": "scatter",
         "x": [
          0,
          0.014651781879365444
         ],
         "xaxis": "x2",
         "y": [
          0,
          0.0036064584273844957
         ],
         "yaxis": "y2"
        },
        {
         "mode": "lines+markers+text",
         "name": "3",
         "text": [
          null,
          "3"
         ],
         "textposition": "top center",
         "type": "scatter",
         "x": [
          0,
          0.010438821278512478
         ],
         "xaxis": "x2",
         "y": [
          0,
          0.002569460542872548
         ],
         "yaxis": "y2"
        },
        {
         "mode": "lines+markers+text",
         "name": "4",
         "text": [
          null,
          "4"
         ],
         "textposition": "top center",
         "type": "scatter",
         "x": [
          0,
          -0.7652603387832642
         ],
         "xaxis": "x2",
         "y": [
          0,
          -0.18836477398872375
         ],
         "yaxis": "y2"
        },
        {
         "mode": "lines+markers+text",
         "name": "0",
         "text": [
          null,
          "0"
         ],
         "textposition": "top center",
         "type": "scatter",
         "x": [
          0,
          -0.035549748688936234
         ],
         "xaxis": "x3",
         "y": [
          0,
          0.020364006981253624
         ],
         "yaxis": "y3"
        },
        {
         "mode": "lines+markers+text",
         "name": "1",
         "text": [
          null,
          "1"
         ],
         "textposition": "top center",
         "type": "scatter",
         "x": [
          0,
          2.61759614944458
         ],
         "xaxis": "x3",
         "y": [
          0,
          -1.4994409084320068
         ],
         "yaxis": "y3"
        },
        {
         "mode": "lines+markers+text",
         "name": "2",
         "text": [
          null,
          "2"
         ],
         "textposition": "top center",
         "type": "scatter",
         "x": [
          0,
          -0.201011523604393
         ],
         "xaxis": "x3",
         "y": [
          0,
          0.11514568328857422
         ],
         "yaxis": "y3"
        },
        {
         "mode": "lines+markers+text",
         "name": "3",
         "text": [
          null,
          "3"
         ],
         "textposition": "top center",
         "type": "scatter",
         "x": [
          0,
          4.77701473236084
         ],
         "xaxis": "x3",
         "y": [
          0,
          -2.7364232540130615
         ],
         "yaxis": "y3"
        },
        {
         "mode": "lines+markers+text",
         "name": "4",
         "text": [
          null,
          "4"
         ],
         "textposition": "top center",
         "type": "scatter",
         "x": [
          0,
          -3.6442251205444336
         ],
         "xaxis": "x3",
         "y": [
          0,
          2.0875260829925537
         ],
         "yaxis": "y3"
        },
        {
         "mode": "lines+markers+text",
         "name": "0",
         "text": [
          null,
          "0"
         ],
         "textposition": "top center",
         "type": "scatter",
         "x": [
          0,
          -0.0001213011346408166
         ],
         "xaxis": "x4",
         "y": [
          0,
          -0.00007307201303774491
         ],
         "yaxis": "y4"
        },
        {
         "mode": "lines+markers+text",
         "name": "1",
         "text": [
          null,
          "1"
         ],
         "textposition": "top center",
         "type": "scatter",
         "x": [
          0,
          0.00012737588258460164
         ],
         "xaxis": "x4",
         "y": [
          0,
          0.00007673144864384085
         ],
         "yaxis": "y4"
        },
        {
         "mode": "lines+markers+text",
         "name": "2",
         "text": [
          null,
          "2"
         ],
         "textposition": "top center",
         "type": "scatter",
         "x": [
          0,
          0.00004650503251468763
         ],
         "xaxis": "x4",
         "y": [
          0,
          0.000028014710551360622
         ],
         "yaxis": "y4"
        },
        {
         "mode": "lines+markers+text",
         "name": "3",
         "text": [
          null,
          "3"
         ],
         "textposition": "top center",
         "type": "scatter",
         "x": [
          0,
          -9.456962324350116e-9
         ],
         "xaxis": "x4",
         "y": [
          0,
          -5.696890070794325e-9
         ],
         "yaxis": "y4"
        },
        {
         "mode": "lines+markers+text",
         "name": "4",
         "text": [
          null,
          "4"
         ],
         "textposition": "top center",
         "type": "scatter",
         "x": [
          0,
          -0.00015601109771523625
         ],
         "xaxis": "x4",
         "y": [
          0,
          -0.00009398135443916544
         ],
         "yaxis": "y4"
        },
        {
         "mode": "lines+markers+text",
         "name": "0",
         "text": [
          null,
          "0"
         ],
         "textposition": "top center",
         "type": "scatter",
         "x": [
          0,
          -0.01293091382831335
         ],
         "xaxis": "x5",
         "y": [
          0,
          -3.1915416717529297
         ],
         "yaxis": "y5"
        },
        {
         "mode": "lines+markers+text",
         "name": "1",
         "text": [
          null,
          "1"
         ],
         "textposition": "top center",
         "type": "scatter",
         "x": [
          0,
          0.00043250899761915207
         ],
         "xaxis": "x5",
         "y": [
          0,
          0.10674964636564255
         ],
         "yaxis": "y5"
        },
        {
         "mode": "lines+markers+text",
         "name": "2",
         "text": [
          null,
          "2"
         ],
         "textposition": "top center",
         "type": "scatter",
         "x": [
          0,
          0.015340955927968025
         ],
         "xaxis": "x5",
         "y": [
          0,
          3.7863757610321045
         ],
         "yaxis": "y5"
        },
        {
         "mode": "lines+markers+text",
         "name": "3",
         "text": [
          null,
          "3"
         ],
         "textposition": "top center",
         "type": "scatter",
         "x": [
          0,
          -0.019725391641259193
         ],
         "xaxis": "x5",
         "y": [
          0,
          -4.8685197830200195
         ],
         "yaxis": "y5"
        },
        {
         "mode": "lines+markers+text",
         "name": "4",
         "text": [
          null,
          "4"
         ],
         "textposition": "top center",
         "type": "scatter",
         "x": [
          0,
          -0.00015542967594228685
         ],
         "xaxis": "x5",
         "y": [
          0,
          -0.038362350314855576
         ],
         "yaxis": "y5"
        },
        {
         "mode": "lines+markers+text",
         "name": "0",
         "text": [
          null,
          "0"
         ],
         "textposition": "top center",
         "type": "scatter",
         "x": [
          0,
          0.0000015055816220410634
         ],
         "xaxis": "x6",
         "y": [
          0,
          0.0000015549212548648939
         ],
         "yaxis": "y6"
        },
        {
         "mode": "lines+markers+text",
         "name": "1",
         "text": [
          null,
          "1"
         ],
         "textposition": "top center",
         "type": "scatter",
         "x": [
          0,
          0.000008995612006401643
         ],
         "xaxis": "x6",
         "y": [
          0,
          0.000009290408343076706
         ],
         "yaxis": "y6"
        },
        {
         "mode": "lines+markers+text",
         "name": "2",
         "text": [
          null,
          "2"
         ],
         "textposition": "top center",
         "type": "scatter",
         "x": [
          0,
          0.000005524503194465069
         ],
         "xaxis": "x6",
         "y": [
          0,
          0.000005705547664547339
         ],
         "yaxis": "y6"
        },
        {
         "mode": "lines+markers+text",
         "name": "3",
         "text": [
          null,
          "3"
         ],
         "textposition": "top center",
         "type": "scatter",
         "x": [
          0,
          0.000008706797416380141
         ],
         "xaxis": "x6",
         "y": [
          0,
          0.000008992129551188555
         ],
         "yaxis": "y6"
        },
        {
         "mode": "lines+markers+text",
         "name": "4",
         "text": [
          null,
          "4"
         ],
         "textposition": "top center",
         "type": "scatter",
         "x": [
          0,
          -3.741791765321523e-9
         ],
         "xaxis": "x6",
         "y": [
          0,
          -3.8644150102129515e-9
         ],
         "yaxis": "y6"
        },
        {
         "mode": "lines+markers+text",
         "name": "0",
         "text": [
          null,
          "0"
         ],
         "textposition": "top center",
         "type": "scatter",
         "x": [
          0,
          -0.7380790710449219
         ],
         "xaxis": "x7",
         "y": [
          0,
          -1.0728460550308228
         ],
         "yaxis": "y7"
        },
        {
         "mode": "lines+markers+text",
         "name": "1",
         "text": [
          null,
          "1"
         ],
         "textposition": "top center",
         "type": "scatter",
         "x": [
          0,
          1.5124541521072388
         ],
         "xaxis": "x7",
         "y": [
          0,
          0.22173123061656952
         ],
         "yaxis": "y7"
        },
        {
         "mode": "lines+markers+text",
         "name": "2",
         "text": [
          null,
          "2"
         ],
         "textposition": "top center",
         "type": "scatter",
         "x": [
          0,
          -0.17499911785125732
         ],
         "xaxis": "x7",
         "y": [
          0,
          1.1923511028289795
         ],
         "yaxis": "y7"
        },
        {
         "mode": "lines+markers+text",
         "name": "3",
         "text": [
          null,
          "3"
         ],
         "textposition": "top center",
         "type": "scatter",
         "x": [
          0,
          0.7014053463935852
         ],
         "xaxis": "x7",
         "y": [
          0,
          -0.8374024629592896
         ],
         "yaxis": "y7"
        },
        {
         "mode": "lines+markers+text",
         "name": "4",
         "text": [
          null,
          "4"
         ],
         "textposition": "top center",
         "type": "scatter",
         "x": [
          0,
          -1.0735126733779907
         ],
         "xaxis": "x7",
         "y": [
          0,
          0.2950870394706726
         ],
         "yaxis": "y7"
        },
        {
         "mode": "lines+markers+text",
         "name": "0",
         "text": [
          null,
          "0"
         ],
         "textposition": "top center",
         "type": "scatter",
         "x": [
          0,
          -2.1168696880340576
         ],
         "xaxis": "x8",
         "y": [
          0,
          -3.6808664798736572
         ],
         "yaxis": "y8"
        },
        {
         "mode": "lines+markers+text",
         "name": "1",
         "text": [
          null,
          "1"
         ],
         "textposition": "top center",
         "type": "scatter",
         "x": [
          0,
          5.389456748962402
         ],
         "xaxis": "x8",
         "y": [
          0,
          -0.7097681164741516
         ],
         "yaxis": "y8"
        },
        {
         "mode": "lines+markers+text",
         "name": "2",
         "text": [
          null,
          "2"
         ],
         "textposition": "top center",
         "type": "scatter",
         "x": [
          0,
          -0.1555926352739334
         ],
         "xaxis": "x8",
         "y": [
          0,
          3.908952236175537
         ],
         "yaxis": "y8"
        },
        {
         "mode": "lines+markers+text",
         "name": "3",
         "text": [
          null,
          "3"
         ],
         "textposition": "top center",
         "type": "scatter",
         "x": [
          0,
          4.766519069671631
         ],
         "xaxis": "x8",
         "y": [
          0,
          -7.602664947509766
         ],
         "yaxis": "y8"
        },
        {
         "mode": "lines+markers+text",
         "name": "4",
         "text": [
          null,
          "4"
         ],
         "textposition": "top center",
         "type": "scatter",
         "x": [
          0,
          -5.754627704620361
         ],
         "xaxis": "x8",
         "y": [
          0,
          1.5291435718536377
         ],
         "yaxis": "y8"
        }
       ],
       "layout": {
        "annotations": [
         {
          "font": {
           "size": 16
          },
          "showarrow": false,
          "text": "head 1",
          "x": 0.06944444444444445,
          "xanchor": "center",
          "xref": "paper",
          "y": 1,
          "yanchor": "bottom",
          "yref": "paper"
         },
         {
          "font": {
           "size": 16
          },
          "showarrow": false,
          "text": "head 2",
          "x": 0.24166666666666667,
          "xanchor": "center",
          "xref": "paper",
          "y": 1,
          "yanchor": "bottom",
          "yref": "paper"
         },
         {
          "font": {
           "size": 16
          },
          "showarrow": false,
          "text": "head 3",
          "x": 0.41388888888888886,
          "xanchor": "center",
          "xref": "paper",
          "y": 1,
          "yanchor": "bottom",
          "yref": "paper"
         },
         {
          "font": {
           "size": 16
          },
          "showarrow": false,
          "text": "head 4",
          "x": 0.5861111111111112,
          "xanchor": "center",
          "xref": "paper",
          "y": 1,
          "yanchor": "bottom",
          "yref": "paper"
         },
         {
          "font": {
           "size": 16
          },
          "showarrow": false,
          "text": "head 5",
          "x": 0.7583333333333333,
          "xanchor": "center",
          "xref": "paper",
          "y": 1,
          "yanchor": "bottom",
          "yref": "paper"
         },
         {
          "font": {
           "size": 16
          },
          "showarrow": false,
          "text": "head 6",
          "x": 0.9305555555555556,
          "xanchor": "center",
          "xref": "paper",
          "y": 1,
          "yanchor": "bottom",
          "yref": "paper"
         }
        ],
        "height": 600,
        "showlegend": false,
        "template": {
         "data": {
          "bar": [
           {
            "error_x": {
             "color": "#2a3f5f"
            },
            "error_y": {
             "color": "#2a3f5f"
            },
            "marker": {
             "line": {
              "color": "#E5ECF6",
              "width": 0.5
             },
             "pattern": {
              "fillmode": "overlay",
              "size": 10,
              "solidity": 0.2
             }
            },
            "type": "bar"
           }
          ],
          "barpolar": [
           {
            "marker": {
             "line": {
              "color": "#E5ECF6",
              "width": 0.5
             },
             "pattern": {
              "fillmode": "overlay",
              "size": 10,
              "solidity": 0.2
             }
            },
            "type": "barpolar"
           }
          ],
          "carpet": [
           {
            "aaxis": {
             "endlinecolor": "#2a3f5f",
             "gridcolor": "white",
             "linecolor": "white",
             "minorgridcolor": "white",
             "startlinecolor": "#2a3f5f"
            },
            "baxis": {
             "endlinecolor": "#2a3f5f",
             "gridcolor": "white",
             "linecolor": "white",
             "minorgridcolor": "white",
             "startlinecolor": "#2a3f5f"
            },
            "type": "carpet"
           }
          ],
          "choropleth": [
           {
            "colorbar": {
             "outlinewidth": 0,
             "ticks": ""
            },
            "type": "choropleth"
           }
          ],
          "contour": [
           {
            "colorbar": {
             "outlinewidth": 0,
             "ticks": ""
            },
            "colorscale": [
             [
              0,
              "#0d0887"
             ],
             [
              0.1111111111111111,
              "#46039f"
             ],
             [
              0.2222222222222222,
              "#7201a8"
             ],
             [
              0.3333333333333333,
              "#9c179e"
             ],
             [
              0.4444444444444444,
              "#bd3786"
             ],
             [
              0.5555555555555556,
              "#d8576b"
             ],
             [
              0.6666666666666666,
              "#ed7953"
             ],
             [
              0.7777777777777778,
              "#fb9f3a"
             ],
             [
              0.8888888888888888,
              "#fdca26"
             ],
             [
              1,
              "#f0f921"
             ]
            ],
            "type": "contour"
           }
          ],
          "contourcarpet": [
           {
            "colorbar": {
             "outlinewidth": 0,
             "ticks": ""
            },
            "type": "contourcarpet"
           }
          ],
          "heatmap": [
           {
            "colorbar": {
             "outlinewidth": 0,
             "ticks": ""
            },
            "colorscale": [
             [
              0,
              "#0d0887"
             ],
             [
              0.1111111111111111,
              "#46039f"
             ],
             [
              0.2222222222222222,
              "#7201a8"
             ],
             [
              0.3333333333333333,
              "#9c179e"
             ],
             [
              0.4444444444444444,
              "#bd3786"
             ],
             [
              0.5555555555555556,
              "#d8576b"
             ],
             [
              0.6666666666666666,
              "#ed7953"
             ],
             [
              0.7777777777777778,
              "#fb9f3a"
             ],
             [
              0.8888888888888888,
              "#fdca26"
             ],
             [
              1,
              "#f0f921"
             ]
            ],
            "type": "heatmap"
           }
          ],
          "heatmapgl": [
           {
            "colorbar": {
             "outlinewidth": 0,
             "ticks": ""
            },
            "colorscale": [
             [
              0,
              "#0d0887"
             ],
             [
              0.1111111111111111,
              "#46039f"
             ],
             [
              0.2222222222222222,
              "#7201a8"
             ],
             [
              0.3333333333333333,
              "#9c179e"
             ],
             [
              0.4444444444444444,
              "#bd3786"
             ],
             [
              0.5555555555555556,
              "#d8576b"
             ],
             [
              0.6666666666666666,
              "#ed7953"
             ],
             [
              0.7777777777777778,
              "#fb9f3a"
             ],
             [
              0.8888888888888888,
              "#fdca26"
             ],
             [
              1,
              "#f0f921"
             ]
            ],
            "type": "heatmapgl"
           }
          ],
          "histogram": [
           {
            "marker": {
             "pattern": {
              "fillmode": "overlay",
              "size": 10,
              "solidity": 0.2
             }
            },
            "type": "histogram"
           }
          ],
          "histogram2d": [
           {
            "colorbar": {
             "outlinewidth": 0,
             "ticks": ""
            },
            "colorscale": [
             [
              0,
              "#0d0887"
             ],
             [
              0.1111111111111111,
              "#46039f"
             ],
             [
              0.2222222222222222,
              "#7201a8"
             ],
             [
              0.3333333333333333,
              "#9c179e"
             ],
             [
              0.4444444444444444,
              "#bd3786"
             ],
             [
              0.5555555555555556,
              "#d8576b"
             ],
             [
              0.6666666666666666,
              "#ed7953"
             ],
             [
              0.7777777777777778,
              "#fb9f3a"
             ],
             [
              0.8888888888888888,
              "#fdca26"
             ],
             [
              1,
              "#f0f921"
             ]
            ],
            "type": "histogram2d"
           }
          ],
          "histogram2dcontour": [
           {
            "colorbar": {
             "outlinewidth": 0,
             "ticks": ""
            },
            "colorscale": [
             [
              0,
              "#0d0887"
             ],
             [
              0.1111111111111111,
              "#46039f"
             ],
             [
              0.2222222222222222,
              "#7201a8"
             ],
             [
              0.3333333333333333,
              "#9c179e"
             ],
             [
              0.4444444444444444,
              "#bd3786"
             ],
             [
              0.5555555555555556,
              "#d8576b"
             ],
             [
              0.6666666666666666,
              "#ed7953"
             ],
             [
              0.7777777777777778,
              "#fb9f3a"
             ],
             [
              0.8888888888888888,
              "#fdca26"
             ],
             [
              1,
              "#f0f921"
             ]
            ],
            "type": "histogram2dcontour"
           }
          ],
          "mesh3d": [
           {
            "colorbar": {
             "outlinewidth": 0,
             "ticks": ""
            },
            "type": "mesh3d"
           }
          ],
          "parcoords": [
           {
            "line": {
             "colorbar": {
              "outlinewidth": 0,
              "ticks": ""
             }
            },
            "type": "parcoords"
           }
          ],
          "pie": [
           {
            "automargin": true,
            "type": "pie"
           }
          ],
          "scatter": [
           {
            "fillpattern": {
             "fillmode": "overlay",
             "size": 10,
             "solidity": 0.2
            },
            "type": "scatter"
           }
          ],
          "scatter3d": [
           {
            "line": {
             "colorbar": {
              "outlinewidth": 0,
              "ticks": ""
             }
            },
            "marker": {
             "colorbar": {
              "outlinewidth": 0,
              "ticks": ""
             }
            },
            "type": "scatter3d"
           }
          ],
          "scattercarpet": [
           {
            "marker": {
             "colorbar": {
              "outlinewidth": 0,
              "ticks": ""
             }
            },
            "type": "scattercarpet"
           }
          ],
          "scattergeo": [
           {
            "marker": {
             "colorbar": {
              "outlinewidth": 0,
              "ticks": ""
             }
            },
            "type": "scattergeo"
           }
          ],
          "scattergl": [
           {
            "marker": {
             "colorbar": {
              "outlinewidth": 0,
              "ticks": ""
             }
            },
            "type": "scattergl"
           }
          ],
          "scattermapbox": [
           {
            "marker": {
             "colorbar": {
              "outlinewidth": 0,
              "ticks": ""
             }
            },
            "type": "scattermapbox"
           }
          ],
          "scatterpolar": [
           {
            "marker": {
             "colorbar": {
              "outlinewidth": 0,
              "ticks": ""
             }
            },
            "type": "scatterpolar"
           }
          ],
          "scatterpolargl": [
           {
            "marker": {
             "colorbar": {
              "outlinewidth": 0,
              "ticks": ""
             }
            },
            "type": "scatterpolargl"
           }
          ],
          "scatterternary": [
           {
            "marker": {
             "colorbar": {
              "outlinewidth": 0,
              "ticks": ""
             }
            },
            "type": "scatterternary"
           }
          ],
          "surface": [
           {
            "colorbar": {
             "outlinewidth": 0,
             "ticks": ""
            },
            "colorscale": [
             [
              0,
              "#0d0887"
             ],
             [
              0.1111111111111111,
              "#46039f"
             ],
             [
              0.2222222222222222,
              "#7201a8"
             ],
             [
              0.3333333333333333,
              "#9c179e"
             ],
             [
              0.4444444444444444,
              "#bd3786"
             ],
             [
              0.5555555555555556,
              "#d8576b"
             ],
             [
              0.6666666666666666,
              "#ed7953"
             ],
             [
              0.7777777777777778,
              "#fb9f3a"
             ],
             [
              0.8888888888888888,
              "#fdca26"
             ],
             [
              1,
              "#f0f921"
             ]
            ],
            "type": "surface"
           }
          ],
          "table": [
           {
            "cells": {
             "fill": {
              "color": "#EBF0F8"
             },
             "line": {
              "color": "white"
             }
            },
            "header": {
             "fill": {
              "color": "#C8D4E3"
             },
             "line": {
              "color": "white"
             }
            },
            "type": "table"
           }
          ]
         },
         "layout": {
          "annotationdefaults": {
           "arrowcolor": "#2a3f5f",
           "arrowhead": 0,
           "arrowwidth": 1
          },
          "autotypenumbers": "strict",
          "coloraxis": {
           "colorbar": {
            "outlinewidth": 0,
            "ticks": ""
           }
          },
          "colorscale": {
           "diverging": [
            [
             0,
             "#8e0152"
            ],
            [
             0.1,
             "#c51b7d"
            ],
            [
             0.2,
             "#de77ae"
            ],
            [
             0.3,
             "#f1b6da"
            ],
            [
             0.4,
             "#fde0ef"
            ],
            [
             0.5,
             "#f7f7f7"
            ],
            [
             0.6,
             "#e6f5d0"
            ],
            [
             0.7,
             "#b8e186"
            ],
            [
             0.8,
             "#7fbc41"
            ],
            [
             0.9,
             "#4d9221"
            ],
            [
             1,
             "#276419"
            ]
           ],
           "sequential": [
            [
             0,
             "#0d0887"
            ],
            [
             0.1111111111111111,
             "#46039f"
            ],
            [
             0.2222222222222222,
             "#7201a8"
            ],
            [
             0.3333333333333333,
             "#9c179e"
            ],
            [
             0.4444444444444444,
             "#bd3786"
            ],
            [
             0.5555555555555556,
             "#d8576b"
            ],
            [
             0.6666666666666666,
             "#ed7953"
            ],
            [
             0.7777777777777778,
             "#fb9f3a"
            ],
            [
             0.8888888888888888,
             "#fdca26"
            ],
            [
             1,
             "#f0f921"
            ]
           ],
           "sequentialminus": [
            [
             0,
             "#0d0887"
            ],
            [
             0.1111111111111111,
             "#46039f"
            ],
            [
             0.2222222222222222,
             "#7201a8"
            ],
            [
             0.3333333333333333,
             "#9c179e"
            ],
            [
             0.4444444444444444,
             "#bd3786"
            ],
            [
             0.5555555555555556,
             "#d8576b"
            ],
            [
             0.6666666666666666,
             "#ed7953"
            ],
            [
             0.7777777777777778,
             "#fb9f3a"
            ],
            [
             0.8888888888888888,
             "#fdca26"
            ],
            [
             1,
             "#f0f921"
            ]
           ]
          },
          "colorway": [
           "#636efa",
           "#EF553B",
           "#00cc96",
           "#ab63fa",
           "#FFA15A",
           "#19d3f3",
           "#FF6692",
           "#B6E880",
           "#FF97FF",
           "#FECB52"
          ],
          "font": {
           "color": "#2a3f5f"
          },
          "geo": {
           "bgcolor": "white",
           "lakecolor": "white",
           "landcolor": "#E5ECF6",
           "showlakes": true,
           "showland": true,
           "subunitcolor": "white"
          },
          "hoverlabel": {
           "align": "left"
          },
          "hovermode": "closest",
          "mapbox": {
           "style": "light"
          },
          "paper_bgcolor": "white",
          "plot_bgcolor": "#E5ECF6",
          "polar": {
           "angularaxis": {
            "gridcolor": "white",
            "linecolor": "white",
            "ticks": ""
           },
           "bgcolor": "#E5ECF6",
           "radialaxis": {
            "gridcolor": "white",
            "linecolor": "white",
            "ticks": ""
           }
          },
          "scene": {
           "xaxis": {
            "backgroundcolor": "#E5ECF6",
            "gridcolor": "white",
            "gridwidth": 2,
            "linecolor": "white",
            "showbackground": true,
            "ticks": "",
            "zerolinecolor": "white"
           },
           "yaxis": {
            "backgroundcolor": "#E5ECF6",
            "gridcolor": "white",
            "gridwidth": 2,
            "linecolor": "white",
            "showbackground": true,
            "ticks": "",
            "zerolinecolor": "white"
           },
           "zaxis": {
            "backgroundcolor": "#E5ECF6",
            "gridcolor": "white",
            "gridwidth": 2,
            "linecolor": "white",
            "showbackground": true,
            "ticks": "",
            "zerolinecolor": "white"
           }
          },
          "shapedefaults": {
           "line": {
            "color": "#2a3f5f"
           }
          },
          "ternary": {
           "aaxis": {
            "gridcolor": "white",
            "linecolor": "white",
            "ticks": ""
           },
           "baxis": {
            "gridcolor": "white",
            "linecolor": "white",
            "ticks": ""
           },
           "bgcolor": "#E5ECF6",
           "caxis": {
            "gridcolor": "white",
            "linecolor": "white",
            "ticks": ""
           }
          },
          "title": {
           "x": 0.05
          },
          "xaxis": {
           "automargin": true,
           "gridcolor": "white",
           "linecolor": "white",
           "ticks": "",
           "title": {
            "standoff": 15
           },
           "zerolinecolor": "white",
           "zerolinewidth": 2
          },
          "yaxis": {
           "automargin": true,
           "gridcolor": "white",
           "linecolor": "white",
           "ticks": "",
           "title": {
            "standoff": 15
           },
           "zerolinecolor": "white",
           "zerolinewidth": 2
          }
         }
        },
        "title": {
         "text": ""
        },
        "width": 1800,
        "xaxis": {
         "anchor": "y",
         "domain": [
          0,
          0.1388888888888889
         ],
         "range": [
          -10,
          10
         ],
         "title": {
          "text": "heads output"
         }
        },
        "xaxis10": {
         "anchor": "y10",
         "domain": [
          0.5166666666666667,
          0.6555555555555557
         ]
        },
        "xaxis11": {
         "anchor": "y11",
         "domain": [
          0.6888888888888889,
          0.8277777777777777
         ]
        },
        "xaxis12": {
         "anchor": "y12",
         "domain": [
          0.861111111111111,
          1
         ]
        },
        "xaxis2": {
         "anchor": "y2",
         "domain": [
          0.17222222222222222,
          0.3111111111111111
         ],
         "range": [
          -10,
          10
         ],
         "title": {
          "text": "heads output"
         }
        },
        "xaxis3": {
         "anchor": "y3",
         "domain": [
          0.34444444444444444,
          0.48333333333333334
         ],
         "range": [
          -10,
          10
         ],
         "title": {
          "text": "heads output"
         }
        },
        "xaxis4": {
         "anchor": "y4",
         "domain": [
          0.5166666666666667,
          0.6555555555555557
         ],
         "range": [
          -10,
          10
         ],
         "title": {
          "text": "heads output"
         }
        },
        "xaxis5": {
         "anchor": "y5",
         "domain": [
          0.6888888888888889,
          0.8277777777777777
         ],
         "range": [
          -10,
          10
         ],
         "title": {
          "text": "heads output"
         }
        },
        "xaxis6": {
         "anchor": "y6",
         "domain": [
          0.861111111111111,
          1
         ],
         "range": [
          -10,
          10
         ],
         "title": {
          "text": "heads output"
         }
        },
        "xaxis7": {
         "anchor": "y7",
         "domain": [
          0,
          0.1388888888888889
         ],
         "range": [
          -5,
          5
         ],
         "title": {
          "text": "unembeddings"
         }
        },
        "xaxis8": {
         "anchor": "y8",
         "domain": [
          0.17222222222222222,
          0.3111111111111111
         ],
         "range": [
          -10,
          10
         ],
         "title": {
          "text": "output"
         }
        },
        "xaxis9": {
         "anchor": "y9",
         "domain": [
          0.34444444444444444,
          0.48333333333333334
         ]
        },
        "yaxis": {
         "anchor": "x",
         "domain": [
          0.625,
          1
         ],
         "range": [
          -10,
          10
         ],
         "title": {
          "text": ""
         }
        },
        "yaxis10": {
         "anchor": "x10",
         "domain": [
          0,
          0.375
         ]
        },
        "yaxis11": {
         "anchor": "x11",
         "domain": [
          0,
          0.375
         ]
        },
        "yaxis12": {
         "anchor": "x12",
         "domain": [
          0,
          0.375
         ]
        },
        "yaxis2": {
         "anchor": "x2",
         "domain": [
          0.625,
          1
         ],
         "range": [
          -10,
          10
         ],
         "title": {
          "text": ""
         }
        },
        "yaxis3": {
         "anchor": "x3",
         "domain": [
          0.625,
          1
         ],
         "range": [
          -10,
          10
         ],
         "title": {
          "text": ""
         }
        },
        "yaxis4": {
         "anchor": "x4",
         "domain": [
          0.625,
          1
         ],
         "range": [
          -10,
          10
         ],
         "title": {
          "text": ""
         }
        },
        "yaxis5": {
         "anchor": "x5",
         "domain": [
          0.625,
          1
         ],
         "range": [
          -10,
          10
         ],
         "title": {
          "text": ""
         }
        },
        "yaxis6": {
         "anchor": "x6",
         "domain": [
          0.625,
          1
         ],
         "range": [
          -10,
          10
         ],
         "title": {
          "text": ""
         }
        },
        "yaxis7": {
         "anchor": "x7",
         "domain": [
          0,
          0.375
         ],
         "range": [
          -5,
          5
         ],
         "title": {
          "text": ""
         }
        },
        "yaxis8": {
         "anchor": "x8",
         "domain": [
          0,
          0.375
         ],
         "range": [
          -10,
          10
         ],
         "title": {
          "text": ""
         }
        },
        "yaxis9": {
         "anchor": "x9",
         "domain": [
          0,
          0.375
         ]
        }
       }
      },
      "text/html": [
       "<div>                            <div id=\"227be1ba-33f1-416c-ad93-849c9660d48c\" class=\"plotly-graph-div\" style=\"height:600px; width:1800px;\"></div>            <script type=\"text/javascript\">                require([\"plotly\"], function(Plotly) {                    window.PLOTLYENV=window.PLOTLYENV || {};                                    if (document.getElementById(\"227be1ba-33f1-416c-ad93-849c9660d48c\")) {                    Plotly.newPlot(                        \"227be1ba-33f1-416c-ad93-849c9660d48c\",                        [{\"mode\":\"lines+markers+text\",\"name\":\"0\",\"text\":[null,\"0\"],\"textposition\":\"top center\",\"x\":[0.0,-1.309026837348938],\"y\":[0.0,-0.322733998298645],\"type\":\"scatter\",\"xaxis\":\"x\",\"yaxis\":\"y\"},{\"mode\":\"lines+markers+text\",\"name\":\"1\",\"text\":[null,\"1\"],\"textposition\":\"top center\",\"x\":[0.0,1.744622826576233],\"y\":[0.0,0.4301280081272125],\"type\":\"scatter\",\"xaxis\":\"x\",\"yaxis\":\"y\"},{\"mode\":\"lines+markers+text\",\"name\":\"2\",\"text\":[null,\"2\"],\"textposition\":\"top center\",\"x\":[0.0,0.015374112874269485],\"y\":[0.0,0.003790410468354821],\"type\":\"scatter\",\"xaxis\":\"x\",\"yaxis\":\"y\"},{\"mode\":\"lines+markers+text\",\"name\":\"3\",\"text\":[null,\"3\"],\"textposition\":\"top center\",\"x\":[0.0,-0.0012178403558209538],\"y\":[0.0,-0.00030025243177078664],\"type\":\"scatter\",\"xaxis\":\"x\",\"yaxis\":\"y\"},{\"mode\":\"lines+markers+text\",\"name\":\"4\",\"text\":[null,\"4\"],\"textposition\":\"top center\",\"x\":[0.0,-1.344831109046936],\"y\":[0.0,-0.3315613865852356],\"type\":\"scatter\",\"xaxis\":\"x\",\"yaxis\":\"y\"},{\"mode\":\"lines+markers+text\",\"name\":\"0\",\"text\":[null,\"0\"],\"textposition\":\"top center\",\"x\":[0.0,-0.7592424750328064],\"y\":[0.0,-0.18688350915908813],\"type\":\"scatter\",\"xaxis\":\"x2\",\"yaxis\":\"y2\"},{\"mode\":\"lines+markers+text\",\"name\":\"1\",\"text\":[null,\"1\"],\"textposition\":\"top center\",\"x\":[0.0,1.0266690254211426],\"y\":[0.0,0.25270915031433105],\"type\":\"scatter\",\"xaxis\":\"x2\",\"yaxis\":\"y2\"},{\"mode\":\"lines+markers+text\",\"name\":\"2\",\"text\":[null,\"2\"],\"textposition\":\"top center\",\"x\":[0.0,0.014651781879365444],\"y\":[0.0,0.0036064584273844957],\"type\":\"scatter\",\"xaxis\":\"x2\",\"yaxis\":\"y2\"},{\"mode\":\"lines+markers+text\",\"name\":\"3\",\"text\":[null,\"3\"],\"textposition\":\"top center\",\"x\":[0.0,0.010438821278512478],\"y\":[0.0,0.002569460542872548],\"type\":\"scatter\",\"xaxis\":\"x2\",\"yaxis\":\"y2\"},{\"mode\":\"lines+markers+text\",\"name\":\"4\",\"text\":[null,\"4\"],\"textposition\":\"top center\",\"x\":[0.0,-0.7652603387832642],\"y\":[0.0,-0.18836477398872375],\"type\":\"scatter\",\"xaxis\":\"x2\",\"yaxis\":\"y2\"},{\"mode\":\"lines+markers+text\",\"name\":\"0\",\"text\":[null,\"0\"],\"textposition\":\"top center\",\"x\":[0.0,-0.035549748688936234],\"y\":[0.0,0.020364006981253624],\"type\":\"scatter\",\"xaxis\":\"x3\",\"yaxis\":\"y3\"},{\"mode\":\"lines+markers+text\",\"name\":\"1\",\"text\":[null,\"1\"],\"textposition\":\"top center\",\"x\":[0.0,2.61759614944458],\"y\":[0.0,-1.4994409084320068],\"type\":\"scatter\",\"xaxis\":\"x3\",\"yaxis\":\"y3\"},{\"mode\":\"lines+markers+text\",\"name\":\"2\",\"text\":[null,\"2\"],\"textposition\":\"top center\",\"x\":[0.0,-0.201011523604393],\"y\":[0.0,0.11514568328857422],\"type\":\"scatter\",\"xaxis\":\"x3\",\"yaxis\":\"y3\"},{\"mode\":\"lines+markers+text\",\"name\":\"3\",\"text\":[null,\"3\"],\"textposition\":\"top center\",\"x\":[0.0,4.77701473236084],\"y\":[0.0,-2.7364232540130615],\"type\":\"scatter\",\"xaxis\":\"x3\",\"yaxis\":\"y3\"},{\"mode\":\"lines+markers+text\",\"name\":\"4\",\"text\":[null,\"4\"],\"textposition\":\"top center\",\"x\":[0.0,-3.6442251205444336],\"y\":[0.0,2.0875260829925537],\"type\":\"scatter\",\"xaxis\":\"x3\",\"yaxis\":\"y3\"},{\"mode\":\"lines+markers+text\",\"name\":\"0\",\"text\":[null,\"0\"],\"textposition\":\"top center\",\"x\":[0.0,-0.0001213011346408166],\"y\":[0.0,-7.307201303774491e-05],\"type\":\"scatter\",\"xaxis\":\"x4\",\"yaxis\":\"y4\"},{\"mode\":\"lines+markers+text\",\"name\":\"1\",\"text\":[null,\"1\"],\"textposition\":\"top center\",\"x\":[0.0,0.00012737588258460164],\"y\":[0.0,7.673144864384085e-05],\"type\":\"scatter\",\"xaxis\":\"x4\",\"yaxis\":\"y4\"},{\"mode\":\"lines+markers+text\",\"name\":\"2\",\"text\":[null,\"2\"],\"textposition\":\"top center\",\"x\":[0.0,4.650503251468763e-05],\"y\":[0.0,2.8014710551360622e-05],\"type\":\"scatter\",\"xaxis\":\"x4\",\"yaxis\":\"y4\"},{\"mode\":\"lines+markers+text\",\"name\":\"3\",\"text\":[null,\"3\"],\"textposition\":\"top center\",\"x\":[0.0,-9.456962324350116e-09],\"y\":[0.0,-5.696890070794325e-09],\"type\":\"scatter\",\"xaxis\":\"x4\",\"yaxis\":\"y4\"},{\"mode\":\"lines+markers+text\",\"name\":\"4\",\"text\":[null,\"4\"],\"textposition\":\"top center\",\"x\":[0.0,-0.00015601109771523625],\"y\":[0.0,-9.398135443916544e-05],\"type\":\"scatter\",\"xaxis\":\"x4\",\"yaxis\":\"y4\"},{\"mode\":\"lines+markers+text\",\"name\":\"0\",\"text\":[null,\"0\"],\"textposition\":\"top center\",\"x\":[0.0,-0.01293091382831335],\"y\":[0.0,-3.1915416717529297],\"type\":\"scatter\",\"xaxis\":\"x5\",\"yaxis\":\"y5\"},{\"mode\":\"lines+markers+text\",\"name\":\"1\",\"text\":[null,\"1\"],\"textposition\":\"top center\",\"x\":[0.0,0.00043250899761915207],\"y\":[0.0,0.10674964636564255],\"type\":\"scatter\",\"xaxis\":\"x5\",\"yaxis\":\"y5\"},{\"mode\":\"lines+markers+text\",\"name\":\"2\",\"text\":[null,\"2\"],\"textposition\":\"top center\",\"x\":[0.0,0.015340955927968025],\"y\":[0.0,3.7863757610321045],\"type\":\"scatter\",\"xaxis\":\"x5\",\"yaxis\":\"y5\"},{\"mode\":\"lines+markers+text\",\"name\":\"3\",\"text\":[null,\"3\"],\"textposition\":\"top center\",\"x\":[0.0,-0.019725391641259193],\"y\":[0.0,-4.8685197830200195],\"type\":\"scatter\",\"xaxis\":\"x5\",\"yaxis\":\"y5\"},{\"mode\":\"lines+markers+text\",\"name\":\"4\",\"text\":[null,\"4\"],\"textposition\":\"top center\",\"x\":[0.0,-0.00015542967594228685],\"y\":[0.0,-0.038362350314855576],\"type\":\"scatter\",\"xaxis\":\"x5\",\"yaxis\":\"y5\"},{\"mode\":\"lines+markers+text\",\"name\":\"0\",\"text\":[null,\"0\"],\"textposition\":\"top center\",\"x\":[0.0,1.5055816220410634e-06],\"y\":[0.0,1.5549212548648939e-06],\"type\":\"scatter\",\"xaxis\":\"x6\",\"yaxis\":\"y6\"},{\"mode\":\"lines+markers+text\",\"name\":\"1\",\"text\":[null,\"1\"],\"textposition\":\"top center\",\"x\":[0.0,8.995612006401643e-06],\"y\":[0.0,9.290408343076706e-06],\"type\":\"scatter\",\"xaxis\":\"x6\",\"yaxis\":\"y6\"},{\"mode\":\"lines+markers+text\",\"name\":\"2\",\"text\":[null,\"2\"],\"textposition\":\"top center\",\"x\":[0.0,5.524503194465069e-06],\"y\":[0.0,5.705547664547339e-06],\"type\":\"scatter\",\"xaxis\":\"x6\",\"yaxis\":\"y6\"},{\"mode\":\"lines+markers+text\",\"name\":\"3\",\"text\":[null,\"3\"],\"textposition\":\"top center\",\"x\":[0.0,8.706797416380141e-06],\"y\":[0.0,8.992129551188555e-06],\"type\":\"scatter\",\"xaxis\":\"x6\",\"yaxis\":\"y6\"},{\"mode\":\"lines+markers+text\",\"name\":\"4\",\"text\":[null,\"4\"],\"textposition\":\"top center\",\"x\":[0.0,-3.741791765321523e-09],\"y\":[0.0,-3.8644150102129515e-09],\"type\":\"scatter\",\"xaxis\":\"x6\",\"yaxis\":\"y6\"},{\"mode\":\"lines+markers+text\",\"name\":\"0\",\"text\":[null,\"0\"],\"textposition\":\"top center\",\"x\":[0.0,-0.7380790710449219],\"y\":[0.0,-1.0728460550308228],\"type\":\"scatter\",\"xaxis\":\"x7\",\"yaxis\":\"y7\"},{\"mode\":\"lines+markers+text\",\"name\":\"1\",\"text\":[null,\"1\"],\"textposition\":\"top center\",\"x\":[0.0,1.5124541521072388],\"y\":[0.0,0.22173123061656952],\"type\":\"scatter\",\"xaxis\":\"x7\",\"yaxis\":\"y7\"},{\"mode\":\"lines+markers+text\",\"name\":\"2\",\"text\":[null,\"2\"],\"textposition\":\"top center\",\"x\":[0.0,-0.17499911785125732],\"y\":[0.0,1.1923511028289795],\"type\":\"scatter\",\"xaxis\":\"x7\",\"yaxis\":\"y7\"},{\"mode\":\"lines+markers+text\",\"name\":\"3\",\"text\":[null,\"3\"],\"textposition\":\"top center\",\"x\":[0.0,0.7014053463935852],\"y\":[0.0,-0.8374024629592896],\"type\":\"scatter\",\"xaxis\":\"x7\",\"yaxis\":\"y7\"},{\"mode\":\"lines+markers+text\",\"name\":\"4\",\"text\":[null,\"4\"],\"textposition\":\"top center\",\"x\":[0.0,-1.0735126733779907],\"y\":[0.0,0.2950870394706726],\"type\":\"scatter\",\"xaxis\":\"x7\",\"yaxis\":\"y7\"},{\"mode\":\"lines+markers+text\",\"name\":\"0\",\"text\":[null,\"0\"],\"textposition\":\"top center\",\"x\":[0.0,-2.1168696880340576],\"y\":[0.0,-3.6808664798736572],\"type\":\"scatter\",\"xaxis\":\"x8\",\"yaxis\":\"y8\"},{\"mode\":\"lines+markers+text\",\"name\":\"1\",\"text\":[null,\"1\"],\"textposition\":\"top center\",\"x\":[0.0,5.389456748962402],\"y\":[0.0,-0.7097681164741516],\"type\":\"scatter\",\"xaxis\":\"x8\",\"yaxis\":\"y8\"},{\"mode\":\"lines+markers+text\",\"name\":\"2\",\"text\":[null,\"2\"],\"textposition\":\"top center\",\"x\":[0.0,-0.1555926352739334],\"y\":[0.0,3.908952236175537],\"type\":\"scatter\",\"xaxis\":\"x8\",\"yaxis\":\"y8\"},{\"mode\":\"lines+markers+text\",\"name\":\"3\",\"text\":[null,\"3\"],\"textposition\":\"top center\",\"x\":[0.0,4.766519069671631],\"y\":[0.0,-7.602664947509766],\"type\":\"scatter\",\"xaxis\":\"x8\",\"yaxis\":\"y8\"},{\"mode\":\"lines+markers+text\",\"name\":\"4\",\"text\":[null,\"4\"],\"textposition\":\"top center\",\"x\":[0.0,-5.754627704620361],\"y\":[0.0,1.5291435718536377],\"type\":\"scatter\",\"xaxis\":\"x8\",\"yaxis\":\"y8\"}],                        {\"template\":{\"data\":{\"histogram2dcontour\":[{\"type\":\"histogram2dcontour\",\"colorbar\":{\"outlinewidth\":0,\"ticks\":\"\"},\"colorscale\":[[0.0,\"#0d0887\"],[0.1111111111111111,\"#46039f\"],[0.2222222222222222,\"#7201a8\"],[0.3333333333333333,\"#9c179e\"],[0.4444444444444444,\"#bd3786\"],[0.5555555555555556,\"#d8576b\"],[0.6666666666666666,\"#ed7953\"],[0.7777777777777778,\"#fb9f3a\"],[0.8888888888888888,\"#fdca26\"],[1.0,\"#f0f921\"]]}],\"choropleth\":[{\"type\":\"choropleth\",\"colorbar\":{\"outlinewidth\":0,\"ticks\":\"\"}}],\"histogram2d\":[{\"type\":\"histogram2d\",\"colorbar\":{\"outlinewidth\":0,\"ticks\":\"\"},\"colorscale\":[[0.0,\"#0d0887\"],[0.1111111111111111,\"#46039f\"],[0.2222222222222222,\"#7201a8\"],[0.3333333333333333,\"#9c179e\"],[0.4444444444444444,\"#bd3786\"],[0.5555555555555556,\"#d8576b\"],[0.6666666666666666,\"#ed7953\"],[0.7777777777777778,\"#fb9f3a\"],[0.8888888888888888,\"#fdca26\"],[1.0,\"#f0f921\"]]}],\"heatmap\":[{\"type\":\"heatmap\",\"colorbar\":{\"outlinewidth\":0,\"ticks\":\"\"},\"colorscale\":[[0.0,\"#0d0887\"],[0.1111111111111111,\"#46039f\"],[0.2222222222222222,\"#7201a8\"],[0.3333333333333333,\"#9c179e\"],[0.4444444444444444,\"#bd3786\"],[0.5555555555555556,\"#d8576b\"],[0.6666666666666666,\"#ed7953\"],[0.7777777777777778,\"#fb9f3a\"],[0.8888888888888888,\"#fdca26\"],[1.0,\"#f0f921\"]]}],\"heatmapgl\":[{\"type\":\"heatmapgl\",\"colorbar\":{\"outlinewidth\":0,\"ticks\":\"\"},\"colorscale\":[[0.0,\"#0d0887\"],[0.1111111111111111,\"#46039f\"],[0.2222222222222222,\"#7201a8\"],[0.3333333333333333,\"#9c179e\"],[0.4444444444444444,\"#bd3786\"],[0.5555555555555556,\"#d8576b\"],[0.6666666666666666,\"#ed7953\"],[0.7777777777777778,\"#fb9f3a\"],[0.8888888888888888,\"#fdca26\"],[1.0,\"#f0f921\"]]}],\"contourcarpet\":[{\"type\":\"contourcarpet\",\"colorbar\":{\"outlinewidth\":0,\"ticks\":\"\"}}],\"contour\":[{\"type\":\"contour\",\"colorbar\":{\"outlinewidth\":0,\"ticks\":\"\"},\"colorscale\":[[0.0,\"#0d0887\"],[0.1111111111111111,\"#46039f\"],[0.2222222222222222,\"#7201a8\"],[0.3333333333333333,\"#9c179e\"],[0.4444444444444444,\"#bd3786\"],[0.5555555555555556,\"#d8576b\"],[0.6666666666666666,\"#ed7953\"],[0.7777777777777778,\"#fb9f3a\"],[0.8888888888888888,\"#fdca26\"],[1.0,\"#f0f921\"]]}],\"surface\":[{\"type\":\"surface\",\"colorbar\":{\"outlinewidth\":0,\"ticks\":\"\"},\"colorscale\":[[0.0,\"#0d0887\"],[0.1111111111111111,\"#46039f\"],[0.2222222222222222,\"#7201a8\"],[0.3333333333333333,\"#9c179e\"],[0.4444444444444444,\"#bd3786\"],[0.5555555555555556,\"#d8576b\"],[0.6666666666666666,\"#ed7953\"],[0.7777777777777778,\"#fb9f3a\"],[0.8888888888888888,\"#fdca26\"],[1.0,\"#f0f921\"]]}],\"mesh3d\":[{\"type\":\"mesh3d\",\"colorbar\":{\"outlinewidth\":0,\"ticks\":\"\"}}],\"scatter\":[{\"fillpattern\":{\"fillmode\":\"overlay\",\"size\":10,\"solidity\":0.2},\"type\":\"scatter\"}],\"parcoords\":[{\"type\":\"parcoords\",\"line\":{\"colorbar\":{\"outlinewidth\":0,\"ticks\":\"\"}}}],\"scatterpolargl\":[{\"type\":\"scatterpolargl\",\"marker\":{\"colorbar\":{\"outlinewidth\":0,\"ticks\":\"\"}}}],\"bar\":[{\"error_x\":{\"color\":\"#2a3f5f\"},\"error_y\":{\"color\":\"#2a3f5f\"},\"marker\":{\"line\":{\"color\":\"#E5ECF6\",\"width\":0.5},\"pattern\":{\"fillmode\":\"overlay\",\"size\":10,\"solidity\":0.2}},\"type\":\"bar\"}],\"scattergeo\":[{\"type\":\"scattergeo\",\"marker\":{\"colorbar\":{\"outlinewidth\":0,\"ticks\":\"\"}}}],\"scatterpolar\":[{\"type\":\"scatterpolar\",\"marker\":{\"colorbar\":{\"outlinewidth\":0,\"ticks\":\"\"}}}],\"histogram\":[{\"marker\":{\"pattern\":{\"fillmode\":\"overlay\",\"size\":10,\"solidity\":0.2}},\"type\":\"histogram\"}],\"scattergl\":[{\"type\":\"scattergl\",\"marker\":{\"colorbar\":{\"outlinewidth\":0,\"ticks\":\"\"}}}],\"scatter3d\":[{\"type\":\"scatter3d\",\"line\":{\"colorbar\":{\"outlinewidth\":0,\"ticks\":\"\"}},\"marker\":{\"colorbar\":{\"outlinewidth\":0,\"ticks\":\"\"}}}],\"scattermapbox\":[{\"type\":\"scattermapbox\",\"marker\":{\"colorbar\":{\"outlinewidth\":0,\"ticks\":\"\"}}}],\"scatterternary\":[{\"type\":\"scatterternary\",\"marker\":{\"colorbar\":{\"outlinewidth\":0,\"ticks\":\"\"}}}],\"scattercarpet\":[{\"type\":\"scattercarpet\",\"marker\":{\"colorbar\":{\"outlinewidth\":0,\"ticks\":\"\"}}}],\"carpet\":[{\"aaxis\":{\"endlinecolor\":\"#2a3f5f\",\"gridcolor\":\"white\",\"linecolor\":\"white\",\"minorgridcolor\":\"white\",\"startlinecolor\":\"#2a3f5f\"},\"baxis\":{\"endlinecolor\":\"#2a3f5f\",\"gridcolor\":\"white\",\"linecolor\":\"white\",\"minorgridcolor\":\"white\",\"startlinecolor\":\"#2a3f5f\"},\"type\":\"carpet\"}],\"table\":[{\"cells\":{\"fill\":{\"color\":\"#EBF0F8\"},\"line\":{\"color\":\"white\"}},\"header\":{\"fill\":{\"color\":\"#C8D4E3\"},\"line\":{\"color\":\"white\"}},\"type\":\"table\"}],\"barpolar\":[{\"marker\":{\"line\":{\"color\":\"#E5ECF6\",\"width\":0.5},\"pattern\":{\"fillmode\":\"overlay\",\"size\":10,\"solidity\":0.2}},\"type\":\"barpolar\"}],\"pie\":[{\"automargin\":true,\"type\":\"pie\"}]},\"layout\":{\"autotypenumbers\":\"strict\",\"colorway\":[\"#636efa\",\"#EF553B\",\"#00cc96\",\"#ab63fa\",\"#FFA15A\",\"#19d3f3\",\"#FF6692\",\"#B6E880\",\"#FF97FF\",\"#FECB52\"],\"font\":{\"color\":\"#2a3f5f\"},\"hovermode\":\"closest\",\"hoverlabel\":{\"align\":\"left\"},\"paper_bgcolor\":\"white\",\"plot_bgcolor\":\"#E5ECF6\",\"polar\":{\"bgcolor\":\"#E5ECF6\",\"angularaxis\":{\"gridcolor\":\"white\",\"linecolor\":\"white\",\"ticks\":\"\"},\"radialaxis\":{\"gridcolor\":\"white\",\"linecolor\":\"white\",\"ticks\":\"\"}},\"ternary\":{\"bgcolor\":\"#E5ECF6\",\"aaxis\":{\"gridcolor\":\"white\",\"linecolor\":\"white\",\"ticks\":\"\"},\"baxis\":{\"gridcolor\":\"white\",\"linecolor\":\"white\",\"ticks\":\"\"},\"caxis\":{\"gridcolor\":\"white\",\"linecolor\":\"white\",\"ticks\":\"\"}},\"coloraxis\":{\"colorbar\":{\"outlinewidth\":0,\"ticks\":\"\"}},\"colorscale\":{\"sequential\":[[0.0,\"#0d0887\"],[0.1111111111111111,\"#46039f\"],[0.2222222222222222,\"#7201a8\"],[0.3333333333333333,\"#9c179e\"],[0.4444444444444444,\"#bd3786\"],[0.5555555555555556,\"#d8576b\"],[0.6666666666666666,\"#ed7953\"],[0.7777777777777778,\"#fb9f3a\"],[0.8888888888888888,\"#fdca26\"],[1.0,\"#f0f921\"]],\"sequentialminus\":[[0.0,\"#0d0887\"],[0.1111111111111111,\"#46039f\"],[0.2222222222222222,\"#7201a8\"],[0.3333333333333333,\"#9c179e\"],[0.4444444444444444,\"#bd3786\"],[0.5555555555555556,\"#d8576b\"],[0.6666666666666666,\"#ed7953\"],[0.7777777777777778,\"#fb9f3a\"],[0.8888888888888888,\"#fdca26\"],[1.0,\"#f0f921\"]],\"diverging\":[[0,\"#8e0152\"],[0.1,\"#c51b7d\"],[0.2,\"#de77ae\"],[0.3,\"#f1b6da\"],[0.4,\"#fde0ef\"],[0.5,\"#f7f7f7\"],[0.6,\"#e6f5d0\"],[0.7,\"#b8e186\"],[0.8,\"#7fbc41\"],[0.9,\"#4d9221\"],[1,\"#276419\"]]},\"xaxis\":{\"gridcolor\":\"white\",\"linecolor\":\"white\",\"ticks\":\"\",\"title\":{\"standoff\":15},\"zerolinecolor\":\"white\",\"automargin\":true,\"zerolinewidth\":2},\"yaxis\":{\"gridcolor\":\"white\",\"linecolor\":\"white\",\"ticks\":\"\",\"title\":{\"standoff\":15},\"zerolinecolor\":\"white\",\"automargin\":true,\"zerolinewidth\":2},\"scene\":{\"xaxis\":{\"backgroundcolor\":\"#E5ECF6\",\"gridcolor\":\"white\",\"linecolor\":\"white\",\"showbackground\":true,\"ticks\":\"\",\"zerolinecolor\":\"white\",\"gridwidth\":2},\"yaxis\":{\"backgroundcolor\":\"#E5ECF6\",\"gridcolor\":\"white\",\"linecolor\":\"white\",\"showbackground\":true,\"ticks\":\"\",\"zerolinecolor\":\"white\",\"gridwidth\":2},\"zaxis\":{\"backgroundcolor\":\"#E5ECF6\",\"gridcolor\":\"white\",\"linecolor\":\"white\",\"showbackground\":true,\"ticks\":\"\",\"zerolinecolor\":\"white\",\"gridwidth\":2}},\"shapedefaults\":{\"line\":{\"color\":\"#2a3f5f\"}},\"annotationdefaults\":{\"arrowcolor\":\"#2a3f5f\",\"arrowhead\":0,\"arrowwidth\":1},\"geo\":{\"bgcolor\":\"white\",\"landcolor\":\"#E5ECF6\",\"subunitcolor\":\"white\",\"showland\":true,\"showlakes\":true,\"lakecolor\":\"white\"},\"title\":{\"x\":0.05},\"mapbox\":{\"style\":\"light\"}}},\"xaxis\":{\"anchor\":\"y\",\"domain\":[0.0,0.1388888888888889],\"title\":{\"text\":\"heads output\"},\"range\":[-10,10]},\"yaxis\":{\"anchor\":\"x\",\"domain\":[0.625,1.0],\"title\":{\"text\":\"\"},\"range\":[-10,10]},\"xaxis2\":{\"anchor\":\"y2\",\"domain\":[0.17222222222222222,0.3111111111111111],\"title\":{\"text\":\"heads output\"},\"range\":[-10,10]},\"yaxis2\":{\"anchor\":\"x2\",\"domain\":[0.625,1.0],\"title\":{\"text\":\"\"},\"range\":[-10,10]},\"xaxis3\":{\"anchor\":\"y3\",\"domain\":[0.34444444444444444,0.48333333333333334],\"title\":{\"text\":\"heads output\"},\"range\":[-10,10]},\"yaxis3\":{\"anchor\":\"x3\",\"domain\":[0.625,1.0],\"title\":{\"text\":\"\"},\"range\":[-10,10]},\"xaxis4\":{\"anchor\":\"y4\",\"domain\":[0.5166666666666667,0.6555555555555557],\"title\":{\"text\":\"heads output\"},\"range\":[-10,10]},\"yaxis4\":{\"anchor\":\"x4\",\"domain\":[0.625,1.0],\"title\":{\"text\":\"\"},\"range\":[-10,10]},\"xaxis5\":{\"anchor\":\"y5\",\"domain\":[0.6888888888888889,0.8277777777777777],\"title\":{\"text\":\"heads output\"},\"range\":[-10,10]},\"yaxis5\":{\"anchor\":\"x5\",\"domain\":[0.625,1.0],\"title\":{\"text\":\"\"},\"range\":[-10,10]},\"xaxis6\":{\"anchor\":\"y6\",\"domain\":[0.861111111111111,1.0],\"title\":{\"text\":\"heads output\"},\"range\":[-10,10]},\"yaxis6\":{\"anchor\":\"x6\",\"domain\":[0.625,1.0],\"title\":{\"text\":\"\"},\"range\":[-10,10]},\"xaxis7\":{\"anchor\":\"y7\",\"domain\":[0.0,0.1388888888888889],\"title\":{\"text\":\"unembeddings\"},\"range\":[-5,5]},\"yaxis7\":{\"anchor\":\"x7\",\"domain\":[0.0,0.375],\"title\":{\"text\":\"\"},\"range\":[-5,5]},\"xaxis8\":{\"anchor\":\"y8\",\"domain\":[0.17222222222222222,0.3111111111111111],\"title\":{\"text\":\"output\"},\"range\":[-10,10]},\"yaxis8\":{\"anchor\":\"x8\",\"domain\":[0.0,0.375],\"title\":{\"text\":\"\"},\"range\":[-10,10]},\"xaxis9\":{\"anchor\":\"y9\",\"domain\":[0.34444444444444444,0.48333333333333334]},\"yaxis9\":{\"anchor\":\"x9\",\"domain\":[0.0,0.375]},\"xaxis10\":{\"anchor\":\"y10\",\"domain\":[0.5166666666666667,0.6555555555555557]},\"yaxis10\":{\"anchor\":\"x10\",\"domain\":[0.0,0.375]},\"xaxis11\":{\"anchor\":\"y11\",\"domain\":[0.6888888888888889,0.8277777777777777]},\"yaxis11\":{\"anchor\":\"x11\",\"domain\":[0.0,0.375]},\"xaxis12\":{\"anchor\":\"y12\",\"domain\":[0.861111111111111,1.0]},\"yaxis12\":{\"anchor\":\"x12\",\"domain\":[0.0,0.375]},\"annotations\":[{\"font\":{\"size\":16},\"showarrow\":false,\"text\":\"head 1\",\"x\":0.06944444444444445,\"xanchor\":\"center\",\"xref\":\"paper\",\"y\":1.0,\"yanchor\":\"bottom\",\"yref\":\"paper\"},{\"font\":{\"size\":16},\"showarrow\":false,\"text\":\"head 2\",\"x\":0.24166666666666667,\"xanchor\":\"center\",\"xref\":\"paper\",\"y\":1.0,\"yanchor\":\"bottom\",\"yref\":\"paper\"},{\"font\":{\"size\":16},\"showarrow\":false,\"text\":\"head 3\",\"x\":0.41388888888888886,\"xanchor\":\"center\",\"xref\":\"paper\",\"y\":1.0,\"yanchor\":\"bottom\",\"yref\":\"paper\"},{\"font\":{\"size\":16},\"showarrow\":false,\"text\":\"head 4\",\"x\":0.5861111111111112,\"xanchor\":\"center\",\"xref\":\"paper\",\"y\":1.0,\"yanchor\":\"bottom\",\"yref\":\"paper\"},{\"font\":{\"size\":16},\"showarrow\":false,\"text\":\"head 5\",\"x\":0.7583333333333333,\"xanchor\":\"center\",\"xref\":\"paper\",\"y\":1.0,\"yanchor\":\"bottom\",\"yref\":\"paper\"},{\"font\":{\"size\":16},\"showarrow\":false,\"text\":\"head 6\",\"x\":0.9305555555555556,\"xanchor\":\"center\",\"xref\":\"paper\",\"y\":1.0,\"yanchor\":\"bottom\",\"yref\":\"paper\"}],\"title\":{\"text\":\"\"},\"width\":1800,\"height\":600,\"showlegend\":false},                        {\"responsive\": true}                    ).then(function(){\n",
       "                            \n",
       "var gd = document.getElementById('227be1ba-33f1-416c-ad93-849c9660d48c');\n",
       "var x = new MutationObserver(function (mutations, observer) {{\n",
       "        var display = window.getComputedStyle(gd).display;\n",
       "        if (!display || display === 'none') {{\n",
       "            console.log([gd, 'removed!']);\n",
       "            Plotly.purge(gd);\n",
       "            observer.disconnect();\n",
       "        }}\n",
       "}});\n",
       "\n",
       "// Listen for the removal of the full notebook cells\n",
       "var notebookContainer = gd.closest('#notebook-container');\n",
       "if (notebookContainer) {{\n",
       "    x.observe(notebookContainer, {childList: true});\n",
       "}}\n",
       "\n",
       "// Listen for the clearing of the current output cell\n",
       "var outputEl = gd.closest('.output');\n",
       "if (outputEl) {{\n",
       "    x.observe(outputEl, {childList: true});\n",
       "}}\n",
       "\n",
       "                        })                };                });            </script>        </div>"
      ]
     },
     "metadata": {},
     "output_type": "display_data"
    }
   ],
   "source": [
    "import torch\n",
    "import plotly.graph_objects as go\n",
    "from plotly.subplots import make_subplots\n",
    "\n",
    "vector_out_heads = [out_heads[:, i] for i in range(out_heads.size(1))]\n",
    "vector_unembeds = [unembeds[i] for i in range(unembeds.size(0))]\n",
    "vector_out = [out[i] for i in range(out.size(0))]\n",
    "\n",
    "names_out_heads = [\n",
    "    [f'{i}' for i in range(out_heads[:, j].size(0))] for j in range(out_heads.size(1))\n",
    "]\n",
    "names_unembeds = [\n",
    "    [f'{i}' for i in range(unembeds[j].size(0))] for j in range(unembeds.size(0))\n",
    "]\n",
    "names_out = [\n",
    "    [f'{i}' for i in range(out[j].size(0))] for j in range(out.size(0))\n",
    "]\n",
    "\n",
    "fig = make_subplots(rows=2, cols=len(vector_out_heads), subplot_titles=[f'head {i+1}' for i in range(len(vector_out_heads))])\n",
    "\n",
    "for idx, (vectors, names) in enumerate(zip(vector_out_heads, names_out_heads)):\n",
    "    x_start = torch.zeros(vectors.size(0))\n",
    "    y_start = torch.zeros(vectors.size(0))\n",
    "\n",
    "    x_end = vectors[:, 0]\n",
    "    y_end = vectors[:, 1]\n",
    "\n",
    "    for i in range(vectors.size(0)):\n",
    "        fig.add_trace(go.Scatter(\n",
    "            x=[x_start[i].item(), x_end[i].item()],\n",
    "            y=[y_start[i].item(), y_end[i].item()],\n",
    "            mode='lines+markers+text',\n",
    "            text=[None, names[i]],  # 在终点添加文本\n",
    "            textposition='top center',  # 文本位置\n",
    "            name=names[i],\n",
    "        ), row=1, col=idx+1)\n",
    "\n",
    "for idx, (vectors, names) in enumerate(zip(vector_unembeds, names_unembeds)):\n",
    "    x_start = torch.zeros(vectors.size(0))\n",
    "    y_start = torch.zeros(vectors.size(0))\n",
    "\n",
    "    x_end = vectors[:, 0]\n",
    "    y_end = vectors[:, 1]\n",
    "\n",
    "    for i in range(vectors.size(0)):\n",
    "        fig.add_trace(go.Scatter(\n",
    "            x=[x_start[i].item(), x_end[i].item()],\n",
    "            y=[y_start[i].item(), y_end[i].item()],\n",
    "            mode='lines+markers+text',\n",
    "            text=[None, names[i]],  # 在终点添加文本\n",
    "            textposition='top center',  # 文本位置\n",
    "            name=names[i],\n",
    "        ), row=2, col=idx+1)\n",
    "        \n",
    "for idx, (vectors, names) in enumerate(zip(vector_out, names_out)):\n",
    "    x_start = torch.zeros(vectors.size(0))\n",
    "    y_start = torch.zeros(vectors.size(0))\n",
    "\n",
    "    x_end = vectors[:, 0]\n",
    "    y_end = vectors[:, 1]\n",
    "\n",
    "    for i in range(vectors.size(0)):\n",
    "        fig.add_trace(go.Scatter(\n",
    "            x=[x_start[i].item(), x_end[i].item()],\n",
    "            y=[y_start[i].item(), y_end[i].item()],\n",
    "            mode='lines+markers+text',\n",
    "            text=[None, names[i]],  # 在终点添加文本\n",
    "            textposition='top center',  # 文本位置\n",
    "            name=names[i],\n",
    "        ), row=2, col=idx+2)\n",
    "        \n",
    "fig.update_layout(\n",
    "    title='',\n",
    "    width=300 * len(vector_out_heads),\n",
    "    height=300 * 2,\n",
    "    showlegend=False\n",
    ")\n",
    "\n",
    "for idx in range(len(vector_out_heads)):\n",
    "    fig.update_xaxes(range=[-10, 10], row=1, col=idx+1, title_text='heads output')\n",
    "    fig.update_yaxes(range=[-10, 10], row=1, col=idx+1, title_text='')\n",
    "\n",
    "for idx in range(1):\n",
    "    fig.update_xaxes(range=[-5, 5], row=2, col=idx+1, title_text='unembeddings')\n",
    "    fig.update_yaxes(range=[-5, 5], row=2, col=idx+1, title_text='')\n",
    "    fig.update_xaxes(range=[-10, 10], row=2, col=idx+2, title_text='output')\n",
    "    fig.update_yaxes(range=[-10, 10], row=2, col=idx+2, title_text='')\n",
    "\n",
    "# 显示图形\n",
    "fig.show()\n"
   ]
  },
  {
   "cell_type": "code",
   "execution_count": 177,
   "metadata": {},
   "outputs": [],
   "source": [
    "import importlib\n",
    "import src.model.toy_model\n",
    "\n",
    "importlib.reload(src.model.toy_model)\n",
    "\n",
    "from src.model.toy_model import toy_attn, toy_attn_model, toy_sparse_attn"
   ]
  },
  {
   "cell_type": "code",
   "execution_count": 187,
   "metadata": {},
   "outputs": [],
   "source": [
    "sparse_d_model = 2\n",
    "sparse_d_head = 1\n",
    "sparse_n_heads = 6\n",
    "sparse_model_2 = toy_sparse_attn(d_model = sparse_d_model, d_head = sparse_d_head, n_heads = sparse_n_heads, use_l1_loss=False, use_topk=True, top_k = 1).to(device)"
   ]
  },
  {
   "cell_type": "code",
   "execution_count": 189,
   "metadata": {},
   "outputs": [
    {
     "data": {
      "application/vnd.jupyter.widget-view+json": {
       "model_id": "90ca5c3bb67e4e4bac21fc4b1b70ee83",
       "version_major": 2,
       "version_minor": 0
      },
      "text/plain": [
       "Training:   0%|                                                                                               …"
      ]
     },
     "metadata": {},
     "output_type": "display_data"
    }
   ],
   "source": [
    "from tqdm.notebook import tqdm\n",
    "\n",
    "batch_size = 2\n",
    "num_batches = 2 ** 10\n",
    "lr = 1e-2\n",
    "optimizer = optim.SGD(sparse_model_2.parameters(), lr=lr)\n",
    "\n",
    "pbar = tqdm(range(num_batches), desc='Training', unit='batch', dynamic_ncols=True)\n",
    "\n",
    "for i in pbar:\n",
    "    batch, y = generate_train_data(num_embeddings=num_embeddings, num_unembeddings=num_unembeddings, batch_size=batch_size)\n",
    "    batch, y = batch.to(device), y.to(device)\n",
    "    \n",
    "    with torch.no_grad():\n",
    "        resid = model.input_to_embed(batch)\n",
    "        out, _, _ = model.attn(resid)\n",
    "    \n",
    "    _, _, _, _, top_k_out, _ = sparse_model_2(resid)\n",
    "    \n",
    "    mse_loss = F.mse_loss(out[:, -1], top_k_out[:, -1])\n",
    "    loss = mse_loss\n",
    "    \n",
    "    optimizer.zero_grad()\n",
    "    loss.backward()\n",
    "    optimizer.step()\n",
    "    \n",
    "    with torch.no_grad():\n",
    "        test_batch, test_y = generate_test_data(num_embeddings=num_embeddings, num_unembeddings=num_unembeddings)\n",
    "        test_batch, test_y = test_batch.to(device), test_y.to(device)\n",
    "        \n",
    "        resid = model.input_to_embed(test_batch)\n",
    "        _, _, _, _, top_k_out, _ = sparse_model_2(resid)\n",
    "        \n",
    "        test_logits = model.unembed(top_k_out[:, -1])\n",
    "        \n",
    "        test_p = test_logits.softmax(dim=-1)\n",
    "        \n",
    "        test_preds = torch.argmax(test_p, dim=1)\n",
    "        correct = (test_preds == test_y).sum().item()\n",
    "        total = test_y.size(0)\n",
    "        accuracy = correct / total\n",
    "    \n",
    "        pbar.set_postfix({'mse_loss': mse_loss.item(), 'accuracy': f'{accuracy:.4f}'})"
   ]
  },
  {
   "cell_type": "code",
   "execution_count": 197,
   "metadata": {},
   "outputs": [
    {
     "name": "stdout",
     "output_type": "stream",
     "text": [
      "torch.Size([1, 5, 2]) torch.Size([5, 6, 2]) torch.Size([1, 5, 2])\n",
      "torch.Size([5, 6, 2, 2])\n"
     ]
    }
   ],
   "source": [
    "with torch.no_grad():\n",
    "    batch, y = generate_test_data(num_embeddings=num_embeddings, num_unembeddings=num_unembeddings)\n",
    "    batch, y = batch.to(device), y.to(device)\n",
    "    resid = model.input_to_embed(batch)\n",
    "    _, out_heads, top_k_indices, top_k_out_heads, top_k_out, pattern = sparse_model_2(resid)\n",
    "    out, out_heads, pattern = top_k_out[:, -1].unsqueeze(dim=0), out_heads[:, -1], pattern\n",
    "    unembeds = model.unembed.weight.unsqueeze(0)\n",
    "\n",
    "print(out.shape, out_heads.shape, unembeds.shape)\n",
    "print(pattern.shape)"
   ]
  },
  {
   "cell_type": "code",
   "execution_count": 191,
   "metadata": {},
   "outputs": [
    {
     "data": {
      "application/vnd.plotly.v1+json": {
       "config": {
        "plotlyServerURL": "https://plot.ly"
       },
       "data": [
        {
         "mode": "lines+markers+text",
         "name": "0",
         "text": [
          null,
          "0"
         ],
         "textposition": "top center",
         "type": "scatter",
         "x": [
          0,
          0.13711443543434143
         ],
         "xaxis": "x",
         "y": [
          0,
          -0.3445409834384918
         ],
         "yaxis": "y"
        },
        {
         "mode": "lines+markers+text",
         "name": "1",
         "text": [
          null,
          "1"
         ],
         "textposition": "top center",
         "type": "scatter",
         "x": [
          0,
          -0.2287285178899765
         ],
         "xaxis": "x",
         "y": [
          0,
          0.574748694896698
         ],
         "yaxis": "y"
        },
        {
         "mode": "lines+markers+text",
         "name": "2",
         "text": [
          null,
          "2"
         ],
         "textposition": "top center",
         "type": "scatter",
         "x": [
          0,
          -0.12069882452487946
         ],
         "xaxis": "x",
         "y": [
          0,
          0.30329182744026184
         ],
         "yaxis": "y"
        },
        {
         "mode": "lines+markers+text",
         "name": "3",
         "text": [
          null,
          "3"
         ],
         "textposition": "top center",
         "type": "scatter",
         "x": [
          0,
          0.016603974625468254
         ],
         "xaxis": "x",
         "y": [
          0,
          -0.04172244668006897
         ],
         "yaxis": "y"
        },
        {
         "mode": "lines+markers+text",
         "name": "4",
         "text": [
          null,
          "4"
         ],
         "textposition": "top center",
         "type": "scatter",
         "x": [
          0,
          0.14783988893032074
         ],
         "xaxis": "x",
         "y": [
          0,
          -0.3714918792247772
         ],
         "yaxis": "y"
        },
        {
         "mode": "lines+markers+text",
         "name": "0",
         "text": [
          null,
          "0"
         ],
         "textposition": "top center",
         "type": "scatter",
         "x": [
          0,
          0.03388594835996628
         ],
         "xaxis": "x2",
         "y": [
          0,
          -0.07360416650772095
         ],
         "yaxis": "y2"
        },
        {
         "mode": "lines+markers+text",
         "name": "1",
         "text": [
          null,
          "1"
         ],
         "textposition": "top center",
         "type": "scatter",
         "x": [
          0,
          -0.018430102616548538
         ],
         "xaxis": "x2",
         "y": [
          0,
          0.04003230109810829
         ],
         "yaxis": "y2"
        },
        {
         "mode": "lines+markers+text",
         "name": "2",
         "text": [
          null,
          "2"
         ],
         "textposition": "top center",
         "type": "scatter",
         "x": [
          0,
          0.026890182867646217
         ],
         "xaxis": "x2",
         "y": [
          0,
          -0.05840856209397316
         ],
         "yaxis": "y2"
        },
        {
         "mode": "lines+markers+text",
         "name": "3",
         "text": [
          null,
          "3"
         ],
         "textposition": "top center",
         "type": "scatter",
         "x": [
          0,
          -0.006181421224027872
         ],
         "xaxis": "x2",
         "y": [
          0,
          0.013426756486296654
         ],
         "yaxis": "y2"
        },
        {
         "mode": "lines+markers+text",
         "name": "4",
         "text": [
          null,
          "4"
         ],
         "textposition": "top center",
         "type": "scatter",
         "x": [
          0,
          0.03445737436413765
         ],
         "xaxis": "x2",
         "y": [
          0,
          -0.07484537363052368
         ],
         "yaxis": "y2"
        },
        {
         "mode": "lines+markers+text",
         "name": "0",
         "text": [
          null,
          "0"
         ],
         "textposition": "top center",
         "type": "scatter",
         "x": [
          0,
          0.9524136781692505
         ],
         "xaxis": "x3",
         "y": [
          0,
          -0.7261844277381897
         ],
         "yaxis": "y3"
        },
        {
         "mode": "lines+markers+text",
         "name": "1",
         "text": [
          null,
          "1"
         ],
         "textposition": "top center",
         "type": "scatter",
         "x": [
          0,
          5.034361839294434
         ],
         "xaxis": "x3",
         "y": [
          0,
          -3.8385372161865234
         ],
         "yaxis": "y3"
        },
        {
         "mode": "lines+markers+text",
         "name": "2",
         "text": [
          null,
          "2"
         ],
         "textposition": "top center",
         "type": "scatter",
         "x": [
          0,
          -2.6440038681030273
         ],
         "xaxis": "x3",
         "y": [
          0,
          2.0159668922424316
         ],
         "yaxis": "y3"
        },
        {
         "mode": "lines+markers+text",
         "name": "3",
         "text": [
          null,
          "3"
         ],
         "textposition": "top center",
         "type": "scatter",
         "x": [
          0,
          8.357791900634766
         ],
         "xaxis": "x3",
         "y": [
          0,
          -6.372543811798096
         ],
         "yaxis": "y3"
        },
        {
         "mode": "lines+markers+text",
         "name": "4",
         "text": [
          null,
          "4"
         ],
         "textposition": "top center",
         "type": "scatter",
         "x": [
          0,
          -5.935119152069092
         ],
         "xaxis": "x3",
         "y": [
          0,
          4.525335311889648
         ],
         "yaxis": "y3"
        },
        {
         "mode": "lines+markers+text",
         "name": "0",
         "text": [
          null,
          "0"
         ],
         "textposition": "top center",
         "type": "scatter",
         "x": [
          0,
          -1.636703610420227
         ],
         "xaxis": "x4",
         "y": [
          0,
          -6.111162185668945
         ],
         "yaxis": "y4"
        },
        {
         "mode": "lines+markers+text",
         "name": "1",
         "text": [
          null,
          "1"
         ],
         "textposition": "top center",
         "type": "scatter",
         "x": [
          0,
          0.2775712311267853
         ],
         "xaxis": "x4",
         "y": [
          0,
          1.0364019870758057
         ],
         "yaxis": "y4"
        },
        {
         "mode": "lines+markers+text",
         "name": "2",
         "text": [
          null,
          "2"
         ],
         "textposition": "top center",
         "type": "scatter",
         "x": [
          0,
          1.437014102935791
         ],
         "xaxis": "x4",
         "y": [
          0,
          5.365556716918945
         ],
         "yaxis": "y4"
        },
        {
         "mode": "lines+markers+text",
         "name": "3",
         "text": [
          null,
          "3"
         ],
         "textposition": "top center",
         "type": "scatter",
         "x": [
          0,
          -2.10994291305542
         ],
         "xaxis": "x4",
         "y": [
          0,
          -7.878154277801514
         ],
         "yaxis": "y4"
        },
        {
         "mode": "lines+markers+text",
         "name": "4",
         "text": [
          null,
          "4"
         ],
         "textposition": "top center",
         "type": "scatter",
         "x": [
          0,
          0.7112360596656799
         ],
         "xaxis": "x4",
         "y": [
          0,
          2.655629873275757
         ],
         "yaxis": "y4"
        },
        {
         "mode": "lines+markers+text",
         "name": "0",
         "text": [
          null,
          "0"
         ],
         "textposition": "top center",
         "type": "scatter",
         "x": [
          0,
          -0.3446033000946045
         ],
         "xaxis": "x5",
         "y": [
          0,
          -0.7965759634971619
         ],
         "yaxis": "y5"
        },
        {
         "mode": "lines+markers+text",
         "name": "1",
         "text": [
          null,
          "1"
         ],
         "textposition": "top center",
         "type": "scatter",
         "x": [
          0,
          -1.0468159914016724
         ],
         "xaxis": "x5",
         "y": [
          0,
          -2.419792413711548
         ],
         "yaxis": "y5"
        },
        {
         "mode": "lines+markers+text",
         "name": "2",
         "text": [
          null,
          "2"
         ],
         "textposition": "top center",
         "type": "scatter",
         "x": [
          0,
          -0.8354309797286987
         ],
         "xaxis": "x5",
         "y": [
          0,
          -1.9311604499816895
         ],
         "yaxis": "y5"
        },
        {
         "mode": "lines+markers+text",
         "name": "3",
         "text": [
          null,
          "3"
         ],
         "textposition": "top center",
         "type": "scatter",
         "x": [
          0,
          -1.0785616636276245
         ],
         "xaxis": "x5",
         "y": [
          0,
          -2.4931750297546387
         ],
         "yaxis": "y5"
        },
        {
         "mode": "lines+markers+text",
         "name": "4",
         "text": [
          null,
          "4"
         ],
         "textposition": "top center",
         "type": "scatter",
         "x": [
          0,
          0.0002223216142738238
         ],
         "xaxis": "x5",
         "y": [
          0,
          0.0005139128188602626
         ],
         "yaxis": "y5"
        },
        {
         "mode": "lines+markers+text",
         "name": "0",
         "text": [
          null,
          "0"
         ],
         "textposition": "top center",
         "type": "scatter",
         "x": [
          0,
          -0.20757298171520233
         ],
         "xaxis": "x6",
         "y": [
          0,
          -0.06884325295686722
         ],
         "yaxis": "y6"
        },
        {
         "mode": "lines+markers+text",
         "name": "1",
         "text": [
          null,
          "1"
         ],
         "textposition": "top center",
         "type": "scatter",
         "x": [
          0,
          0.011541670188307762
         ],
         "xaxis": "x6",
         "y": [
          0,
          0.0038278880529105663
         ],
         "yaxis": "y6"
        },
        {
         "mode": "lines+markers+text",
         "name": "2",
         "text": [
          null,
          "2"
         ],
         "textposition": "top center",
         "type": "scatter",
         "x": [
          0,
          0.0027742343954741955
         ],
         "xaxis": "x6",
         "y": [
          0,
          0.0009200972272083163
         ],
         "yaxis": "y6"
        },
        {
         "mode": "lines+markers+text",
         "name": "3",
         "text": [
          null,
          "3"
         ],
         "textposition": "top center",
         "type": "scatter",
         "x": [
          0,
          -0.1435728222131729
         ],
         "xaxis": "x6",
         "y": [
          0,
          -0.04761708155274391
         ],
         "yaxis": "y6"
        },
        {
         "mode": "lines+markers+text",
         "name": "4",
         "text": [
          null,
          "4"
         ],
         "textposition": "top center",
         "type": "scatter",
         "x": [
          0,
          -0.18942750990390778
         ],
         "xaxis": "x6",
         "y": [
          0,
          -0.06282516568899155
         ],
         "yaxis": "y6"
        },
        {
         "mode": "lines+markers+text",
         "name": "0",
         "text": [
          null,
          "0"
         ],
         "textposition": "top center",
         "type": "scatter",
         "x": [
          0,
          -0.7380790710449219
         ],
         "xaxis": "x7",
         "y": [
          0,
          -1.0728460550308228
         ],
         "yaxis": "y7"
        },
        {
         "mode": "lines+markers+text",
         "name": "1",
         "text": [
          null,
          "1"
         ],
         "textposition": "top center",
         "type": "scatter",
         "x": [
          0,
          1.5124541521072388
         ],
         "xaxis": "x7",
         "y": [
          0,
          0.22173123061656952
         ],
         "yaxis": "y7"
        },
        {
         "mode": "lines+markers+text",
         "name": "2",
         "text": [
          null,
          "2"
         ],
         "textposition": "top center",
         "type": "scatter",
         "x": [
          0,
          -0.17499911785125732
         ],
         "xaxis": "x7",
         "y": [
          0,
          1.1923511028289795
         ],
         "yaxis": "y7"
        },
        {
         "mode": "lines+markers+text",
         "name": "3",
         "text": [
          null,
          "3"
         ],
         "textposition": "top center",
         "type": "scatter",
         "x": [
          0,
          0.7014053463935852
         ],
         "xaxis": "x7",
         "y": [
          0,
          -0.8374024629592896
         ],
         "yaxis": "y7"
        },
        {
         "mode": "lines+markers+text",
         "name": "4",
         "text": [
          null,
          "4"
         ],
         "textposition": "top center",
         "type": "scatter",
         "x": [
          0,
          -1.0735126733779907
         ],
         "xaxis": "x7",
         "y": [
          0,
          0.2950870394706726
         ],
         "yaxis": "y7"
        },
        {
         "mode": "lines+markers+text",
         "name": "0",
         "text": [
          null,
          "0"
         ],
         "textposition": "top center",
         "type": "scatter",
         "x": [
          0,
          -1.636703610420227
         ],
         "xaxis": "x8",
         "y": [
          0,
          -6.111162185668945
         ],
         "yaxis": "y8"
        },
        {
         "mode": "lines+markers+text",
         "name": "1",
         "text": [
          null,
          "1"
         ],
         "textposition": "top center",
         "type": "scatter",
         "x": [
          0,
          5.034361839294434
         ],
         "xaxis": "x8",
         "y": [
          0,
          -3.8385372161865234
         ],
         "yaxis": "y8"
        },
        {
         "mode": "lines+markers+text",
         "name": "2",
         "text": [
          null,
          "2"
         ],
         "textposition": "top center",
         "type": "scatter",
         "x": [
          0,
          1.437014102935791
         ],
         "xaxis": "x8",
         "y": [
          0,
          5.365556716918945
         ],
         "yaxis": "y8"
        },
        {
         "mode": "lines+markers+text",
         "name": "3",
         "text": [
          null,
          "3"
         ],
         "textposition": "top center",
         "type": "scatter",
         "x": [
          0,
          8.357791900634766
         ],
         "xaxis": "x8",
         "y": [
          0,
          -6.372543811798096
         ],
         "yaxis": "y8"
        },
        {
         "mode": "lines+markers+text",
         "name": "4",
         "text": [
          null,
          "4"
         ],
         "textposition": "top center",
         "type": "scatter",
         "x": [
          0,
          -5.935119152069092
         ],
         "xaxis": "x8",
         "y": [
          0,
          4.525335311889648
         ],
         "yaxis": "y8"
        }
       ],
       "layout": {
        "annotations": [
         {
          "font": {
           "size": 16
          },
          "showarrow": false,
          "text": "head 1",
          "x": 0.06944444444444445,
          "xanchor": "center",
          "xref": "paper",
          "y": 1,
          "yanchor": "bottom",
          "yref": "paper"
         },
         {
          "font": {
           "size": 16
          },
          "showarrow": false,
          "text": "head 2",
          "x": 0.24166666666666667,
          "xanchor": "center",
          "xref": "paper",
          "y": 1,
          "yanchor": "bottom",
          "yref": "paper"
         },
         {
          "font": {
           "size": 16
          },
          "showarrow": false,
          "text": "head 3",
          "x": 0.41388888888888886,
          "xanchor": "center",
          "xref": "paper",
          "y": 1,
          "yanchor": "bottom",
          "yref": "paper"
         },
         {
          "font": {
           "size": 16
          },
          "showarrow": false,
          "text": "head 4",
          "x": 0.5861111111111112,
          "xanchor": "center",
          "xref": "paper",
          "y": 1,
          "yanchor": "bottom",
          "yref": "paper"
         },
         {
          "font": {
           "size": 16
          },
          "showarrow": false,
          "text": "head 5",
          "x": 0.7583333333333333,
          "xanchor": "center",
          "xref": "paper",
          "y": 1,
          "yanchor": "bottom",
          "yref": "paper"
         },
         {
          "font": {
           "size": 16
          },
          "showarrow": false,
          "text": "head 6",
          "x": 0.9305555555555556,
          "xanchor": "center",
          "xref": "paper",
          "y": 1,
          "yanchor": "bottom",
          "yref": "paper"
         }
        ],
        "height": 600,
        "showlegend": false,
        "template": {
         "data": {
          "bar": [
           {
            "error_x": {
             "color": "#2a3f5f"
            },
            "error_y": {
             "color": "#2a3f5f"
            },
            "marker": {
             "line": {
              "color": "#E5ECF6",
              "width": 0.5
             },
             "pattern": {
              "fillmode": "overlay",
              "size": 10,
              "solidity": 0.2
             }
            },
            "type": "bar"
           }
          ],
          "barpolar": [
           {
            "marker": {
             "line": {
              "color": "#E5ECF6",
              "width": 0.5
             },
             "pattern": {
              "fillmode": "overlay",
              "size": 10,
              "solidity": 0.2
             }
            },
            "type": "barpolar"
           }
          ],
          "carpet": [
           {
            "aaxis": {
             "endlinecolor": "#2a3f5f",
             "gridcolor": "white",
             "linecolor": "white",
             "minorgridcolor": "white",
             "startlinecolor": "#2a3f5f"
            },
            "baxis": {
             "endlinecolor": "#2a3f5f",
             "gridcolor": "white",
             "linecolor": "white",
             "minorgridcolor": "white",
             "startlinecolor": "#2a3f5f"
            },
            "type": "carpet"
           }
          ],
          "choropleth": [
           {
            "colorbar": {
             "outlinewidth": 0,
             "ticks": ""
            },
            "type": "choropleth"
           }
          ],
          "contour": [
           {
            "colorbar": {
             "outlinewidth": 0,
             "ticks": ""
            },
            "colorscale": [
             [
              0,
              "#0d0887"
             ],
             [
              0.1111111111111111,
              "#46039f"
             ],
             [
              0.2222222222222222,
              "#7201a8"
             ],
             [
              0.3333333333333333,
              "#9c179e"
             ],
             [
              0.4444444444444444,
              "#bd3786"
             ],
             [
              0.5555555555555556,
              "#d8576b"
             ],
             [
              0.6666666666666666,
              "#ed7953"
             ],
             [
              0.7777777777777778,
              "#fb9f3a"
             ],
             [
              0.8888888888888888,
              "#fdca26"
             ],
             [
              1,
              "#f0f921"
             ]
            ],
            "type": "contour"
           }
          ],
          "contourcarpet": [
           {
            "colorbar": {
             "outlinewidth": 0,
             "ticks": ""
            },
            "type": "contourcarpet"
           }
          ],
          "heatmap": [
           {
            "colorbar": {
             "outlinewidth": 0,
             "ticks": ""
            },
            "colorscale": [
             [
              0,
              "#0d0887"
             ],
             [
              0.1111111111111111,
              "#46039f"
             ],
             [
              0.2222222222222222,
              "#7201a8"
             ],
             [
              0.3333333333333333,
              "#9c179e"
             ],
             [
              0.4444444444444444,
              "#bd3786"
             ],
             [
              0.5555555555555556,
              "#d8576b"
             ],
             [
              0.6666666666666666,
              "#ed7953"
             ],
             [
              0.7777777777777778,
              "#fb9f3a"
             ],
             [
              0.8888888888888888,
              "#fdca26"
             ],
             [
              1,
              "#f0f921"
             ]
            ],
            "type": "heatmap"
           }
          ],
          "heatmapgl": [
           {
            "colorbar": {
             "outlinewidth": 0,
             "ticks": ""
            },
            "colorscale": [
             [
              0,
              "#0d0887"
             ],
             [
              0.1111111111111111,
              "#46039f"
             ],
             [
              0.2222222222222222,
              "#7201a8"
             ],
             [
              0.3333333333333333,
              "#9c179e"
             ],
             [
              0.4444444444444444,
              "#bd3786"
             ],
             [
              0.5555555555555556,
              "#d8576b"
             ],
             [
              0.6666666666666666,
              "#ed7953"
             ],
             [
              0.7777777777777778,
              "#fb9f3a"
             ],
             [
              0.8888888888888888,
              "#fdca26"
             ],
             [
              1,
              "#f0f921"
             ]
            ],
            "type": "heatmapgl"
           }
          ],
          "histogram": [
           {
            "marker": {
             "pattern": {
              "fillmode": "overlay",
              "size": 10,
              "solidity": 0.2
             }
            },
            "type": "histogram"
           }
          ],
          "histogram2d": [
           {
            "colorbar": {
             "outlinewidth": 0,
             "ticks": ""
            },
            "colorscale": [
             [
              0,
              "#0d0887"
             ],
             [
              0.1111111111111111,
              "#46039f"
             ],
             [
              0.2222222222222222,
              "#7201a8"
             ],
             [
              0.3333333333333333,
              "#9c179e"
             ],
             [
              0.4444444444444444,
              "#bd3786"
             ],
             [
              0.5555555555555556,
              "#d8576b"
             ],
             [
              0.6666666666666666,
              "#ed7953"
             ],
             [
              0.7777777777777778,
              "#fb9f3a"
             ],
             [
              0.8888888888888888,
              "#fdca26"
             ],
             [
              1,
              "#f0f921"
             ]
            ],
            "type": "histogram2d"
           }
          ],
          "histogram2dcontour": [
           {
            "colorbar": {
             "outlinewidth": 0,
             "ticks": ""
            },
            "colorscale": [
             [
              0,
              "#0d0887"
             ],
             [
              0.1111111111111111,
              "#46039f"
             ],
             [
              0.2222222222222222,
              "#7201a8"
             ],
             [
              0.3333333333333333,
              "#9c179e"
             ],
             [
              0.4444444444444444,
              "#bd3786"
             ],
             [
              0.5555555555555556,
              "#d8576b"
             ],
             [
              0.6666666666666666,
              "#ed7953"
             ],
             [
              0.7777777777777778,
              "#fb9f3a"
             ],
             [
              0.8888888888888888,
              "#fdca26"
             ],
             [
              1,
              "#f0f921"
             ]
            ],
            "type": "histogram2dcontour"
           }
          ],
          "mesh3d": [
           {
            "colorbar": {
             "outlinewidth": 0,
             "ticks": ""
            },
            "type": "mesh3d"
           }
          ],
          "parcoords": [
           {
            "line": {
             "colorbar": {
              "outlinewidth": 0,
              "ticks": ""
             }
            },
            "type": "parcoords"
           }
          ],
          "pie": [
           {
            "automargin": true,
            "type": "pie"
           }
          ],
          "scatter": [
           {
            "fillpattern": {
             "fillmode": "overlay",
             "size": 10,
             "solidity": 0.2
            },
            "type": "scatter"
           }
          ],
          "scatter3d": [
           {
            "line": {
             "colorbar": {
              "outlinewidth": 0,
              "ticks": ""
             }
            },
            "marker": {
             "colorbar": {
              "outlinewidth": 0,
              "ticks": ""
             }
            },
            "type": "scatter3d"
           }
          ],
          "scattercarpet": [
           {
            "marker": {
             "colorbar": {
              "outlinewidth": 0,
              "ticks": ""
             }
            },
            "type": "scattercarpet"
           }
          ],
          "scattergeo": [
           {
            "marker": {
             "colorbar": {
              "outlinewidth": 0,
              "ticks": ""
             }
            },
            "type": "scattergeo"
           }
          ],
          "scattergl": [
           {
            "marker": {
             "colorbar": {
              "outlinewidth": 0,
              "ticks": ""
             }
            },
            "type": "scattergl"
           }
          ],
          "scattermapbox": [
           {
            "marker": {
             "colorbar": {
              "outlinewidth": 0,
              "ticks": ""
             }
            },
            "type": "scattermapbox"
           }
          ],
          "scatterpolar": [
           {
            "marker": {
             "colorbar": {
              "outlinewidth": 0,
              "ticks": ""
             }
            },
            "type": "scatterpolar"
           }
          ],
          "scatterpolargl": [
           {
            "marker": {
             "colorbar": {
              "outlinewidth": 0,
              "ticks": ""
             }
            },
            "type": "scatterpolargl"
           }
          ],
          "scatterternary": [
           {
            "marker": {
             "colorbar": {
              "outlinewidth": 0,
              "ticks": ""
             }
            },
            "type": "scatterternary"
           }
          ],
          "surface": [
           {
            "colorbar": {
             "outlinewidth": 0,
             "ticks": ""
            },
            "colorscale": [
             [
              0,
              "#0d0887"
             ],
             [
              0.1111111111111111,
              "#46039f"
             ],
             [
              0.2222222222222222,
              "#7201a8"
             ],
             [
              0.3333333333333333,
              "#9c179e"
             ],
             [
              0.4444444444444444,
              "#bd3786"
             ],
             [
              0.5555555555555556,
              "#d8576b"
             ],
             [
              0.6666666666666666,
              "#ed7953"
             ],
             [
              0.7777777777777778,
              "#fb9f3a"
             ],
             [
              0.8888888888888888,
              "#fdca26"
             ],
             [
              1,
              "#f0f921"
             ]
            ],
            "type": "surface"
           }
          ],
          "table": [
           {
            "cells": {
             "fill": {
              "color": "#EBF0F8"
             },
             "line": {
              "color": "white"
             }
            },
            "header": {
             "fill": {
              "color": "#C8D4E3"
             },
             "line": {
              "color": "white"
             }
            },
            "type": "table"
           }
          ]
         },
         "layout": {
          "annotationdefaults": {
           "arrowcolor": "#2a3f5f",
           "arrowhead": 0,
           "arrowwidth": 1
          },
          "autotypenumbers": "strict",
          "coloraxis": {
           "colorbar": {
            "outlinewidth": 0,
            "ticks": ""
           }
          },
          "colorscale": {
           "diverging": [
            [
             0,
             "#8e0152"
            ],
            [
             0.1,
             "#c51b7d"
            ],
            [
             0.2,
             "#de77ae"
            ],
            [
             0.3,
             "#f1b6da"
            ],
            [
             0.4,
             "#fde0ef"
            ],
            [
             0.5,
             "#f7f7f7"
            ],
            [
             0.6,
             "#e6f5d0"
            ],
            [
             0.7,
             "#b8e186"
            ],
            [
             0.8,
             "#7fbc41"
            ],
            [
             0.9,
             "#4d9221"
            ],
            [
             1,
             "#276419"
            ]
           ],
           "sequential": [
            [
             0,
             "#0d0887"
            ],
            [
             0.1111111111111111,
             "#46039f"
            ],
            [
             0.2222222222222222,
             "#7201a8"
            ],
            [
             0.3333333333333333,
             "#9c179e"
            ],
            [
             0.4444444444444444,
             "#bd3786"
            ],
            [
             0.5555555555555556,
             "#d8576b"
            ],
            [
             0.6666666666666666,
             "#ed7953"
            ],
            [
             0.7777777777777778,
             "#fb9f3a"
            ],
            [
             0.8888888888888888,
             "#fdca26"
            ],
            [
             1,
             "#f0f921"
            ]
           ],
           "sequentialminus": [
            [
             0,
             "#0d0887"
            ],
            [
             0.1111111111111111,
             "#46039f"
            ],
            [
             0.2222222222222222,
             "#7201a8"
            ],
            [
             0.3333333333333333,
             "#9c179e"
            ],
            [
             0.4444444444444444,
             "#bd3786"
            ],
            [
             0.5555555555555556,
             "#d8576b"
            ],
            [
             0.6666666666666666,
             "#ed7953"
            ],
            [
             0.7777777777777778,
             "#fb9f3a"
            ],
            [
             0.8888888888888888,
             "#fdca26"
            ],
            [
             1,
             "#f0f921"
            ]
           ]
          },
          "colorway": [
           "#636efa",
           "#EF553B",
           "#00cc96",
           "#ab63fa",
           "#FFA15A",
           "#19d3f3",
           "#FF6692",
           "#B6E880",
           "#FF97FF",
           "#FECB52"
          ],
          "font": {
           "color": "#2a3f5f"
          },
          "geo": {
           "bgcolor": "white",
           "lakecolor": "white",
           "landcolor": "#E5ECF6",
           "showlakes": true,
           "showland": true,
           "subunitcolor": "white"
          },
          "hoverlabel": {
           "align": "left"
          },
          "hovermode": "closest",
          "mapbox": {
           "style": "light"
          },
          "paper_bgcolor": "white",
          "plot_bgcolor": "#E5ECF6",
          "polar": {
           "angularaxis": {
            "gridcolor": "white",
            "linecolor": "white",
            "ticks": ""
           },
           "bgcolor": "#E5ECF6",
           "radialaxis": {
            "gridcolor": "white",
            "linecolor": "white",
            "ticks": ""
           }
          },
          "scene": {
           "xaxis": {
            "backgroundcolor": "#E5ECF6",
            "gridcolor": "white",
            "gridwidth": 2,
            "linecolor": "white",
            "showbackground": true,
            "ticks": "",
            "zerolinecolor": "white"
           },
           "yaxis": {
            "backgroundcolor": "#E5ECF6",
            "gridcolor": "white",
            "gridwidth": 2,
            "linecolor": "white",
            "showbackground": true,
            "ticks": "",
            "zerolinecolor": "white"
           },
           "zaxis": {
            "backgroundcolor": "#E5ECF6",
            "gridcolor": "white",
            "gridwidth": 2,
            "linecolor": "white",
            "showbackground": true,
            "ticks": "",
            "zerolinecolor": "white"
           }
          },
          "shapedefaults": {
           "line": {
            "color": "#2a3f5f"
           }
          },
          "ternary": {
           "aaxis": {
            "gridcolor": "white",
            "linecolor": "white",
            "ticks": ""
           },
           "baxis": {
            "gridcolor": "white",
            "linecolor": "white",
            "ticks": ""
           },
           "bgcolor": "#E5ECF6",
           "caxis": {
            "gridcolor": "white",
            "linecolor": "white",
            "ticks": ""
           }
          },
          "title": {
           "x": 0.05
          },
          "xaxis": {
           "automargin": true,
           "gridcolor": "white",
           "linecolor": "white",
           "ticks": "",
           "title": {
            "standoff": 15
           },
           "zerolinecolor": "white",
           "zerolinewidth": 2
          },
          "yaxis": {
           "automargin": true,
           "gridcolor": "white",
           "linecolor": "white",
           "ticks": "",
           "title": {
            "standoff": 15
           },
           "zerolinecolor": "white",
           "zerolinewidth": 2
          }
         }
        },
        "title": {
         "text": ""
        },
        "width": 1800,
        "xaxis": {
         "anchor": "y",
         "domain": [
          0,
          0.1388888888888889
         ],
         "range": [
          -10,
          10
         ],
         "title": {
          "text": "heads output"
         }
        },
        "xaxis10": {
         "anchor": "y10",
         "domain": [
          0.5166666666666667,
          0.6555555555555557
         ]
        },
        "xaxis11": {
         "anchor": "y11",
         "domain": [
          0.6888888888888889,
          0.8277777777777777
         ]
        },
        "xaxis12": {
         "anchor": "y12",
         "domain": [
          0.861111111111111,
          1
         ]
        },
        "xaxis2": {
         "anchor": "y2",
         "domain": [
          0.17222222222222222,
          0.3111111111111111
         ],
         "range": [
          -10,
          10
         ],
         "title": {
          "text": "heads output"
         }
        },
        "xaxis3": {
         "anchor": "y3",
         "domain": [
          0.34444444444444444,
          0.48333333333333334
         ],
         "range": [
          -10,
          10
         ],
         "title": {
          "text": "heads output"
         }
        },
        "xaxis4": {
         "anchor": "y4",
         "domain": [
          0.5166666666666667,
          0.6555555555555557
         ],
         "range": [
          -10,
          10
         ],
         "title": {
          "text": "heads output"
         }
        },
        "xaxis5": {
         "anchor": "y5",
         "domain": [
          0.6888888888888889,
          0.8277777777777777
         ],
         "range": [
          -10,
          10
         ],
         "title": {
          "text": "heads output"
         }
        },
        "xaxis6": {
         "anchor": "y6",
         "domain": [
          0.861111111111111,
          1
         ],
         "range": [
          -10,
          10
         ],
         "title": {
          "text": "heads output"
         }
        },
        "xaxis7": {
         "anchor": "y7",
         "domain": [
          0,
          0.1388888888888889
         ],
         "range": [
          -5,
          5
         ],
         "title": {
          "text": "unembeddings"
         }
        },
        "xaxis8": {
         "anchor": "y8",
         "domain": [
          0.17222222222222222,
          0.3111111111111111
         ],
         "range": [
          -10,
          10
         ],
         "title": {
          "text": "output"
         }
        },
        "xaxis9": {
         "anchor": "y9",
         "domain": [
          0.34444444444444444,
          0.48333333333333334
         ]
        },
        "yaxis": {
         "anchor": "x",
         "domain": [
          0.625,
          1
         ],
         "range": [
          -10,
          10
         ],
         "title": {
          "text": ""
         }
        },
        "yaxis10": {
         "anchor": "x10",
         "domain": [
          0,
          0.375
         ]
        },
        "yaxis11": {
         "anchor": "x11",
         "domain": [
          0,
          0.375
         ]
        },
        "yaxis12": {
         "anchor": "x12",
         "domain": [
          0,
          0.375
         ]
        },
        "yaxis2": {
         "anchor": "x2",
         "domain": [
          0.625,
          1
         ],
         "range": [
          -10,
          10
         ],
         "title": {
          "text": ""
         }
        },
        "yaxis3": {
         "anchor": "x3",
         "domain": [
          0.625,
          1
         ],
         "range": [
          -10,
          10
         ],
         "title": {
          "text": ""
         }
        },
        "yaxis4": {
         "anchor": "x4",
         "domain": [
          0.625,
          1
         ],
         "range": [
          -10,
          10
         ],
         "title": {
          "text": ""
         }
        },
        "yaxis5": {
         "anchor": "x5",
         "domain": [
          0.625,
          1
         ],
         "range": [
          -10,
          10
         ],
         "title": {
          "text": ""
         }
        },
        "yaxis6": {
         "anchor": "x6",
         "domain": [
          0.625,
          1
         ],
         "range": [
          -10,
          10
         ],
         "title": {
          "text": ""
         }
        },
        "yaxis7": {
         "anchor": "x7",
         "domain": [
          0,
          0.375
         ],
         "range": [
          -5,
          5
         ],
         "title": {
          "text": ""
         }
        },
        "yaxis8": {
         "anchor": "x8",
         "domain": [
          0,
          0.375
         ],
         "range": [
          -10,
          10
         ],
         "title": {
          "text": ""
         }
        },
        "yaxis9": {
         "anchor": "x9",
         "domain": [
          0,
          0.375
         ]
        }
       }
      },
      "text/html": [
       "<div>                            <div id=\"a2de043f-cb0c-4162-bec6-b6fc5069ed0d\" class=\"plotly-graph-div\" style=\"height:600px; width:1800px;\"></div>            <script type=\"text/javascript\">                require([\"plotly\"], function(Plotly) {                    window.PLOTLYENV=window.PLOTLYENV || {};                                    if (document.getElementById(\"a2de043f-cb0c-4162-bec6-b6fc5069ed0d\")) {                    Plotly.newPlot(                        \"a2de043f-cb0c-4162-bec6-b6fc5069ed0d\",                        [{\"mode\":\"lines+markers+text\",\"name\":\"0\",\"text\":[null,\"0\"],\"textposition\":\"top center\",\"x\":[0.0,0.13711443543434143],\"y\":[0.0,-0.3445409834384918],\"type\":\"scatter\",\"xaxis\":\"x\",\"yaxis\":\"y\"},{\"mode\":\"lines+markers+text\",\"name\":\"1\",\"text\":[null,\"1\"],\"textposition\":\"top center\",\"x\":[0.0,-0.2287285178899765],\"y\":[0.0,0.574748694896698],\"type\":\"scatter\",\"xaxis\":\"x\",\"yaxis\":\"y\"},{\"mode\":\"lines+markers+text\",\"name\":\"2\",\"text\":[null,\"2\"],\"textposition\":\"top center\",\"x\":[0.0,-0.12069882452487946],\"y\":[0.0,0.30329182744026184],\"type\":\"scatter\",\"xaxis\":\"x\",\"yaxis\":\"y\"},{\"mode\":\"lines+markers+text\",\"name\":\"3\",\"text\":[null,\"3\"],\"textposition\":\"top center\",\"x\":[0.0,0.016603974625468254],\"y\":[0.0,-0.04172244668006897],\"type\":\"scatter\",\"xaxis\":\"x\",\"yaxis\":\"y\"},{\"mode\":\"lines+markers+text\",\"name\":\"4\",\"text\":[null,\"4\"],\"textposition\":\"top center\",\"x\":[0.0,0.14783988893032074],\"y\":[0.0,-0.3714918792247772],\"type\":\"scatter\",\"xaxis\":\"x\",\"yaxis\":\"y\"},{\"mode\":\"lines+markers+text\",\"name\":\"0\",\"text\":[null,\"0\"],\"textposition\":\"top center\",\"x\":[0.0,0.03388594835996628],\"y\":[0.0,-0.07360416650772095],\"type\":\"scatter\",\"xaxis\":\"x2\",\"yaxis\":\"y2\"},{\"mode\":\"lines+markers+text\",\"name\":\"1\",\"text\":[null,\"1\"],\"textposition\":\"top center\",\"x\":[0.0,-0.018430102616548538],\"y\":[0.0,0.04003230109810829],\"type\":\"scatter\",\"xaxis\":\"x2\",\"yaxis\":\"y2\"},{\"mode\":\"lines+markers+text\",\"name\":\"2\",\"text\":[null,\"2\"],\"textposition\":\"top center\",\"x\":[0.0,0.026890182867646217],\"y\":[0.0,-0.05840856209397316],\"type\":\"scatter\",\"xaxis\":\"x2\",\"yaxis\":\"y2\"},{\"mode\":\"lines+markers+text\",\"name\":\"3\",\"text\":[null,\"3\"],\"textposition\":\"top center\",\"x\":[0.0,-0.006181421224027872],\"y\":[0.0,0.013426756486296654],\"type\":\"scatter\",\"xaxis\":\"x2\",\"yaxis\":\"y2\"},{\"mode\":\"lines+markers+text\",\"name\":\"4\",\"text\":[null,\"4\"],\"textposition\":\"top center\",\"x\":[0.0,0.03445737436413765],\"y\":[0.0,-0.07484537363052368],\"type\":\"scatter\",\"xaxis\":\"x2\",\"yaxis\":\"y2\"},{\"mode\":\"lines+markers+text\",\"name\":\"0\",\"text\":[null,\"0\"],\"textposition\":\"top center\",\"x\":[0.0,0.9524136781692505],\"y\":[0.0,-0.7261844277381897],\"type\":\"scatter\",\"xaxis\":\"x3\",\"yaxis\":\"y3\"},{\"mode\":\"lines+markers+text\",\"name\":\"1\",\"text\":[null,\"1\"],\"textposition\":\"top center\",\"x\":[0.0,5.034361839294434],\"y\":[0.0,-3.8385372161865234],\"type\":\"scatter\",\"xaxis\":\"x3\",\"yaxis\":\"y3\"},{\"mode\":\"lines+markers+text\",\"name\":\"2\",\"text\":[null,\"2\"],\"textposition\":\"top center\",\"x\":[0.0,-2.6440038681030273],\"y\":[0.0,2.0159668922424316],\"type\":\"scatter\",\"xaxis\":\"x3\",\"yaxis\":\"y3\"},{\"mode\":\"lines+markers+text\",\"name\":\"3\",\"text\":[null,\"3\"],\"textposition\":\"top center\",\"x\":[0.0,8.357791900634766],\"y\":[0.0,-6.372543811798096],\"type\":\"scatter\",\"xaxis\":\"x3\",\"yaxis\":\"y3\"},{\"mode\":\"lines+markers+text\",\"name\":\"4\",\"text\":[null,\"4\"],\"textposition\":\"top center\",\"x\":[0.0,-5.935119152069092],\"y\":[0.0,4.525335311889648],\"type\":\"scatter\",\"xaxis\":\"x3\",\"yaxis\":\"y3\"},{\"mode\":\"lines+markers+text\",\"name\":\"0\",\"text\":[null,\"0\"],\"textposition\":\"top center\",\"x\":[0.0,-1.636703610420227],\"y\":[0.0,-6.111162185668945],\"type\":\"scatter\",\"xaxis\":\"x4\",\"yaxis\":\"y4\"},{\"mode\":\"lines+markers+text\",\"name\":\"1\",\"text\":[null,\"1\"],\"textposition\":\"top center\",\"x\":[0.0,0.2775712311267853],\"y\":[0.0,1.0364019870758057],\"type\":\"scatter\",\"xaxis\":\"x4\",\"yaxis\":\"y4\"},{\"mode\":\"lines+markers+text\",\"name\":\"2\",\"text\":[null,\"2\"],\"textposition\":\"top center\",\"x\":[0.0,1.437014102935791],\"y\":[0.0,5.365556716918945],\"type\":\"scatter\",\"xaxis\":\"x4\",\"yaxis\":\"y4\"},{\"mode\":\"lines+markers+text\",\"name\":\"3\",\"text\":[null,\"3\"],\"textposition\":\"top center\",\"x\":[0.0,-2.10994291305542],\"y\":[0.0,-7.878154277801514],\"type\":\"scatter\",\"xaxis\":\"x4\",\"yaxis\":\"y4\"},{\"mode\":\"lines+markers+text\",\"name\":\"4\",\"text\":[null,\"4\"],\"textposition\":\"top center\",\"x\":[0.0,0.7112360596656799],\"y\":[0.0,2.655629873275757],\"type\":\"scatter\",\"xaxis\":\"x4\",\"yaxis\":\"y4\"},{\"mode\":\"lines+markers+text\",\"name\":\"0\",\"text\":[null,\"0\"],\"textposition\":\"top center\",\"x\":[0.0,-0.3446033000946045],\"y\":[0.0,-0.7965759634971619],\"type\":\"scatter\",\"xaxis\":\"x5\",\"yaxis\":\"y5\"},{\"mode\":\"lines+markers+text\",\"name\":\"1\",\"text\":[null,\"1\"],\"textposition\":\"top center\",\"x\":[0.0,-1.0468159914016724],\"y\":[0.0,-2.419792413711548],\"type\":\"scatter\",\"xaxis\":\"x5\",\"yaxis\":\"y5\"},{\"mode\":\"lines+markers+text\",\"name\":\"2\",\"text\":[null,\"2\"],\"textposition\":\"top center\",\"x\":[0.0,-0.8354309797286987],\"y\":[0.0,-1.9311604499816895],\"type\":\"scatter\",\"xaxis\":\"x5\",\"yaxis\":\"y5\"},{\"mode\":\"lines+markers+text\",\"name\":\"3\",\"text\":[null,\"3\"],\"textposition\":\"top center\",\"x\":[0.0,-1.0785616636276245],\"y\":[0.0,-2.4931750297546387],\"type\":\"scatter\",\"xaxis\":\"x5\",\"yaxis\":\"y5\"},{\"mode\":\"lines+markers+text\",\"name\":\"4\",\"text\":[null,\"4\"],\"textposition\":\"top center\",\"x\":[0.0,0.0002223216142738238],\"y\":[0.0,0.0005139128188602626],\"type\":\"scatter\",\"xaxis\":\"x5\",\"yaxis\":\"y5\"},{\"mode\":\"lines+markers+text\",\"name\":\"0\",\"text\":[null,\"0\"],\"textposition\":\"top center\",\"x\":[0.0,-0.20757298171520233],\"y\":[0.0,-0.06884325295686722],\"type\":\"scatter\",\"xaxis\":\"x6\",\"yaxis\":\"y6\"},{\"mode\":\"lines+markers+text\",\"name\":\"1\",\"text\":[null,\"1\"],\"textposition\":\"top center\",\"x\":[0.0,0.011541670188307762],\"y\":[0.0,0.0038278880529105663],\"type\":\"scatter\",\"xaxis\":\"x6\",\"yaxis\":\"y6\"},{\"mode\":\"lines+markers+text\",\"name\":\"2\",\"text\":[null,\"2\"],\"textposition\":\"top center\",\"x\":[0.0,0.0027742343954741955],\"y\":[0.0,0.0009200972272083163],\"type\":\"scatter\",\"xaxis\":\"x6\",\"yaxis\":\"y6\"},{\"mode\":\"lines+markers+text\",\"name\":\"3\",\"text\":[null,\"3\"],\"textposition\":\"top center\",\"x\":[0.0,-0.1435728222131729],\"y\":[0.0,-0.04761708155274391],\"type\":\"scatter\",\"xaxis\":\"x6\",\"yaxis\":\"y6\"},{\"mode\":\"lines+markers+text\",\"name\":\"4\",\"text\":[null,\"4\"],\"textposition\":\"top center\",\"x\":[0.0,-0.18942750990390778],\"y\":[0.0,-0.06282516568899155],\"type\":\"scatter\",\"xaxis\":\"x6\",\"yaxis\":\"y6\"},{\"mode\":\"lines+markers+text\",\"name\":\"0\",\"text\":[null,\"0\"],\"textposition\":\"top center\",\"x\":[0.0,-0.7380790710449219],\"y\":[0.0,-1.0728460550308228],\"type\":\"scatter\",\"xaxis\":\"x7\",\"yaxis\":\"y7\"},{\"mode\":\"lines+markers+text\",\"name\":\"1\",\"text\":[null,\"1\"],\"textposition\":\"top center\",\"x\":[0.0,1.5124541521072388],\"y\":[0.0,0.22173123061656952],\"type\":\"scatter\",\"xaxis\":\"x7\",\"yaxis\":\"y7\"},{\"mode\":\"lines+markers+text\",\"name\":\"2\",\"text\":[null,\"2\"],\"textposition\":\"top center\",\"x\":[0.0,-0.17499911785125732],\"y\":[0.0,1.1923511028289795],\"type\":\"scatter\",\"xaxis\":\"x7\",\"yaxis\":\"y7\"},{\"mode\":\"lines+markers+text\",\"name\":\"3\",\"text\":[null,\"3\"],\"textposition\":\"top center\",\"x\":[0.0,0.7014053463935852],\"y\":[0.0,-0.8374024629592896],\"type\":\"scatter\",\"xaxis\":\"x7\",\"yaxis\":\"y7\"},{\"mode\":\"lines+markers+text\",\"name\":\"4\",\"text\":[null,\"4\"],\"textposition\":\"top center\",\"x\":[0.0,-1.0735126733779907],\"y\":[0.0,0.2950870394706726],\"type\":\"scatter\",\"xaxis\":\"x7\",\"yaxis\":\"y7\"},{\"mode\":\"lines+markers+text\",\"name\":\"0\",\"text\":[null,\"0\"],\"textposition\":\"top center\",\"x\":[0.0,-1.636703610420227],\"y\":[0.0,-6.111162185668945],\"type\":\"scatter\",\"xaxis\":\"x8\",\"yaxis\":\"y8\"},{\"mode\":\"lines+markers+text\",\"name\":\"1\",\"text\":[null,\"1\"],\"textposition\":\"top center\",\"x\":[0.0,5.034361839294434],\"y\":[0.0,-3.8385372161865234],\"type\":\"scatter\",\"xaxis\":\"x8\",\"yaxis\":\"y8\"},{\"mode\":\"lines+markers+text\",\"name\":\"2\",\"text\":[null,\"2\"],\"textposition\":\"top center\",\"x\":[0.0,1.437014102935791],\"y\":[0.0,5.365556716918945],\"type\":\"scatter\",\"xaxis\":\"x8\",\"yaxis\":\"y8\"},{\"mode\":\"lines+markers+text\",\"name\":\"3\",\"text\":[null,\"3\"],\"textposition\":\"top center\",\"x\":[0.0,8.357791900634766],\"y\":[0.0,-6.372543811798096],\"type\":\"scatter\",\"xaxis\":\"x8\",\"yaxis\":\"y8\"},{\"mode\":\"lines+markers+text\",\"name\":\"4\",\"text\":[null,\"4\"],\"textposition\":\"top center\",\"x\":[0.0,-5.935119152069092],\"y\":[0.0,4.525335311889648],\"type\":\"scatter\",\"xaxis\":\"x8\",\"yaxis\":\"y8\"}],                        {\"template\":{\"data\":{\"histogram2dcontour\":[{\"type\":\"histogram2dcontour\",\"colorbar\":{\"outlinewidth\":0,\"ticks\":\"\"},\"colorscale\":[[0.0,\"#0d0887\"],[0.1111111111111111,\"#46039f\"],[0.2222222222222222,\"#7201a8\"],[0.3333333333333333,\"#9c179e\"],[0.4444444444444444,\"#bd3786\"],[0.5555555555555556,\"#d8576b\"],[0.6666666666666666,\"#ed7953\"],[0.7777777777777778,\"#fb9f3a\"],[0.8888888888888888,\"#fdca26\"],[1.0,\"#f0f921\"]]}],\"choropleth\":[{\"type\":\"choropleth\",\"colorbar\":{\"outlinewidth\":0,\"ticks\":\"\"}}],\"histogram2d\":[{\"type\":\"histogram2d\",\"colorbar\":{\"outlinewidth\":0,\"ticks\":\"\"},\"colorscale\":[[0.0,\"#0d0887\"],[0.1111111111111111,\"#46039f\"],[0.2222222222222222,\"#7201a8\"],[0.3333333333333333,\"#9c179e\"],[0.4444444444444444,\"#bd3786\"],[0.5555555555555556,\"#d8576b\"],[0.6666666666666666,\"#ed7953\"],[0.7777777777777778,\"#fb9f3a\"],[0.8888888888888888,\"#fdca26\"],[1.0,\"#f0f921\"]]}],\"heatmap\":[{\"type\":\"heatmap\",\"colorbar\":{\"outlinewidth\":0,\"ticks\":\"\"},\"colorscale\":[[0.0,\"#0d0887\"],[0.1111111111111111,\"#46039f\"],[0.2222222222222222,\"#7201a8\"],[0.3333333333333333,\"#9c179e\"],[0.4444444444444444,\"#bd3786\"],[0.5555555555555556,\"#d8576b\"],[0.6666666666666666,\"#ed7953\"],[0.7777777777777778,\"#fb9f3a\"],[0.8888888888888888,\"#fdca26\"],[1.0,\"#f0f921\"]]}],\"heatmapgl\":[{\"type\":\"heatmapgl\",\"colorbar\":{\"outlinewidth\":0,\"ticks\":\"\"},\"colorscale\":[[0.0,\"#0d0887\"],[0.1111111111111111,\"#46039f\"],[0.2222222222222222,\"#7201a8\"],[0.3333333333333333,\"#9c179e\"],[0.4444444444444444,\"#bd3786\"],[0.5555555555555556,\"#d8576b\"],[0.6666666666666666,\"#ed7953\"],[0.7777777777777778,\"#fb9f3a\"],[0.8888888888888888,\"#fdca26\"],[1.0,\"#f0f921\"]]}],\"contourcarpet\":[{\"type\":\"contourcarpet\",\"colorbar\":{\"outlinewidth\":0,\"ticks\":\"\"}}],\"contour\":[{\"type\":\"contour\",\"colorbar\":{\"outlinewidth\":0,\"ticks\":\"\"},\"colorscale\":[[0.0,\"#0d0887\"],[0.1111111111111111,\"#46039f\"],[0.2222222222222222,\"#7201a8\"],[0.3333333333333333,\"#9c179e\"],[0.4444444444444444,\"#bd3786\"],[0.5555555555555556,\"#d8576b\"],[0.6666666666666666,\"#ed7953\"],[0.7777777777777778,\"#fb9f3a\"],[0.8888888888888888,\"#fdca26\"],[1.0,\"#f0f921\"]]}],\"surface\":[{\"type\":\"surface\",\"colorbar\":{\"outlinewidth\":0,\"ticks\":\"\"},\"colorscale\":[[0.0,\"#0d0887\"],[0.1111111111111111,\"#46039f\"],[0.2222222222222222,\"#7201a8\"],[0.3333333333333333,\"#9c179e\"],[0.4444444444444444,\"#bd3786\"],[0.5555555555555556,\"#d8576b\"],[0.6666666666666666,\"#ed7953\"],[0.7777777777777778,\"#fb9f3a\"],[0.8888888888888888,\"#fdca26\"],[1.0,\"#f0f921\"]]}],\"mesh3d\":[{\"type\":\"mesh3d\",\"colorbar\":{\"outlinewidth\":0,\"ticks\":\"\"}}],\"scatter\":[{\"fillpattern\":{\"fillmode\":\"overlay\",\"size\":10,\"solidity\":0.2},\"type\":\"scatter\"}],\"parcoords\":[{\"type\":\"parcoords\",\"line\":{\"colorbar\":{\"outlinewidth\":0,\"ticks\":\"\"}}}],\"scatterpolargl\":[{\"type\":\"scatterpolargl\",\"marker\":{\"colorbar\":{\"outlinewidth\":0,\"ticks\":\"\"}}}],\"bar\":[{\"error_x\":{\"color\":\"#2a3f5f\"},\"error_y\":{\"color\":\"#2a3f5f\"},\"marker\":{\"line\":{\"color\":\"#E5ECF6\",\"width\":0.5},\"pattern\":{\"fillmode\":\"overlay\",\"size\":10,\"solidity\":0.2}},\"type\":\"bar\"}],\"scattergeo\":[{\"type\":\"scattergeo\",\"marker\":{\"colorbar\":{\"outlinewidth\":0,\"ticks\":\"\"}}}],\"scatterpolar\":[{\"type\":\"scatterpolar\",\"marker\":{\"colorbar\":{\"outlinewidth\":0,\"ticks\":\"\"}}}],\"histogram\":[{\"marker\":{\"pattern\":{\"fillmode\":\"overlay\",\"size\":10,\"solidity\":0.2}},\"type\":\"histogram\"}],\"scattergl\":[{\"type\":\"scattergl\",\"marker\":{\"colorbar\":{\"outlinewidth\":0,\"ticks\":\"\"}}}],\"scatter3d\":[{\"type\":\"scatter3d\",\"line\":{\"colorbar\":{\"outlinewidth\":0,\"ticks\":\"\"}},\"marker\":{\"colorbar\":{\"outlinewidth\":0,\"ticks\":\"\"}}}],\"scattermapbox\":[{\"type\":\"scattermapbox\",\"marker\":{\"colorbar\":{\"outlinewidth\":0,\"ticks\":\"\"}}}],\"scatterternary\":[{\"type\":\"scatterternary\",\"marker\":{\"colorbar\":{\"outlinewidth\":0,\"ticks\":\"\"}}}],\"scattercarpet\":[{\"type\":\"scattercarpet\",\"marker\":{\"colorbar\":{\"outlinewidth\":0,\"ticks\":\"\"}}}],\"carpet\":[{\"aaxis\":{\"endlinecolor\":\"#2a3f5f\",\"gridcolor\":\"white\",\"linecolor\":\"white\",\"minorgridcolor\":\"white\",\"startlinecolor\":\"#2a3f5f\"},\"baxis\":{\"endlinecolor\":\"#2a3f5f\",\"gridcolor\":\"white\",\"linecolor\":\"white\",\"minorgridcolor\":\"white\",\"startlinecolor\":\"#2a3f5f\"},\"type\":\"carpet\"}],\"table\":[{\"cells\":{\"fill\":{\"color\":\"#EBF0F8\"},\"line\":{\"color\":\"white\"}},\"header\":{\"fill\":{\"color\":\"#C8D4E3\"},\"line\":{\"color\":\"white\"}},\"type\":\"table\"}],\"barpolar\":[{\"marker\":{\"line\":{\"color\":\"#E5ECF6\",\"width\":0.5},\"pattern\":{\"fillmode\":\"overlay\",\"size\":10,\"solidity\":0.2}},\"type\":\"barpolar\"}],\"pie\":[{\"automargin\":true,\"type\":\"pie\"}]},\"layout\":{\"autotypenumbers\":\"strict\",\"colorway\":[\"#636efa\",\"#EF553B\",\"#00cc96\",\"#ab63fa\",\"#FFA15A\",\"#19d3f3\",\"#FF6692\",\"#B6E880\",\"#FF97FF\",\"#FECB52\"],\"font\":{\"color\":\"#2a3f5f\"},\"hovermode\":\"closest\",\"hoverlabel\":{\"align\":\"left\"},\"paper_bgcolor\":\"white\",\"plot_bgcolor\":\"#E5ECF6\",\"polar\":{\"bgcolor\":\"#E5ECF6\",\"angularaxis\":{\"gridcolor\":\"white\",\"linecolor\":\"white\",\"ticks\":\"\"},\"radialaxis\":{\"gridcolor\":\"white\",\"linecolor\":\"white\",\"ticks\":\"\"}},\"ternary\":{\"bgcolor\":\"#E5ECF6\",\"aaxis\":{\"gridcolor\":\"white\",\"linecolor\":\"white\",\"ticks\":\"\"},\"baxis\":{\"gridcolor\":\"white\",\"linecolor\":\"white\",\"ticks\":\"\"},\"caxis\":{\"gridcolor\":\"white\",\"linecolor\":\"white\",\"ticks\":\"\"}},\"coloraxis\":{\"colorbar\":{\"outlinewidth\":0,\"ticks\":\"\"}},\"colorscale\":{\"sequential\":[[0.0,\"#0d0887\"],[0.1111111111111111,\"#46039f\"],[0.2222222222222222,\"#7201a8\"],[0.3333333333333333,\"#9c179e\"],[0.4444444444444444,\"#bd3786\"],[0.5555555555555556,\"#d8576b\"],[0.6666666666666666,\"#ed7953\"],[0.7777777777777778,\"#fb9f3a\"],[0.8888888888888888,\"#fdca26\"],[1.0,\"#f0f921\"]],\"sequentialminus\":[[0.0,\"#0d0887\"],[0.1111111111111111,\"#46039f\"],[0.2222222222222222,\"#7201a8\"],[0.3333333333333333,\"#9c179e\"],[0.4444444444444444,\"#bd3786\"],[0.5555555555555556,\"#d8576b\"],[0.6666666666666666,\"#ed7953\"],[0.7777777777777778,\"#fb9f3a\"],[0.8888888888888888,\"#fdca26\"],[1.0,\"#f0f921\"]],\"diverging\":[[0,\"#8e0152\"],[0.1,\"#c51b7d\"],[0.2,\"#de77ae\"],[0.3,\"#f1b6da\"],[0.4,\"#fde0ef\"],[0.5,\"#f7f7f7\"],[0.6,\"#e6f5d0\"],[0.7,\"#b8e186\"],[0.8,\"#7fbc41\"],[0.9,\"#4d9221\"],[1,\"#276419\"]]},\"xaxis\":{\"gridcolor\":\"white\",\"linecolor\":\"white\",\"ticks\":\"\",\"title\":{\"standoff\":15},\"zerolinecolor\":\"white\",\"automargin\":true,\"zerolinewidth\":2},\"yaxis\":{\"gridcolor\":\"white\",\"linecolor\":\"white\",\"ticks\":\"\",\"title\":{\"standoff\":15},\"zerolinecolor\":\"white\",\"automargin\":true,\"zerolinewidth\":2},\"scene\":{\"xaxis\":{\"backgroundcolor\":\"#E5ECF6\",\"gridcolor\":\"white\",\"linecolor\":\"white\",\"showbackground\":true,\"ticks\":\"\",\"zerolinecolor\":\"white\",\"gridwidth\":2},\"yaxis\":{\"backgroundcolor\":\"#E5ECF6\",\"gridcolor\":\"white\",\"linecolor\":\"white\",\"showbackground\":true,\"ticks\":\"\",\"zerolinecolor\":\"white\",\"gridwidth\":2},\"zaxis\":{\"backgroundcolor\":\"#E5ECF6\",\"gridcolor\":\"white\",\"linecolor\":\"white\",\"showbackground\":true,\"ticks\":\"\",\"zerolinecolor\":\"white\",\"gridwidth\":2}},\"shapedefaults\":{\"line\":{\"color\":\"#2a3f5f\"}},\"annotationdefaults\":{\"arrowcolor\":\"#2a3f5f\",\"arrowhead\":0,\"arrowwidth\":1},\"geo\":{\"bgcolor\":\"white\",\"landcolor\":\"#E5ECF6\",\"subunitcolor\":\"white\",\"showland\":true,\"showlakes\":true,\"lakecolor\":\"white\"},\"title\":{\"x\":0.05},\"mapbox\":{\"style\":\"light\"}}},\"xaxis\":{\"anchor\":\"y\",\"domain\":[0.0,0.1388888888888889],\"title\":{\"text\":\"heads output\"},\"range\":[-10,10]},\"yaxis\":{\"anchor\":\"x\",\"domain\":[0.625,1.0],\"title\":{\"text\":\"\"},\"range\":[-10,10]},\"xaxis2\":{\"anchor\":\"y2\",\"domain\":[0.17222222222222222,0.3111111111111111],\"title\":{\"text\":\"heads output\"},\"range\":[-10,10]},\"yaxis2\":{\"anchor\":\"x2\",\"domain\":[0.625,1.0],\"title\":{\"text\":\"\"},\"range\":[-10,10]},\"xaxis3\":{\"anchor\":\"y3\",\"domain\":[0.34444444444444444,0.48333333333333334],\"title\":{\"text\":\"heads output\"},\"range\":[-10,10]},\"yaxis3\":{\"anchor\":\"x3\",\"domain\":[0.625,1.0],\"title\":{\"text\":\"\"},\"range\":[-10,10]},\"xaxis4\":{\"anchor\":\"y4\",\"domain\":[0.5166666666666667,0.6555555555555557],\"title\":{\"text\":\"heads output\"},\"range\":[-10,10]},\"yaxis4\":{\"anchor\":\"x4\",\"domain\":[0.625,1.0],\"title\":{\"text\":\"\"},\"range\":[-10,10]},\"xaxis5\":{\"anchor\":\"y5\",\"domain\":[0.6888888888888889,0.8277777777777777],\"title\":{\"text\":\"heads output\"},\"range\":[-10,10]},\"yaxis5\":{\"anchor\":\"x5\",\"domain\":[0.625,1.0],\"title\":{\"text\":\"\"},\"range\":[-10,10]},\"xaxis6\":{\"anchor\":\"y6\",\"domain\":[0.861111111111111,1.0],\"title\":{\"text\":\"heads output\"},\"range\":[-10,10]},\"yaxis6\":{\"anchor\":\"x6\",\"domain\":[0.625,1.0],\"title\":{\"text\":\"\"},\"range\":[-10,10]},\"xaxis7\":{\"anchor\":\"y7\",\"domain\":[0.0,0.1388888888888889],\"title\":{\"text\":\"unembeddings\"},\"range\":[-5,5]},\"yaxis7\":{\"anchor\":\"x7\",\"domain\":[0.0,0.375],\"title\":{\"text\":\"\"},\"range\":[-5,5]},\"xaxis8\":{\"anchor\":\"y8\",\"domain\":[0.17222222222222222,0.3111111111111111],\"title\":{\"text\":\"output\"},\"range\":[-10,10]},\"yaxis8\":{\"anchor\":\"x8\",\"domain\":[0.0,0.375],\"title\":{\"text\":\"\"},\"range\":[-10,10]},\"xaxis9\":{\"anchor\":\"y9\",\"domain\":[0.34444444444444444,0.48333333333333334]},\"yaxis9\":{\"anchor\":\"x9\",\"domain\":[0.0,0.375]},\"xaxis10\":{\"anchor\":\"y10\",\"domain\":[0.5166666666666667,0.6555555555555557]},\"yaxis10\":{\"anchor\":\"x10\",\"domain\":[0.0,0.375]},\"xaxis11\":{\"anchor\":\"y11\",\"domain\":[0.6888888888888889,0.8277777777777777]},\"yaxis11\":{\"anchor\":\"x11\",\"domain\":[0.0,0.375]},\"xaxis12\":{\"anchor\":\"y12\",\"domain\":[0.861111111111111,1.0]},\"yaxis12\":{\"anchor\":\"x12\",\"domain\":[0.0,0.375]},\"annotations\":[{\"font\":{\"size\":16},\"showarrow\":false,\"text\":\"head 1\",\"x\":0.06944444444444445,\"xanchor\":\"center\",\"xref\":\"paper\",\"y\":1.0,\"yanchor\":\"bottom\",\"yref\":\"paper\"},{\"font\":{\"size\":16},\"showarrow\":false,\"text\":\"head 2\",\"x\":0.24166666666666667,\"xanchor\":\"center\",\"xref\":\"paper\",\"y\":1.0,\"yanchor\":\"bottom\",\"yref\":\"paper\"},{\"font\":{\"size\":16},\"showarrow\":false,\"text\":\"head 3\",\"x\":0.41388888888888886,\"xanchor\":\"center\",\"xref\":\"paper\",\"y\":1.0,\"yanchor\":\"bottom\",\"yref\":\"paper\"},{\"font\":{\"size\":16},\"showarrow\":false,\"text\":\"head 4\",\"x\":0.5861111111111112,\"xanchor\":\"center\",\"xref\":\"paper\",\"y\":1.0,\"yanchor\":\"bottom\",\"yref\":\"paper\"},{\"font\":{\"size\":16},\"showarrow\":false,\"text\":\"head 5\",\"x\":0.7583333333333333,\"xanchor\":\"center\",\"xref\":\"paper\",\"y\":1.0,\"yanchor\":\"bottom\",\"yref\":\"paper\"},{\"font\":{\"size\":16},\"showarrow\":false,\"text\":\"head 6\",\"x\":0.9305555555555556,\"xanchor\":\"center\",\"xref\":\"paper\",\"y\":1.0,\"yanchor\":\"bottom\",\"yref\":\"paper\"}],\"title\":{\"text\":\"\"},\"width\":1800,\"height\":600,\"showlegend\":false},                        {\"responsive\": true}                    ).then(function(){\n",
       "                            \n",
       "var gd = document.getElementById('a2de043f-cb0c-4162-bec6-b6fc5069ed0d');\n",
       "var x = new MutationObserver(function (mutations, observer) {{\n",
       "        var display = window.getComputedStyle(gd).display;\n",
       "        if (!display || display === 'none') {{\n",
       "            console.log([gd, 'removed!']);\n",
       "            Plotly.purge(gd);\n",
       "            observer.disconnect();\n",
       "        }}\n",
       "}});\n",
       "\n",
       "// Listen for the removal of the full notebook cells\n",
       "var notebookContainer = gd.closest('#notebook-container');\n",
       "if (notebookContainer) {{\n",
       "    x.observe(notebookContainer, {childList: true});\n",
       "}}\n",
       "\n",
       "// Listen for the clearing of the current output cell\n",
       "var outputEl = gd.closest('.output');\n",
       "if (outputEl) {{\n",
       "    x.observe(outputEl, {childList: true});\n",
       "}}\n",
       "\n",
       "                        })                };                });            </script>        </div>"
      ]
     },
     "metadata": {},
     "output_type": "display_data"
    }
   ],
   "source": [
    "import torch\n",
    "import plotly.graph_objects as go\n",
    "from plotly.subplots import make_subplots\n",
    "\n",
    "vector_out_heads = [out_heads[:, i] for i in range(out_heads.size(1))]\n",
    "vector_unembeds = [unembeds[i] for i in range(unembeds.size(0))]\n",
    "vector_out = [out[i] for i in range(out.size(0))]\n",
    "\n",
    "names_out_heads = [\n",
    "    [f'{i}' for i in range(out_heads[:, j].size(0))] for j in range(out_heads.size(1))\n",
    "]\n",
    "names_unembeds = [\n",
    "    [f'{i}' for i in range(unembeds[j].size(0))] for j in range(unembeds.size(0))\n",
    "]\n",
    "names_out = [\n",
    "    [f'{i}' for i in range(out[j].size(0))] for j in range(out.size(0))\n",
    "]\n",
    "\n",
    "fig = make_subplots(rows=2, cols=len(vector_out_heads), subplot_titles=[f'head {i+1}' for i in range(len(vector_out_heads))])\n",
    "\n",
    "for idx, (vectors, names) in enumerate(zip(vector_out_heads, names_out_heads)):\n",
    "    x_start = torch.zeros(vectors.size(0))\n",
    "    y_start = torch.zeros(vectors.size(0))\n",
    "\n",
    "    x_end = vectors[:, 0]\n",
    "    y_end = vectors[:, 1]\n",
    "\n",
    "    for i in range(vectors.size(0)):\n",
    "        fig.add_trace(go.Scatter(\n",
    "            x=[x_start[i].item(), x_end[i].item()],\n",
    "            y=[y_start[i].item(), y_end[i].item()],\n",
    "            mode='lines+markers+text',\n",
    "            text=[None, names[i]],  # 在终点添加文本\n",
    "            textposition='top center',  # 文本位置\n",
    "            name=names[i],\n",
    "        ), row=1, col=idx+1)\n",
    "\n",
    "for idx, (vectors, names) in enumerate(zip(vector_unembeds, names_unembeds)):\n",
    "    x_start = torch.zeros(vectors.size(0))\n",
    "    y_start = torch.zeros(vectors.size(0))\n",
    "\n",
    "    x_end = vectors[:, 0]\n",
    "    y_end = vectors[:, 1]\n",
    "\n",
    "    for i in range(vectors.size(0)):\n",
    "        fig.add_trace(go.Scatter(\n",
    "            x=[x_start[i].item(), x_end[i].item()],\n",
    "            y=[y_start[i].item(), y_end[i].item()],\n",
    "            mode='lines+markers+text',\n",
    "            text=[None, names[i]],  # 在终点添加文本\n",
    "            textposition='top center',  # 文本位置\n",
    "            name=names[i],\n",
    "        ), row=2, col=idx+1)\n",
    "        \n",
    "for idx, (vectors, names) in enumerate(zip(vector_out, names_out)):\n",
    "    x_start = torch.zeros(vectors.size(0))\n",
    "    y_start = torch.zeros(vectors.size(0))\n",
    "\n",
    "    x_end = vectors[:, 0]\n",
    "    y_end = vectors[:, 1]\n",
    "\n",
    "    for i in range(vectors.size(0)):\n",
    "        fig.add_trace(go.Scatter(\n",
    "            x=[x_start[i].item(), x_end[i].item()],\n",
    "            y=[y_start[i].item(), y_end[i].item()],\n",
    "            mode='lines+markers+text',\n",
    "            text=[None, names[i]],  # 在终点添加文本\n",
    "            textposition='top center',  # 文本位置\n",
    "            name=names[i],\n",
    "        ), row=2, col=idx+2)\n",
    "        \n",
    "fig.update_layout(\n",
    "    title='',\n",
    "    width=300 * len(vector_out_heads),\n",
    "    height=300 * 2,\n",
    "    showlegend=False\n",
    ")\n",
    "\n",
    "for idx in range(len(vector_out_heads)):\n",
    "    fig.update_xaxes(range=[-10, 10], row=1, col=idx+1, title_text='heads output')\n",
    "    fig.update_yaxes(range=[-10, 10], row=1, col=idx+1, title_text='')\n",
    "\n",
    "for idx in range(1):\n",
    "    fig.update_xaxes(range=[-5, 5], row=2, col=idx+1, title_text='unembeddings')\n",
    "    fig.update_yaxes(range=[-5, 5], row=2, col=idx+1, title_text='')\n",
    "    fig.update_xaxes(range=[-10, 10], row=2, col=idx+2, title_text='output')\n",
    "    fig.update_yaxes(range=[-10, 10], row=2, col=idx+2, title_text='')\n",
    "\n",
    "# 显示图形\n",
    "fig.show()\n"
   ]
  },
  {
   "cell_type": "code",
   "execution_count": 200,
   "metadata": {},
   "outputs": [
    {
     "name": "stdout",
     "output_type": "stream",
     "text": [
      "tensor([[[1.0000, 0.0000],\n",
      "         [0.2648, 0.7352]],\n",
      "\n",
      "        [[1.0000, 0.0000],\n",
      "         [0.4964, 0.5036]],\n",
      "\n",
      "        [[1.0000, 0.0000],\n",
      "         [0.0088, 0.9912]],\n",
      "\n",
      "        [[1.0000, 0.0000],\n",
      "         [0.9143, 0.0857]],\n",
      "\n",
      "        [[1.0000, 0.0000],\n",
      "         [0.0024, 0.9976]]], device='cuda:0')\n"
     ]
    }
   ],
   "source": [
    "print(pattern[:, 2])"
   ]
  }
 ],
 "metadata": {
  "kernelspec": {
   "display_name": "attn",
   "language": "python",
   "name": "attn"
  }
 },
 "nbformat": 4,
 "nbformat_minor": 2
}
